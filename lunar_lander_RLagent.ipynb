{
  "cells": [
    {
      "cell_type": "markdown",
      "metadata": {
        "id": "view-in-github",
        "colab_type": "text"
      },
      "source": [
        "<a href=\"https://colab.research.google.com/github/blt-tsp/ppo-agent/blob/main/lunar_lander_RLagent.ipynb\" target=\"_parent\"><img src=\"https://colab.research.google.com/assets/colab-badge.svg\" alt=\"Open In Colab\"/></a>"
      ]
    },
    {
      "cell_type": "code",
      "execution_count": 3,
      "metadata": {
        "colab": {
          "base_uri": "https://localhost:8080/"
        },
        "id": "dMBcWrz527zG",
        "outputId": "681e085d-254f-4c7f-baf0-f6c80b9feb49"
      },
      "outputs": [
        {
          "output_type": "stream",
          "name": "stdout",
          "text": [
            "Requirement already satisfied: ray[rllib] in /usr/local/lib/python3.10/dist-packages (2.9.0)\n",
            "Requirement already satisfied: click>=7.0 in /usr/local/lib/python3.10/dist-packages (from ray[rllib]) (8.1.7)\n",
            "Requirement already satisfied: filelock in /usr/local/lib/python3.10/dist-packages (from ray[rllib]) (3.13.1)\n",
            "Requirement already satisfied: jsonschema in /usr/local/lib/python3.10/dist-packages (from ray[rllib]) (4.19.2)\n",
            "Requirement already satisfied: msgpack<2.0.0,>=1.0.0 in /usr/local/lib/python3.10/dist-packages (from ray[rllib]) (1.0.7)\n",
            "Requirement already satisfied: packaging in /usr/local/lib/python3.10/dist-packages (from ray[rllib]) (23.2)\n",
            "Requirement already satisfied: protobuf!=3.19.5,>=3.15.3 in /usr/local/lib/python3.10/dist-packages (from ray[rllib]) (3.20.3)\n",
            "Requirement already satisfied: pyyaml in /usr/local/lib/python3.10/dist-packages (from ray[rllib]) (6.0.1)\n",
            "Requirement already satisfied: aiosignal in /usr/local/lib/python3.10/dist-packages (from ray[rllib]) (1.3.1)\n",
            "Requirement already satisfied: frozenlist in /usr/local/lib/python3.10/dist-packages (from ray[rllib]) (1.4.1)\n",
            "Requirement already satisfied: requests in /usr/local/lib/python3.10/dist-packages (from ray[rllib]) (2.31.0)\n",
            "Requirement already satisfied: pandas in /usr/local/lib/python3.10/dist-packages (from ray[rllib]) (1.5.3)\n",
            "Requirement already satisfied: tensorboardX>=1.9 in /usr/local/lib/python3.10/dist-packages (from ray[rllib]) (2.6.2.2)\n",
            "Requirement already satisfied: pyarrow>=6.0.1 in /usr/local/lib/python3.10/dist-packages (from ray[rllib]) (10.0.1)\n",
            "Requirement already satisfied: fsspec in /usr/local/lib/python3.10/dist-packages (from ray[rllib]) (2023.6.0)\n",
            "Requirement already satisfied: dm-tree in /usr/local/lib/python3.10/dist-packages (from ray[rllib]) (0.1.8)\n",
            "Requirement already satisfied: gymnasium==0.28.1 in /usr/local/lib/python3.10/dist-packages (from ray[rllib]) (0.28.1)\n",
            "Requirement already satisfied: lz4 in /usr/local/lib/python3.10/dist-packages (from ray[rllib]) (4.3.3)\n",
            "Requirement already satisfied: scikit-image in /usr/local/lib/python3.10/dist-packages (from ray[rllib]) (0.19.3)\n",
            "Requirement already satisfied: scipy in /usr/local/lib/python3.10/dist-packages (from ray[rllib]) (1.11.4)\n",
            "Requirement already satisfied: typer in /usr/local/lib/python3.10/dist-packages (from ray[rllib]) (0.9.0)\n",
            "Requirement already satisfied: rich in /usr/local/lib/python3.10/dist-packages (from ray[rllib]) (13.7.0)\n",
            "Requirement already satisfied: numpy>=1.21.0 in /usr/local/lib/python3.10/dist-packages (from gymnasium==0.28.1->ray[rllib]) (1.23.5)\n",
            "Requirement already satisfied: jax-jumpy>=1.0.0 in /usr/local/lib/python3.10/dist-packages (from gymnasium==0.28.1->ray[rllib]) (1.0.0)\n",
            "Requirement already satisfied: cloudpickle>=1.2.0 in /usr/local/lib/python3.10/dist-packages (from gymnasium==0.28.1->ray[rllib]) (2.2.1)\n",
            "Requirement already satisfied: typing-extensions>=4.3.0 in /usr/local/lib/python3.10/dist-packages (from gymnasium==0.28.1->ray[rllib]) (4.5.0)\n",
            "Requirement already satisfied: farama-notifications>=0.0.1 in /usr/local/lib/python3.10/dist-packages (from gymnasium==0.28.1->ray[rllib]) (0.0.4)\n",
            "Requirement already satisfied: attrs>=22.2.0 in /usr/local/lib/python3.10/dist-packages (from jsonschema->ray[rllib]) (23.1.0)\n",
            "Requirement already satisfied: jsonschema-specifications>=2023.03.6 in /usr/local/lib/python3.10/dist-packages (from jsonschema->ray[rllib]) (2023.11.2)\n",
            "Requirement already satisfied: referencing>=0.28.4 in /usr/local/lib/python3.10/dist-packages (from jsonschema->ray[rllib]) (0.32.0)\n",
            "Requirement already satisfied: rpds-py>=0.7.1 in /usr/local/lib/python3.10/dist-packages (from jsonschema->ray[rllib]) (0.15.2)\n",
            "Requirement already satisfied: python-dateutil>=2.8.1 in /usr/local/lib/python3.10/dist-packages (from pandas->ray[rllib]) (2.8.2)\n",
            "Requirement already satisfied: pytz>=2020.1 in /usr/local/lib/python3.10/dist-packages (from pandas->ray[rllib]) (2023.3.post1)\n",
            "Requirement already satisfied: charset-normalizer<4,>=2 in /usr/local/lib/python3.10/dist-packages (from requests->ray[rllib]) (3.3.2)\n",
            "Requirement already satisfied: idna<4,>=2.5 in /usr/local/lib/python3.10/dist-packages (from requests->ray[rllib]) (3.6)\n",
            "Requirement already satisfied: urllib3<3,>=1.21.1 in /usr/local/lib/python3.10/dist-packages (from requests->ray[rllib]) (2.0.7)\n",
            "Requirement already satisfied: certifi>=2017.4.17 in /usr/local/lib/python3.10/dist-packages (from requests->ray[rllib]) (2023.11.17)\n",
            "Requirement already satisfied: markdown-it-py>=2.2.0 in /usr/local/lib/python3.10/dist-packages (from rich->ray[rllib]) (3.0.0)\n",
            "Requirement already satisfied: pygments<3.0.0,>=2.13.0 in /usr/local/lib/python3.10/dist-packages (from rich->ray[rllib]) (2.16.1)\n",
            "Requirement already satisfied: networkx>=2.2 in /usr/local/lib/python3.10/dist-packages (from scikit-image->ray[rllib]) (3.2.1)\n",
            "Requirement already satisfied: pillow!=7.1.0,!=7.1.1,!=8.3.0,>=6.1.0 in /usr/local/lib/python3.10/dist-packages (from scikit-image->ray[rllib]) (9.4.0)\n",
            "Requirement already satisfied: imageio>=2.4.1 in /usr/local/lib/python3.10/dist-packages (from scikit-image->ray[rllib]) (2.31.6)\n",
            "Requirement already satisfied: tifffile>=2019.7.26 in /usr/local/lib/python3.10/dist-packages (from scikit-image->ray[rllib]) (2023.12.9)\n",
            "Requirement already satisfied: PyWavelets>=1.1.1 in /usr/local/lib/python3.10/dist-packages (from scikit-image->ray[rllib]) (1.5.0)\n",
            "Requirement already satisfied: mdurl~=0.1 in /usr/local/lib/python3.10/dist-packages (from markdown-it-py>=2.2.0->rich->ray[rllib]) (0.1.2)\n",
            "Requirement already satisfied: six>=1.5 in /usr/local/lib/python3.10/dist-packages (from python-dateutil>=2.8.1->pandas->ray[rllib]) (1.16.0)\n"
          ]
        }
      ],
      "source": [
        "!pip install 'ray[rllib]'"
      ]
    },
    {
      "cell_type": "code",
      "execution_count": 4,
      "metadata": {
        "colab": {
          "base_uri": "https://localhost:8080/"
        },
        "id": "7RU8_1YK3A7I",
        "outputId": "ec8ad571-b76e-46a4-e619-a4494ecd6ec7"
      },
      "outputs": [
        {
          "output_type": "stream",
          "name": "stdout",
          "text": [
            "Requirement already satisfied: tensorflow in /usr/local/lib/python3.10/dist-packages (2.15.0)\n",
            "Requirement already satisfied: absl-py>=1.0.0 in /usr/local/lib/python3.10/dist-packages (from tensorflow) (1.4.0)\n",
            "Requirement already satisfied: astunparse>=1.6.0 in /usr/local/lib/python3.10/dist-packages (from tensorflow) (1.6.3)\n",
            "Requirement already satisfied: flatbuffers>=23.5.26 in /usr/local/lib/python3.10/dist-packages (from tensorflow) (23.5.26)\n",
            "Requirement already satisfied: gast!=0.5.0,!=0.5.1,!=0.5.2,>=0.2.1 in /usr/local/lib/python3.10/dist-packages (from tensorflow) (0.5.4)\n",
            "Requirement already satisfied: google-pasta>=0.1.1 in /usr/local/lib/python3.10/dist-packages (from tensorflow) (0.2.0)\n",
            "Requirement already satisfied: h5py>=2.9.0 in /usr/local/lib/python3.10/dist-packages (from tensorflow) (3.9.0)\n",
            "Requirement already satisfied: libclang>=13.0.0 in /usr/local/lib/python3.10/dist-packages (from tensorflow) (16.0.6)\n",
            "Requirement already satisfied: ml-dtypes~=0.2.0 in /usr/local/lib/python3.10/dist-packages (from tensorflow) (0.2.0)\n",
            "Requirement already satisfied: numpy<2.0.0,>=1.23.5 in /usr/local/lib/python3.10/dist-packages (from tensorflow) (1.23.5)\n",
            "Requirement already satisfied: opt-einsum>=2.3.2 in /usr/local/lib/python3.10/dist-packages (from tensorflow) (3.3.0)\n",
            "Requirement already satisfied: packaging in /usr/local/lib/python3.10/dist-packages (from tensorflow) (23.2)\n",
            "Requirement already satisfied: protobuf!=4.21.0,!=4.21.1,!=4.21.2,!=4.21.3,!=4.21.4,!=4.21.5,<5.0.0dev,>=3.20.3 in /usr/local/lib/python3.10/dist-packages (from tensorflow) (3.20.3)\n",
            "Requirement already satisfied: setuptools in /usr/local/lib/python3.10/dist-packages (from tensorflow) (67.7.2)\n",
            "Requirement already satisfied: six>=1.12.0 in /usr/local/lib/python3.10/dist-packages (from tensorflow) (1.16.0)\n",
            "Requirement already satisfied: termcolor>=1.1.0 in /usr/local/lib/python3.10/dist-packages (from tensorflow) (2.4.0)\n",
            "Requirement already satisfied: typing-extensions>=3.6.6 in /usr/local/lib/python3.10/dist-packages (from tensorflow) (4.5.0)\n",
            "Requirement already satisfied: wrapt<1.15,>=1.11.0 in /usr/local/lib/python3.10/dist-packages (from tensorflow) (1.14.1)\n",
            "Requirement already satisfied: tensorflow-io-gcs-filesystem>=0.23.1 in /usr/local/lib/python3.10/dist-packages (from tensorflow) (0.35.0)\n",
            "Requirement already satisfied: grpcio<2.0,>=1.24.3 in /usr/local/lib/python3.10/dist-packages (from tensorflow) (1.60.0)\n",
            "Requirement already satisfied: tensorboard<2.16,>=2.15 in /usr/local/lib/python3.10/dist-packages (from tensorflow) (2.15.1)\n",
            "Requirement already satisfied: tensorflow-estimator<2.16,>=2.15.0 in /usr/local/lib/python3.10/dist-packages (from tensorflow) (2.15.0)\n",
            "Requirement already satisfied: keras<2.16,>=2.15.0 in /usr/local/lib/python3.10/dist-packages (from tensorflow) (2.15.0)\n",
            "Requirement already satisfied: wheel<1.0,>=0.23.0 in /usr/local/lib/python3.10/dist-packages (from astunparse>=1.6.0->tensorflow) (0.42.0)\n",
            "Requirement already satisfied: google-auth<3,>=1.6.3 in /usr/local/lib/python3.10/dist-packages (from tensorboard<2.16,>=2.15->tensorflow) (2.17.3)\n",
            "Requirement already satisfied: google-auth-oauthlib<2,>=0.5 in /usr/local/lib/python3.10/dist-packages (from tensorboard<2.16,>=2.15->tensorflow) (1.2.0)\n",
            "Requirement already satisfied: markdown>=2.6.8 in /usr/local/lib/python3.10/dist-packages (from tensorboard<2.16,>=2.15->tensorflow) (3.5.1)\n",
            "Requirement already satisfied: requests<3,>=2.21.0 in /usr/local/lib/python3.10/dist-packages (from tensorboard<2.16,>=2.15->tensorflow) (2.31.0)\n",
            "Requirement already satisfied: tensorboard-data-server<0.8.0,>=0.7.0 in /usr/local/lib/python3.10/dist-packages (from tensorboard<2.16,>=2.15->tensorflow) (0.7.2)\n",
            "Requirement already satisfied: werkzeug>=1.0.1 in /usr/local/lib/python3.10/dist-packages (from tensorboard<2.16,>=2.15->tensorflow) (3.0.1)\n",
            "Requirement already satisfied: cachetools<6.0,>=2.0.0 in /usr/local/lib/python3.10/dist-packages (from google-auth<3,>=1.6.3->tensorboard<2.16,>=2.15->tensorflow) (5.3.2)\n",
            "Requirement already satisfied: pyasn1-modules>=0.2.1 in /usr/local/lib/python3.10/dist-packages (from google-auth<3,>=1.6.3->tensorboard<2.16,>=2.15->tensorflow) (0.3.0)\n",
            "Requirement already satisfied: rsa<5,>=3.1.4 in /usr/local/lib/python3.10/dist-packages (from google-auth<3,>=1.6.3->tensorboard<2.16,>=2.15->tensorflow) (4.9)\n",
            "Requirement already satisfied: requests-oauthlib>=0.7.0 in /usr/local/lib/python3.10/dist-packages (from google-auth-oauthlib<2,>=0.5->tensorboard<2.16,>=2.15->tensorflow) (1.3.1)\n",
            "Requirement already satisfied: charset-normalizer<4,>=2 in /usr/local/lib/python3.10/dist-packages (from requests<3,>=2.21.0->tensorboard<2.16,>=2.15->tensorflow) (3.3.2)\n",
            "Requirement already satisfied: idna<4,>=2.5 in /usr/local/lib/python3.10/dist-packages (from requests<3,>=2.21.0->tensorboard<2.16,>=2.15->tensorflow) (3.6)\n",
            "Requirement already satisfied: urllib3<3,>=1.21.1 in /usr/local/lib/python3.10/dist-packages (from requests<3,>=2.21.0->tensorboard<2.16,>=2.15->tensorflow) (2.0.7)\n",
            "Requirement already satisfied: certifi>=2017.4.17 in /usr/local/lib/python3.10/dist-packages (from requests<3,>=2.21.0->tensorboard<2.16,>=2.15->tensorflow) (2023.11.17)\n",
            "Requirement already satisfied: MarkupSafe>=2.1.1 in /usr/local/lib/python3.10/dist-packages (from werkzeug>=1.0.1->tensorboard<2.16,>=2.15->tensorflow) (2.1.3)\n",
            "Requirement already satisfied: pyasn1<0.6.0,>=0.4.6 in /usr/local/lib/python3.10/dist-packages (from pyasn1-modules>=0.2.1->google-auth<3,>=1.6.3->tensorboard<2.16,>=2.15->tensorflow) (0.5.1)\n",
            "Requirement already satisfied: oauthlib>=3.0.0 in /usr/local/lib/python3.10/dist-packages (from requests-oauthlib>=0.7.0->google-auth-oauthlib<2,>=0.5->tensorboard<2.16,>=2.15->tensorflow) (3.2.2)\n"
          ]
        }
      ],
      "source": [
        "!pip install tensorflow"
      ]
    },
    {
      "cell_type": "code",
      "execution_count": 5,
      "metadata": {
        "colab": {
          "base_uri": "https://localhost:8080/"
        },
        "id": "etouYW9yDhPi",
        "outputId": "8c4d87bb-ff4c-4f00-cdb1-413f066f52c8"
      },
      "outputs": [
        {
          "output_type": "stream",
          "name": "stdout",
          "text": [
            "Reading package lists... Done\n",
            "Building dependency tree... Done\n",
            "Reading state information... Done\n",
            "swig is already the newest version (4.0.2-1ubuntu1).\n",
            "cmake is already the newest version (3.22.1-1ubuntu1.22.04.1).\n",
            "0 upgraded, 0 newly installed, 0 to remove and 24 not upgraded.\n"
          ]
        }
      ],
      "source": [
        "!apt install swig cmake"
      ]
    },
    {
      "cell_type": "code",
      "execution_count": 6,
      "metadata": {
        "colab": {
          "base_uri": "https://localhost:8080/"
        },
        "id": "zrgrtyyrDmdy",
        "outputId": "32a8657a-7678-4a3f-d30a-6e6cce01a969"
      },
      "outputs": [
        {
          "output_type": "stream",
          "name": "stdout",
          "text": [
            "Requirement already satisfied: stable-baselines3==2.0.0a5 in /usr/local/lib/python3.10/dist-packages (from -r https://raw.githubusercontent.com/huggingface/deep-rl-class/main/notebooks/unit1/requirements-unit1.txt (line 1)) (2.0.0a5)\n",
            "Requirement already satisfied: swig in /usr/local/lib/python3.10/dist-packages (from -r https://raw.githubusercontent.com/huggingface/deep-rl-class/main/notebooks/unit1/requirements-unit1.txt (line 2)) (4.1.1.post1)\n",
            "Requirement already satisfied: gymnasium[box2d] in /usr/local/lib/python3.10/dist-packages (from -r https://raw.githubusercontent.com/huggingface/deep-rl-class/main/notebooks/unit1/requirements-unit1.txt (line 3)) (0.28.1)\n",
            "Requirement already satisfied: huggingface_sb3 in /usr/local/lib/python3.10/dist-packages (from -r https://raw.githubusercontent.com/huggingface/deep-rl-class/main/notebooks/unit1/requirements-unit1.txt (line 4)) (3.0)\n",
            "Requirement already satisfied: numpy in /usr/local/lib/python3.10/dist-packages (from stable-baselines3==2.0.0a5->-r https://raw.githubusercontent.com/huggingface/deep-rl-class/main/notebooks/unit1/requirements-unit1.txt (line 1)) (1.23.5)\n",
            "Requirement already satisfied: torch>=1.11 in /usr/local/lib/python3.10/dist-packages (from stable-baselines3==2.0.0a5->-r https://raw.githubusercontent.com/huggingface/deep-rl-class/main/notebooks/unit1/requirements-unit1.txt (line 1)) (2.1.0+cu121)\n",
            "Requirement already satisfied: cloudpickle in /usr/local/lib/python3.10/dist-packages (from stable-baselines3==2.0.0a5->-r https://raw.githubusercontent.com/huggingface/deep-rl-class/main/notebooks/unit1/requirements-unit1.txt (line 1)) (2.2.1)\n",
            "Requirement already satisfied: pandas in /usr/local/lib/python3.10/dist-packages (from stable-baselines3==2.0.0a5->-r https://raw.githubusercontent.com/huggingface/deep-rl-class/main/notebooks/unit1/requirements-unit1.txt (line 1)) (1.5.3)\n",
            "Requirement already satisfied: matplotlib in /usr/local/lib/python3.10/dist-packages (from stable-baselines3==2.0.0a5->-r https://raw.githubusercontent.com/huggingface/deep-rl-class/main/notebooks/unit1/requirements-unit1.txt (line 1)) (3.7.1)\n",
            "Requirement already satisfied: jax-jumpy>=1.0.0 in /usr/local/lib/python3.10/dist-packages (from gymnasium[box2d]->-r https://raw.githubusercontent.com/huggingface/deep-rl-class/main/notebooks/unit1/requirements-unit1.txt (line 3)) (1.0.0)\n",
            "Requirement already satisfied: typing-extensions>=4.3.0 in /usr/local/lib/python3.10/dist-packages (from gymnasium[box2d]->-r https://raw.githubusercontent.com/huggingface/deep-rl-class/main/notebooks/unit1/requirements-unit1.txt (line 3)) (4.5.0)\n",
            "Requirement already satisfied: farama-notifications>=0.0.1 in /usr/local/lib/python3.10/dist-packages (from gymnasium[box2d]->-r https://raw.githubusercontent.com/huggingface/deep-rl-class/main/notebooks/unit1/requirements-unit1.txt (line 3)) (0.0.4)\n",
            "Requirement already satisfied: box2d-py==2.3.5 in /usr/local/lib/python3.10/dist-packages (from gymnasium[box2d]->-r https://raw.githubusercontent.com/huggingface/deep-rl-class/main/notebooks/unit1/requirements-unit1.txt (line 3)) (2.3.5)\n",
            "Requirement already satisfied: pygame==2.1.3 in /usr/local/lib/python3.10/dist-packages (from gymnasium[box2d]->-r https://raw.githubusercontent.com/huggingface/deep-rl-class/main/notebooks/unit1/requirements-unit1.txt (line 3)) (2.1.3)\n",
            "Requirement already satisfied: huggingface-hub~=0.8 in /usr/local/lib/python3.10/dist-packages (from huggingface_sb3->-r https://raw.githubusercontent.com/huggingface/deep-rl-class/main/notebooks/unit1/requirements-unit1.txt (line 4)) (0.20.1)\n",
            "Requirement already satisfied: pyyaml~=6.0 in /usr/local/lib/python3.10/dist-packages (from huggingface_sb3->-r https://raw.githubusercontent.com/huggingface/deep-rl-class/main/notebooks/unit1/requirements-unit1.txt (line 4)) (6.0.1)\n",
            "Requirement already satisfied: wasabi in /usr/local/lib/python3.10/dist-packages (from huggingface_sb3->-r https://raw.githubusercontent.com/huggingface/deep-rl-class/main/notebooks/unit1/requirements-unit1.txt (line 4)) (1.1.2)\n",
            "Requirement already satisfied: filelock in /usr/local/lib/python3.10/dist-packages (from huggingface-hub~=0.8->huggingface_sb3->-r https://raw.githubusercontent.com/huggingface/deep-rl-class/main/notebooks/unit1/requirements-unit1.txt (line 4)) (3.13.1)\n",
            "Requirement already satisfied: fsspec>=2023.5.0 in /usr/local/lib/python3.10/dist-packages (from huggingface-hub~=0.8->huggingface_sb3->-r https://raw.githubusercontent.com/huggingface/deep-rl-class/main/notebooks/unit1/requirements-unit1.txt (line 4)) (2023.6.0)\n",
            "Requirement already satisfied: requests in /usr/local/lib/python3.10/dist-packages (from huggingface-hub~=0.8->huggingface_sb3->-r https://raw.githubusercontent.com/huggingface/deep-rl-class/main/notebooks/unit1/requirements-unit1.txt (line 4)) (2.31.0)\n",
            "Requirement already satisfied: tqdm>=4.42.1 in /usr/local/lib/python3.10/dist-packages (from huggingface-hub~=0.8->huggingface_sb3->-r https://raw.githubusercontent.com/huggingface/deep-rl-class/main/notebooks/unit1/requirements-unit1.txt (line 4)) (4.66.1)\n",
            "Requirement already satisfied: packaging>=20.9 in /usr/local/lib/python3.10/dist-packages (from huggingface-hub~=0.8->huggingface_sb3->-r https://raw.githubusercontent.com/huggingface/deep-rl-class/main/notebooks/unit1/requirements-unit1.txt (line 4)) (23.2)\n",
            "Requirement already satisfied: sympy in /usr/local/lib/python3.10/dist-packages (from torch>=1.11->stable-baselines3==2.0.0a5->-r https://raw.githubusercontent.com/huggingface/deep-rl-class/main/notebooks/unit1/requirements-unit1.txt (line 1)) (1.12)\n",
            "Requirement already satisfied: networkx in /usr/local/lib/python3.10/dist-packages (from torch>=1.11->stable-baselines3==2.0.0a5->-r https://raw.githubusercontent.com/huggingface/deep-rl-class/main/notebooks/unit1/requirements-unit1.txt (line 1)) (3.2.1)\n",
            "Requirement already satisfied: jinja2 in /usr/local/lib/python3.10/dist-packages (from torch>=1.11->stable-baselines3==2.0.0a5->-r https://raw.githubusercontent.com/huggingface/deep-rl-class/main/notebooks/unit1/requirements-unit1.txt (line 1)) (3.1.2)\n",
            "Requirement already satisfied: triton==2.1.0 in /usr/local/lib/python3.10/dist-packages (from torch>=1.11->stable-baselines3==2.0.0a5->-r https://raw.githubusercontent.com/huggingface/deep-rl-class/main/notebooks/unit1/requirements-unit1.txt (line 1)) (2.1.0)\n",
            "Requirement already satisfied: contourpy>=1.0.1 in /usr/local/lib/python3.10/dist-packages (from matplotlib->stable-baselines3==2.0.0a5->-r https://raw.githubusercontent.com/huggingface/deep-rl-class/main/notebooks/unit1/requirements-unit1.txt (line 1)) (1.2.0)\n",
            "Requirement already satisfied: cycler>=0.10 in /usr/local/lib/python3.10/dist-packages (from matplotlib->stable-baselines3==2.0.0a5->-r https://raw.githubusercontent.com/huggingface/deep-rl-class/main/notebooks/unit1/requirements-unit1.txt (line 1)) (0.12.1)\n",
            "Requirement already satisfied: fonttools>=4.22.0 in /usr/local/lib/python3.10/dist-packages (from matplotlib->stable-baselines3==2.0.0a5->-r https://raw.githubusercontent.com/huggingface/deep-rl-class/main/notebooks/unit1/requirements-unit1.txt (line 1)) (4.47.0)\n",
            "Requirement already satisfied: kiwisolver>=1.0.1 in /usr/local/lib/python3.10/dist-packages (from matplotlib->stable-baselines3==2.0.0a5->-r https://raw.githubusercontent.com/huggingface/deep-rl-class/main/notebooks/unit1/requirements-unit1.txt (line 1)) (1.4.5)\n",
            "Requirement already satisfied: pillow>=6.2.0 in /usr/local/lib/python3.10/dist-packages (from matplotlib->stable-baselines3==2.0.0a5->-r https://raw.githubusercontent.com/huggingface/deep-rl-class/main/notebooks/unit1/requirements-unit1.txt (line 1)) (9.4.0)\n",
            "Requirement already satisfied: pyparsing>=2.3.1 in /usr/local/lib/python3.10/dist-packages (from matplotlib->stable-baselines3==2.0.0a5->-r https://raw.githubusercontent.com/huggingface/deep-rl-class/main/notebooks/unit1/requirements-unit1.txt (line 1)) (3.1.1)\n",
            "Requirement already satisfied: python-dateutil>=2.7 in /usr/local/lib/python3.10/dist-packages (from matplotlib->stable-baselines3==2.0.0a5->-r https://raw.githubusercontent.com/huggingface/deep-rl-class/main/notebooks/unit1/requirements-unit1.txt (line 1)) (2.8.2)\n",
            "Requirement already satisfied: pytz>=2020.1 in /usr/local/lib/python3.10/dist-packages (from pandas->stable-baselines3==2.0.0a5->-r https://raw.githubusercontent.com/huggingface/deep-rl-class/main/notebooks/unit1/requirements-unit1.txt (line 1)) (2023.3.post1)\n",
            "Requirement already satisfied: six>=1.5 in /usr/local/lib/python3.10/dist-packages (from python-dateutil>=2.7->matplotlib->stable-baselines3==2.0.0a5->-r https://raw.githubusercontent.com/huggingface/deep-rl-class/main/notebooks/unit1/requirements-unit1.txt (line 1)) (1.16.0)\n",
            "Requirement already satisfied: MarkupSafe>=2.0 in /usr/local/lib/python3.10/dist-packages (from jinja2->torch>=1.11->stable-baselines3==2.0.0a5->-r https://raw.githubusercontent.com/huggingface/deep-rl-class/main/notebooks/unit1/requirements-unit1.txt (line 1)) (2.1.3)\n",
            "Requirement already satisfied: charset-normalizer<4,>=2 in /usr/local/lib/python3.10/dist-packages (from requests->huggingface-hub~=0.8->huggingface_sb3->-r https://raw.githubusercontent.com/huggingface/deep-rl-class/main/notebooks/unit1/requirements-unit1.txt (line 4)) (3.3.2)\n",
            "Requirement already satisfied: idna<4,>=2.5 in /usr/local/lib/python3.10/dist-packages (from requests->huggingface-hub~=0.8->huggingface_sb3->-r https://raw.githubusercontent.com/huggingface/deep-rl-class/main/notebooks/unit1/requirements-unit1.txt (line 4)) (3.6)\n",
            "Requirement already satisfied: urllib3<3,>=1.21.1 in /usr/local/lib/python3.10/dist-packages (from requests->huggingface-hub~=0.8->huggingface_sb3->-r https://raw.githubusercontent.com/huggingface/deep-rl-class/main/notebooks/unit1/requirements-unit1.txt (line 4)) (2.0.7)\n",
            "Requirement already satisfied: certifi>=2017.4.17 in /usr/local/lib/python3.10/dist-packages (from requests->huggingface-hub~=0.8->huggingface_sb3->-r https://raw.githubusercontent.com/huggingface/deep-rl-class/main/notebooks/unit1/requirements-unit1.txt (line 4)) (2023.11.17)\n",
            "Requirement already satisfied: mpmath>=0.19 in /usr/local/lib/python3.10/dist-packages (from sympy->torch>=1.11->stable-baselines3==2.0.0a5->-r https://raw.githubusercontent.com/huggingface/deep-rl-class/main/notebooks/unit1/requirements-unit1.txt (line 1)) (1.3.0)\n"
          ]
        }
      ],
      "source": [
        "!pip install -r https://raw.githubusercontent.com/huggingface/deep-rl-class/main/notebooks/unit1/requirements-unit1.txt"
      ]
    },
    {
      "cell_type": "markdown",
      "metadata": {
        "id": "yx3k0Twf3KZp"
      },
      "source": [
        "# Understanding environnement\n",
        "## Tests and running some sequences from Lunar Lander env"
      ]
    },
    {
      "cell_type": "code",
      "execution_count": null,
      "metadata": {
        "colab": {
          "base_uri": "https://localhost:8080/"
        },
        "id": "Ni2gR3Ua3G5u",
        "outputId": "15301dbf-7159-4195-de2d-3d902ba6d59f"
      },
      "outputs": [
        {
          "name": "stdout",
          "output_type": "stream",
          "text": [
            "Action : 2\n",
            "Action : 2\n",
            "Action : 0\n",
            "Action : 1\n",
            "Action : 0\n",
            "Action : 3\n",
            "Action : 1\n",
            "Action : 1\n",
            "Action : 0\n",
            "Action : 3\n"
          ]
        }
      ],
      "source": [
        "import gymnasium as gym\n",
        "\n",
        "# Creating and reset env\n",
        "\n",
        "env = gym.make(\"LunarLander-v2\")\n",
        "obs, info = env.reset()\n",
        "\n",
        "for _ in range(10):\n",
        "\n",
        "  # Taking random action from the space\n",
        "  action = env.action_space.sample()\n",
        "  print(\"Action :\", action)\n",
        "\n",
        "  # Carry out action in env and getting observations and bool if timeout or crash\n",
        "  obs, reward, timeout, crashed, info = env.step(action)\n",
        "\n",
        "  if timeout or crashed :\n",
        "    print(\"Reset\")\n",
        "    obs, info = env.reset()\n",
        "\n",
        "# don't forget to close env\n",
        "env.close()"
      ]
    },
    {
      "cell_type": "code",
      "execution_count": null,
      "metadata": {
        "colab": {
          "base_uri": "https://localhost:8080/"
        },
        "id": "b2kdArlr7AZ8",
        "outputId": "84bdaf2b-c9ef-4357-a36d-0778f465ac86"
      },
      "outputs": [
        {
          "name": "stdout",
          "output_type": "stream",
          "text": [
            "Observation space shape : (8,)\n",
            "Sample observation : [74.311905   69.35948    -0.20637977  0.83572084  2.883601   -1.0164675\n",
            "  0.09314613  0.7761887 ]\n"
          ]
        }
      ],
      "source": [
        "env = gym.make(\"LunarLander-v2\")\n",
        "env.reset()\n",
        "\n",
        "print(\"Observation space shape :\", env.observation_space.shape)\n",
        "print(\"Sample observation :\", env.observation_space.sample()) # Get a random observation"
      ]
    },
    {
      "cell_type": "markdown",
      "metadata": {
        "id": "LrGyW2DE7TNI"
      },
      "source": [
        " - observation vector :\n",
        "x, y, v_x, v_y, angle, v_angle, ?, ?"
      ]
    },
    {
      "cell_type": "code",
      "execution_count": null,
      "metadata": {
        "colab": {
          "base_uri": "https://localhost:8080/"
        },
        "id": "h8Fty50o7P_U",
        "outputId": "f468e3c6-13d5-4366-d395-2848eb8dfbb2"
      },
      "outputs": [
        {
          "name": "stdout",
          "output_type": "stream",
          "text": [
            "Action space shape : 4\n",
            "Action space sample : 3\n"
          ]
        }
      ],
      "source": [
        "print(\"Action space shape :\", env.action_space.n)\n",
        "print(\"Action space sample :\", env.action_space.sample()) # Take a random action"
      ]
    },
    {
      "cell_type": "markdown",
      "metadata": {
        "id": "QdBfiIoo7-Ib"
      },
      "source": [
        "- Action 0: Do nothing,\n",
        "- Action 1: Fire left orientation engine,\n",
        "- Action 2: Fire the main engine,\n",
        "- Action 3: Fire right orientation engine.\n"
      ]
    },
    {
      "cell_type": "code",
      "execution_count": null,
      "metadata": {
        "id": "FBq4W4lN97fa"
      },
      "outputs": [],
      "source": [
        "env.close()"
      ]
    },
    {
      "cell_type": "markdown",
      "metadata": {
        "id": "8dybYfi3-SCX"
      },
      "source": [
        "# Creating the agent"
      ]
    },
    {
      "cell_type": "markdown",
      "metadata": {
        "id": "ZQtxxQVgK3TP"
      },
      "source": [
        "## train.py"
      ]
    },
    {
      "cell_type": "code",
      "execution_count": null,
      "metadata": {
        "colab": {
          "base_uri": "https://localhost:8080/",
          "height": 546
        },
        "id": "4Q1oHPZmiQBt",
        "outputId": "8a68a065-51e2-483f-e673-51010bfd90c3"
      },
      "outputs": [
        {
          "name": "stdout",
          "output_type": "stream",
          "text": [
            "Requirement already satisfied: gym in /usr/local/lib/python3.10/dist-packages (0.2.0)\n",
            "Collecting gym\n",
            "  Downloading gym-0.26.2.tar.gz (721 kB)\n",
            "\u001b[2K     \u001b[90m━━━━━━━━━━━━━━━━━━━━━━━━━━━━━━━━━━━━━━━━\u001b[0m \u001b[32m721.7/721.7 kB\u001b[0m \u001b[31m3.4 MB/s\u001b[0m eta \u001b[36m0:00:00\u001b[0m\n",
            "\u001b[?25h  Installing build dependencies ... \u001b[?25l\u001b[?25hdone\n",
            "  Getting requirements to build wheel ... \u001b[?25l\u001b[?25hdone\n",
            "  Preparing metadata (pyproject.toml) ... \u001b[?25l\u001b[?25hdone\n",
            "Requirement already satisfied: numpy>=1.18.0 in /usr/local/lib/python3.10/dist-packages (from gym) (1.23.5)\n",
            "Requirement already satisfied: cloudpickle>=1.2.0 in /usr/local/lib/python3.10/dist-packages (from gym) (2.2.1)\n",
            "Requirement already satisfied: gym-notices>=0.0.4 in /usr/local/lib/python3.10/dist-packages (from gym) (0.0.8)\n",
            "Building wheels for collected packages: gym\n",
            "  Building wheel for gym (pyproject.toml) ... \u001b[?25l\u001b[?25hdone\n",
            "  Created wheel for gym: filename=gym-0.26.2-py3-none-any.whl size=827618 sha256=5e2fa4b60df847a13bb421ec64960f39fe735eb69759ec244fafd23adff4cd17\n",
            "  Stored in directory: /root/.cache/pip/wheels/b9/22/6d/3e7b32d98451b4cd9d12417052affbeeeea012955d437da1da\n",
            "Successfully built gym\n",
            "Installing collected packages: gym\n",
            "  Attempting uninstall: gym\n",
            "    Found existing installation: gym 0.2.0\n",
            "    Uninstalling gym-0.2.0:\n",
            "      Successfully uninstalled gym-0.2.0\n",
            "\u001b[31mERROR: pip's dependency resolver does not currently take into account all the packages that are installed. This behaviour is the source of the following dependency conflicts.\n",
            "dopamine-rl 4.0.6 requires gym<=0.25.2, but you have gym 0.26.2 which is incompatible.\u001b[0m\u001b[31m\n",
            "\u001b[0mSuccessfully installed gym-0.26.2\n"
          ]
        },
        {
          "data": {
            "application/vnd.colab-display-data+json": {
              "pip_warning": {
                "packages": [
                  "gym"
                ]
              }
            }
          },
          "metadata": {},
          "output_type": "display_data"
        }
      ],
      "source": [
        "!pip install --upgrade gym"
      ]
    },
    {
      "cell_type": "code",
      "execution_count": 2,
      "metadata": {
        "id": "tz9u8wEXDTM6"
      },
      "outputs": [],
      "source": [
        "import ray\n",
        "from ray import tune\n",
        "from ray.rllib.algorithms import ppo\n",
        "from ray.tune.logger import pretty_print\n",
        "import gym\n",
        "import matplotlib.pyplot as plt\n",
        "\n",
        "ray.shutdown()\n",
        "\n",
        "def train_ppo(env_name, reward_fn, lr, lbd, clip_param):\n",
        "  # Define environment and config\n",
        "  config = {\n",
        "      \"env\": env_name,\n",
        "      \"reward_fn\": reward_fn,\n",
        "      \"framework\": \"tf\",\n",
        "      \"num_workers\": 1,\n",
        "      \"lambda\": lbd,\n",
        "      \"clip_param\": clip_param,\n",
        "      \"lr\": lr,\n",
        "      \"gamma\": 0.99,\n",
        "      \"sgd_minibatch_size\": 256,\n",
        "      \"train_batch_size\": 2000,\n",
        "      \"num_iterations\": 100000,\n",
        "  }\n",
        "\n",
        "  # Agent training\n",
        "  results = tune.run(\n",
        "      \"PPO\",\n",
        "      name = \"my_experiment\",\n",
        "      config=config,\n",
        "      stop={\"timesteps_total\": 100000},\n",
        "      checkpoint_at_end=True,\n",
        "      metric=\"episode_reward_mean\",\n",
        "      mode=\"max\",\n",
        "  )\n",
        "\n",
        "  return results"
      ]
    },
    {
      "cell_type": "code",
      "execution_count": null,
      "metadata": {
        "id": "4P62ZDoQi3rq"
      },
      "outputs": [],
      "source": [
        "# Launch training in discrete space, using best hyperparams\n",
        "ray.init(num_cpus=2, num_gpus=0, ignore_reinit_error=True)\n",
        "res = train_ppo('LunarLander-v2', lr=3e-4, lbd=0.9, clip_param=0.2)\n",
        "ray.shutdown()"
      ]
    },
    {
      "cell_type": "code",
      "execution_count": null,
      "metadata": {
        "colab": {
          "base_uri": "https://localhost:8080/",
          "height": 510
        },
        "id": "HEB-atxCLg62",
        "outputId": "45e283f8-9cb9-433d-d523-8921f6b66e2a"
      },
      "outputs": [
        {
          "data": {
            "image/png": "[encoded data removed]",
            "text/plain": [
              "<Figure size 640x480 with 1 Axes>"
            ]
          },
          "metadata": {},
          "output_type": "display_data"
        },
        {
          "name": "stdout",
          "output_type": "stream",
          "text": [
            "Best Checkpoint for Trial PPO_LunarLander-v2_17142_00000: Checkpoint(filesystem=local, path=/root/ray_results/my_experiment/PPO_LunarLander-v2_17142_00000_0_2024-01-07_10-54-11/checkpoint_000000)\n"
          ]
        }
      ],
      "source": [
        "# Extract results and plot learning curves\n",
        "%matplotlib inline\n",
        "\n",
        "def analyze_and_plot(results):\n",
        "  analysis = tune.ExperimentAnalysis(results.experiment_path)\n",
        "  dfs = analysis.trial_dataframes\n",
        "  threshold = 0\n",
        "\n",
        "  for trial, df in dfs.items():\n",
        "      episode_rewards_mean = df[\"episode_reward_mean\"]\n",
        "      plt.plot(episode_rewards_mean, '+', label=f\"Trial {trial}\", color='b')\n",
        "      plt.axhline(y=threshold, color='r', linestyle='--', label='Training objective')\n",
        "\n",
        "  plt.title(\"Learning Curve - Episode Reward Mean\")\n",
        "  plt.xlabel(\"Episode\")\n",
        "  plt.ylabel(\"Mean Reward\")\n",
        "  plt.legend()\n",
        "  plt.show()\n",
        "  # Save the best checkpoint for each trial\n",
        "  for trial in analysis.trials:\n",
        "      best_checkpoint = analysis.get_best_checkpoint(trial, metric=\"episode_reward_mean\", mode=\"max\")\n",
        "      print(f\"Best Checkpoint for Trial {trial}: {best_checkpoint}\");\n",
        "\n",
        "# Learning curve - reward by episode\n",
        "analyze_and_plot(res)\n",
        "\n",
        "ray.shutdown()"
      ]
    },
    {
      "cell_type": "code",
      "execution_count": null,
      "metadata": {
        "id": "fWhahsxIkRV0"
      },
      "outputs": [],
      "source": [
        "# restore a model from the last checkpoint\n",
        "trial = res.get_best_trial(\"episode_reward_mean\", \"max\")\n",
        "checkpoint = res.get_best_checkpoint(\n",
        "  trial,\n",
        "  \"training_iteration\",\n",
        "  \"max\",\n",
        ")\n",
        "ray.shutdown()"
      ]
    },
    {
      "cell_type": "markdown",
      "metadata": {
        "id": "wcSgJhZFoGim"
      },
      "source": [
        "## Rollout and visualize landing"
      ]
    },
    {
      "cell_type": "code",
      "execution_count": null,
      "metadata": {
        "colab": {
          "base_uri": "https://localhost:8080/",
          "height": 399
        },
        "id": "bXT6CjLU1-Nb",
        "outputId": "628089ec-f54c-4c73-8374-ceeb877876db"
      },
      "outputs": [
        {
          "ename": "AttributeError",
          "evalue": "module 'gym' has no attribute 'spaces'",
          "output_type": "error",
          "traceback": [
            "\u001b[0;31m---------------------------------------------------------------------------\u001b[0m",
            "\u001b[0;31mAttributeError\u001b[0m                            Traceback (most recent call last)",
            "\u001b[0;32m<ipython-input-3-d15bb7a69e14>\u001b[0m in \u001b[0;36m<cell line: 2>\u001b[0;34m()\u001b[0m\n\u001b[1;32m      1\u001b[0m \u001b[0;31m# Perform a rollout\u001b[0m\u001b[0;34m\u001b[0m\u001b[0;34m\u001b[0m\u001b[0m\n\u001b[0;32m----> 2\u001b[0;31m \u001b[0;32mfrom\u001b[0m \u001b[0mray\u001b[0m\u001b[0;34m.\u001b[0m\u001b[0mrllib\u001b[0m\u001b[0;34m.\u001b[0m\u001b[0malgorithms\u001b[0m \u001b[0;32mimport\u001b[0m \u001b[0mAlgorithm\u001b[0m\u001b[0;34m\u001b[0m\u001b[0;34m\u001b[0m\u001b[0m\n\u001b[0m\u001b[1;32m      3\u001b[0m \u001b[0;32mimport\u001b[0m \u001b[0mray\u001b[0m\u001b[0;34m\u001b[0m\u001b[0;34m\u001b[0m\u001b[0m\n\u001b[1;32m      4\u001b[0m \u001b[0;32mimport\u001b[0m \u001b[0mgym\u001b[0m\u001b[0;34m\u001b[0m\u001b[0;34m\u001b[0m\u001b[0m\n\u001b[1;32m      5\u001b[0m \u001b[0;32mimport\u001b[0m \u001b[0mmatplotlib\u001b[0m\u001b[0;34m.\u001b[0m\u001b[0mpyplot\u001b[0m \u001b[0;32mas\u001b[0m \u001b[0mplt\u001b[0m\u001b[0;34m\u001b[0m\u001b[0;34m\u001b[0m\u001b[0m\n",
            "\u001b[0;32m/usr/local/lib/python3.10/dist-packages/ray/rllib/__init__.py\u001b[0m in \u001b[0;36m<module>\u001b[0;34m\u001b[0m\n\u001b[1;32m      5\u001b[0m \u001b[0;31m# Note: do not introduce unnecessary library dependencies here, e.g. gym.\u001b[0m\u001b[0;34m\u001b[0m\u001b[0;34m\u001b[0m\u001b[0m\n\u001b[1;32m      6\u001b[0m \u001b[0;31m# This file is imported from the tune module in order to register RLlib agents.\u001b[0m\u001b[0;34m\u001b[0m\u001b[0;34m\u001b[0m\u001b[0m\n\u001b[0;32m----> 7\u001b[0;31m \u001b[0;32mfrom\u001b[0m \u001b[0mray\u001b[0m\u001b[0;34m.\u001b[0m\u001b[0mrllib\u001b[0m\u001b[0;34m.\u001b[0m\u001b[0menv\u001b[0m\u001b[0;34m.\u001b[0m\u001b[0mbase_env\u001b[0m \u001b[0;32mimport\u001b[0m \u001b[0mBaseEnv\u001b[0m\u001b[0;34m\u001b[0m\u001b[0;34m\u001b[0m\u001b[0m\n\u001b[0m\u001b[1;32m      8\u001b[0m \u001b[0;32mfrom\u001b[0m \u001b[0mray\u001b[0m\u001b[0;34m.\u001b[0m\u001b[0mrllib\u001b[0m\u001b[0;34m.\u001b[0m\u001b[0menv\u001b[0m\u001b[0;34m.\u001b[0m\u001b[0mexternal_env\u001b[0m \u001b[0;32mimport\u001b[0m \u001b[0mExternalEnv\u001b[0m\u001b[0;34m\u001b[0m\u001b[0;34m\u001b[0m\u001b[0m\n\u001b[1;32m      9\u001b[0m \u001b[0;32mfrom\u001b[0m \u001b[0mray\u001b[0m\u001b[0;34m.\u001b[0m\u001b[0mrllib\u001b[0m\u001b[0;34m.\u001b[0m\u001b[0menv\u001b[0m\u001b[0;34m.\u001b[0m\u001b[0mmulti_agent_env\u001b[0m \u001b[0;32mimport\u001b[0m \u001b[0mMultiAgentEnv\u001b[0m\u001b[0;34m\u001b[0m\u001b[0;34m\u001b[0m\u001b[0m\n",
            "\u001b[0;32m/usr/local/lib/python3.10/dist-packages/ray/rllib/env/__init__.py\u001b[0m in \u001b[0;36m<module>\u001b[0;34m\u001b[0m\n\u001b[0;32m----> 1\u001b[0;31m \u001b[0;32mfrom\u001b[0m \u001b[0mray\u001b[0m\u001b[0;34m.\u001b[0m\u001b[0mrllib\u001b[0m\u001b[0;34m.\u001b[0m\u001b[0menv\u001b[0m\u001b[0;34m.\u001b[0m\u001b[0mbase_env\u001b[0m \u001b[0;32mimport\u001b[0m \u001b[0mBaseEnv\u001b[0m\u001b[0;34m\u001b[0m\u001b[0;34m\u001b[0m\u001b[0m\n\u001b[0m\u001b[1;32m      2\u001b[0m \u001b[0;32mfrom\u001b[0m \u001b[0mray\u001b[0m\u001b[0;34m.\u001b[0m\u001b[0mrllib\u001b[0m\u001b[0;34m.\u001b[0m\u001b[0menv\u001b[0m\u001b[0;34m.\u001b[0m\u001b[0menv_context\u001b[0m \u001b[0;32mimport\u001b[0m \u001b[0mEnvContext\u001b[0m\u001b[0;34m\u001b[0m\u001b[0;34m\u001b[0m\u001b[0m\n\u001b[1;32m      3\u001b[0m \u001b[0;32mfrom\u001b[0m \u001b[0mray\u001b[0m\u001b[0;34m.\u001b[0m\u001b[0mrllib\u001b[0m\u001b[0;34m.\u001b[0m\u001b[0menv\u001b[0m\u001b[0;34m.\u001b[0m\u001b[0mexternal_env\u001b[0m \u001b[0;32mimport\u001b[0m \u001b[0mExternalEnv\u001b[0m\u001b[0;34m\u001b[0m\u001b[0;34m\u001b[0m\u001b[0m\n\u001b[1;32m      4\u001b[0m \u001b[0;32mfrom\u001b[0m \u001b[0mray\u001b[0m\u001b[0;34m.\u001b[0m\u001b[0mrllib\u001b[0m\u001b[0;34m.\u001b[0m\u001b[0menv\u001b[0m\u001b[0;34m.\u001b[0m\u001b[0mexternal_multi_agent_env\u001b[0m \u001b[0;32mimport\u001b[0m \u001b[0mExternalMultiAgentEnv\u001b[0m\u001b[0;34m\u001b[0m\u001b[0;34m\u001b[0m\u001b[0m\n\u001b[1;32m      5\u001b[0m \u001b[0;32mfrom\u001b[0m \u001b[0mray\u001b[0m\u001b[0;34m.\u001b[0m\u001b[0mrllib\u001b[0m\u001b[0;34m.\u001b[0m\u001b[0menv\u001b[0m\u001b[0;34m.\u001b[0m\u001b[0mmulti_agent_env\u001b[0m \u001b[0;32mimport\u001b[0m \u001b[0mMultiAgentEnv\u001b[0m\u001b[0;34m\u001b[0m\u001b[0;34m\u001b[0m\u001b[0m\n",
            "\u001b[0;32m/usr/local/lib/python3.10/dist-packages/ray/rllib/env/base_env.py\u001b[0m in \u001b[0;36m<module>\u001b[0;34m\u001b[0m\n\u001b[1;32m      4\u001b[0m \u001b[0;32mimport\u001b[0m \u001b[0mgymnasium\u001b[0m \u001b[0;32mas\u001b[0m \u001b[0mgym\u001b[0m\u001b[0;34m\u001b[0m\u001b[0;34m\u001b[0m\u001b[0m\n\u001b[1;32m      5\u001b[0m \u001b[0;32mimport\u001b[0m \u001b[0mray\u001b[0m\u001b[0;34m\u001b[0m\u001b[0;34m\u001b[0m\u001b[0m\n\u001b[0;32m----> 6\u001b[0;31m \u001b[0;32mfrom\u001b[0m \u001b[0mray\u001b[0m\u001b[0;34m.\u001b[0m\u001b[0mrllib\u001b[0m\u001b[0;34m.\u001b[0m\u001b[0mutils\u001b[0m\u001b[0;34m.\u001b[0m\u001b[0mannotations\u001b[0m \u001b[0;32mimport\u001b[0m \u001b[0mDeprecated\u001b[0m\u001b[0;34m,\u001b[0m \u001b[0mDeveloperAPI\u001b[0m\u001b[0;34m,\u001b[0m \u001b[0mPublicAPI\u001b[0m\u001b[0;34m\u001b[0m\u001b[0;34m\u001b[0m\u001b[0m\n\u001b[0m\u001b[1;32m      7\u001b[0m \u001b[0;32mfrom\u001b[0m \u001b[0mray\u001b[0m\u001b[0;34m.\u001b[0m\u001b[0mrllib\u001b[0m\u001b[0;34m.\u001b[0m\u001b[0mutils\u001b[0m\u001b[0;34m.\u001b[0m\u001b[0mtyping\u001b[0m \u001b[0;32mimport\u001b[0m \u001b[0mAgentID\u001b[0m\u001b[0;34m,\u001b[0m \u001b[0mEnvID\u001b[0m\u001b[0;34m,\u001b[0m \u001b[0mEnvType\u001b[0m\u001b[0;34m,\u001b[0m \u001b[0mMultiEnvDict\u001b[0m\u001b[0;34m\u001b[0m\u001b[0;34m\u001b[0m\u001b[0m\n\u001b[1;32m      8\u001b[0m \u001b[0;34m\u001b[0m\u001b[0m\n",
            "\u001b[0;32m/usr/local/lib/python3.10/dist-packages/ray/rllib/utils/__init__.py\u001b[0m in \u001b[0;36m<module>\u001b[0;34m\u001b[0m\n\u001b[1;32m      4\u001b[0m \u001b[0;32mfrom\u001b[0m \u001b[0mray\u001b[0m\u001b[0;34m.\u001b[0m\u001b[0mrllib\u001b[0m\u001b[0;34m.\u001b[0m\u001b[0mutils\u001b[0m\u001b[0;34m.\u001b[0m\u001b[0mannotations\u001b[0m \u001b[0;32mimport\u001b[0m \u001b[0moverride\u001b[0m\u001b[0;34m,\u001b[0m \u001b[0mPublicAPI\u001b[0m\u001b[0;34m,\u001b[0m \u001b[0mDeveloperAPI\u001b[0m\u001b[0;34m\u001b[0m\u001b[0;34m\u001b[0m\u001b[0m\n\u001b[1;32m      5\u001b[0m \u001b[0;32mfrom\u001b[0m \u001b[0mray\u001b[0m\u001b[0;34m.\u001b[0m\u001b[0mrllib\u001b[0m\u001b[0;34m.\u001b[0m\u001b[0mutils\u001b[0m\u001b[0;34m.\u001b[0m\u001b[0mdeprecation\u001b[0m \u001b[0;32mimport\u001b[0m \u001b[0mdeprecation_warning\u001b[0m\u001b[0;34m\u001b[0m\u001b[0;34m\u001b[0m\u001b[0m\n\u001b[0;32m----> 6\u001b[0;31m \u001b[0;32mfrom\u001b[0m \u001b[0mray\u001b[0m\u001b[0;34m.\u001b[0m\u001b[0mrllib\u001b[0m\u001b[0;34m.\u001b[0m\u001b[0mutils\u001b[0m\u001b[0;34m.\u001b[0m\u001b[0mfilter\u001b[0m \u001b[0;32mimport\u001b[0m \u001b[0mFilter\u001b[0m\u001b[0;34m\u001b[0m\u001b[0;34m\u001b[0m\u001b[0m\n\u001b[0m\u001b[1;32m      7\u001b[0m \u001b[0;32mfrom\u001b[0m \u001b[0mray\u001b[0m\u001b[0;34m.\u001b[0m\u001b[0mrllib\u001b[0m\u001b[0;34m.\u001b[0m\u001b[0mutils\u001b[0m\u001b[0;34m.\u001b[0m\u001b[0mfilter_manager\u001b[0m \u001b[0;32mimport\u001b[0m \u001b[0mFilterManager\u001b[0m\u001b[0;34m\u001b[0m\u001b[0;34m\u001b[0m\u001b[0m\n\u001b[1;32m      8\u001b[0m from ray.rllib.utils.framework import (\n",
            "\u001b[0;32m/usr/local/lib/python3.10/dist-packages/ray/rllib/utils/filter.py\u001b[0m in \u001b[0;36m<module>\u001b[0;34m\u001b[0m\n\u001b[1;32m      9\u001b[0m \u001b[0;32mfrom\u001b[0m \u001b[0mray\u001b[0m\u001b[0;34m.\u001b[0m\u001b[0mrllib\u001b[0m\u001b[0;34m.\u001b[0m\u001b[0mutils\u001b[0m\u001b[0;34m.\u001b[0m\u001b[0mnumpy\u001b[0m \u001b[0;32mimport\u001b[0m \u001b[0mSMALL_NUMBER\u001b[0m\u001b[0;34m\u001b[0m\u001b[0;34m\u001b[0m\u001b[0m\n\u001b[1;32m     10\u001b[0m \u001b[0;32mfrom\u001b[0m \u001b[0mray\u001b[0m\u001b[0;34m.\u001b[0m\u001b[0mrllib\u001b[0m\u001b[0;34m.\u001b[0m\u001b[0mutils\u001b[0m\u001b[0;34m.\u001b[0m\u001b[0mtyping\u001b[0m \u001b[0;32mimport\u001b[0m \u001b[0mTensorStructType\u001b[0m\u001b[0;34m\u001b[0m\u001b[0;34m\u001b[0m\u001b[0m\n\u001b[0;32m---> 11\u001b[0;31m \u001b[0;32mfrom\u001b[0m \u001b[0mray\u001b[0m\u001b[0;34m.\u001b[0m\u001b[0mrllib\u001b[0m\u001b[0;34m.\u001b[0m\u001b[0mutils\u001b[0m\u001b[0;34m.\u001b[0m\u001b[0mserialization\u001b[0m \u001b[0;32mimport\u001b[0m \u001b[0m_serialize_ndarray\u001b[0m\u001b[0;34m,\u001b[0m \u001b[0m_deserialize_ndarray\u001b[0m\u001b[0;34m\u001b[0m\u001b[0;34m\u001b[0m\u001b[0m\n\u001b[0m\u001b[1;32m     12\u001b[0m \u001b[0;32mfrom\u001b[0m \u001b[0mray\u001b[0m\u001b[0;34m.\u001b[0m\u001b[0mrllib\u001b[0m\u001b[0;34m.\u001b[0m\u001b[0mutils\u001b[0m\u001b[0;34m.\u001b[0m\u001b[0mdeprecation\u001b[0m \u001b[0;32mimport\u001b[0m \u001b[0mdeprecation_warning\u001b[0m\u001b[0;34m\u001b[0m\u001b[0;34m\u001b[0m\u001b[0m\n\u001b[1;32m     13\u001b[0m \u001b[0;34m\u001b[0m\u001b[0m\n",
            "\u001b[0;32m/usr/local/lib/python3.10/dist-packages/ray/rllib/utils/serialization.py\u001b[0m in \u001b[0;36m<module>\u001b[0;34m\u001b[0m\n\u001b[1;32m     22\u001b[0m \u001b[0mold_gym_text_class\u001b[0m \u001b[0;34m=\u001b[0m \u001b[0;32mNone\u001b[0m\u001b[0;34m\u001b[0m\u001b[0;34m\u001b[0m\u001b[0m\n\u001b[1;32m     23\u001b[0m \u001b[0;32mif\u001b[0m \u001b[0mold_gym\u001b[0m\u001b[0;34m:\u001b[0m\u001b[0;34m\u001b[0m\u001b[0;34m\u001b[0m\u001b[0m\n\u001b[0;32m---> 24\u001b[0;31m     \u001b[0mold_gym_text_class\u001b[0m \u001b[0;34m=\u001b[0m \u001b[0mgetattr\u001b[0m\u001b[0;34m(\u001b[0m\u001b[0mold_gym\u001b[0m\u001b[0;34m.\u001b[0m\u001b[0mspaces\u001b[0m\u001b[0;34m,\u001b[0m \u001b[0;34m\"Text\"\u001b[0m\u001b[0;34m,\u001b[0m \u001b[0;32mNone\u001b[0m\u001b[0;34m)\u001b[0m\u001b[0;34m\u001b[0m\u001b[0;34m\u001b[0m\u001b[0m\n\u001b[0m\u001b[1;32m     25\u001b[0m \u001b[0;34m\u001b[0m\u001b[0m\n\u001b[1;32m     26\u001b[0m \u001b[0;34m\u001b[0m\u001b[0m\n",
            "\u001b[0;31mAttributeError\u001b[0m: module 'gym' has no attribute 'spaces'"
          ]
        }
      ],
      "source": [
        "# Perform a rollout\n",
        "from ray.rllib.algorithms import Algorithm\n",
        "import ray\n",
        "import gym\n",
        "import matplotlib.pyplot as plt\n",
        "import tensorflow as tf\n",
        "\n",
        "ray.shutdown()\n",
        "\n",
        "def rollout_display(env_name, checkpoint):\n",
        "\n",
        "  ray.init(num_cpus=2, ignore_reinit_error=True)\n",
        "  checkpoint_path = checkpoint.to_directory()\n",
        "  config = {\n",
        "      \"env\": env_name,\n",
        "      \"framework\": \"tf\",\n",
        "      \"num_workers\": 1,\n",
        "      \"lambda\": 0.95,\n",
        "      \"clip_param\": 0.1,\n",
        "      \"lr\": 5e-4,\n",
        "      \"gamma\": 0.99,\n",
        "      \"sgd_minibatch_size\": 256,\n",
        "      \"train_batch_size\": 2000,\n",
        "      \"num_iterations\": 100000,\n",
        "  }\n",
        "\n",
        "  results = tune.run(\n",
        "      \"PPO\",\n",
        "      config=config,\n",
        "      restore=checkpoint_path,\n",
        "      stop={\"timesteps_total\": 100000},\n",
        "      num_samples=1,\n",
        "  )\n",
        "\n",
        "  agent = Algorithm.from_checkpoint(results.get_last_checkpoint())\n",
        "  return agent"
      ]
    },
    {
      "cell_type": "code",
      "execution_count": null,
      "metadata": {
        "id": "MnUtXj6QjAO2"
      },
      "outputs": [],
      "source": [
        "# Generating agent\n",
        "agent = rollout_display('LunarLander-v2', checkpoint)\n",
        "ray.shutdown()"
      ]
    },
    {
      "cell_type": "code",
      "execution_count": null,
      "metadata": {
        "colab": {
          "base_uri": "https://localhost:8080/",
          "height": 393
        },
        "id": "-dA9qko2eGYF",
        "outputId": "fd9a99c0-31c4-4265-8f00-d05161292ee9"
      },
      "outputs": [
        {
          "ename": "ImportError",
          "evalue": "cannot import name 'Monitor' from 'gym.wrappers' (/usr/local/lib/python3.10/dist-packages/gym/wrappers/__init__.py)",
          "output_type": "error",
          "traceback": [
            "\u001b[0;31m---------------------------------------------------------------------------\u001b[0m",
            "\u001b[0;31mImportError\u001b[0m                               Traceback (most recent call last)",
            "\u001b[0;32m<ipython-input-1-d8f9a8c6e972>\u001b[0m in \u001b[0;36m<cell line: 2>\u001b[0;34m()\u001b[0m\n\u001b[1;32m      1\u001b[0m \u001b[0;32mimport\u001b[0m \u001b[0mgym\u001b[0m\u001b[0;34m\u001b[0m\u001b[0;34m\u001b[0m\u001b[0m\n\u001b[0;32m----> 2\u001b[0;31m \u001b[0;32mfrom\u001b[0m \u001b[0mgym\u001b[0m\u001b[0;34m.\u001b[0m\u001b[0mwrappers\u001b[0m \u001b[0;32mimport\u001b[0m \u001b[0mMonitor\u001b[0m\u001b[0;34m\u001b[0m\u001b[0;34m\u001b[0m\u001b[0m\n\u001b[0m\u001b[1;32m      3\u001b[0m \u001b[0;32mfrom\u001b[0m \u001b[0mIPython\u001b[0m\u001b[0;34m.\u001b[0m\u001b[0mdisplay\u001b[0m \u001b[0;32mimport\u001b[0m \u001b[0mHTML\u001b[0m\u001b[0;34m\u001b[0m\u001b[0;34m\u001b[0m\u001b[0m\n\u001b[1;32m      4\u001b[0m \u001b[0;34m\u001b[0m\u001b[0m\n\u001b[1;32m      5\u001b[0m \u001b[0;32mdef\u001b[0m \u001b[0mrecord_video\u001b[0m\u001b[0;34m(\u001b[0m\u001b[0menv_name\u001b[0m\u001b[0;34m,\u001b[0m \u001b[0magent\u001b[0m\u001b[0;34m,\u001b[0m \u001b[0mvideo_name\u001b[0m\u001b[0;34m=\u001b[0m\u001b[0;34m'landing_video'\u001b[0m\u001b[0;34m)\u001b[0m\u001b[0;34m:\u001b[0m\u001b[0;34m\u001b[0m\u001b[0;34m\u001b[0m\u001b[0m\n",
            "\u001b[0;31mImportError\u001b[0m: cannot import name 'Monitor' from 'gym.wrappers' (/usr/local/lib/python3.10/dist-packages/gym/wrappers/__init__.py)",
            "",
            "\u001b[0;31m---------------------------------------------------------------------------\u001b[0;32m\nNOTE: If your import is failing due to a missing package, you can\nmanually install dependencies using either !pip or !apt.\n\nTo view examples of installing some common dependencies, click the\n\"Open Examples\" button below.\n\u001b[0;31m---------------------------------------------------------------------------\u001b[0m\n"
          ]
        }
      ],
      "source": [
        "import gym\n",
        "from gym.wrappers import Monitor              # Need to downgrade gym, deprecated\n",
        "from IPython.display import HTML\n",
        "\n",
        "def record_video(env_name, agent, video_name='landing_video'):\n",
        "    env = gym.make(env_name, render_mode='rgb_array')\n",
        "\n",
        "    # Wrap the environment with the Monitor to record the video\n",
        "    env = Monitor(env, video_name, force=True, video_callable=lambda episode: True)\n",
        "\n",
        "    observation = env.reset()\n",
        "    done = False\n",
        "\n",
        "    while not done:\n",
        "        frame = env.render(mode='rgb_array')\n",
        "        action = agent.compute_single_action(observation)\n",
        "        observation, reward, done, _ = env.step(action)\n",
        "\n",
        "    env.close()\n",
        "\n",
        "    # Display the recorded video\n",
        "    html = env.get_video_html()\n",
        "    HTML(html)\n",
        "\n",
        "# Generating video of landing using trained agent\n",
        "record_video(env_name='LunarLander-v2', agent=agent)"
      ]
    },
    {
      "cell_type": "markdown",
      "metadata": {
        "id": "JoRi0M7YycDu"
      },
      "source": [
        "# Hyperparameters tuning"
      ]
    },
    {
      "cell_type": "code",
      "execution_count": null,
      "metadata": {
        "colab": {
          "base_uri": "https://localhost:8080/"
        },
        "id": "7WNT6_Gkl3zE",
        "outputId": "9892d1eb-c209-47fd-f8e6-b64a00559620"
      },
      "outputs": [
        {
          "name": "stderr",
          "output_type": "stream",
          "text": [
            "2024-01-07 11:08:07,162\tINFO worker.py:1558 -- Calling ray.init() again after it has already been called.\n",
            "2024-01-07 11:08:07,170\tINFO tune.py:592 -- [output] This will use the new output engine with verbosity 2. To disable the new output and use the legacy output engine, set the environment variable RAY_AIR_NEW_OUTPUT=0. For more information, please see https://github.com/ray-project/ray/issues/36949\n",
            "2024-01-07 11:08:07,195\tWARNING tune.py:916 -- AIR_VERBOSITY is set, ignoring passed-in ProgressReporter for now.\n"
          ]
        },
        {
          "name": "stdout",
          "output_type": "stream",
          "text": [
            "+--------------------------------------------------------------+\n",
            "| Configuration for experiment     train_2024-01-07_11-08-07   |\n",
            "+--------------------------------------------------------------+\n",
            "| Search algorithm                 BasicVariantGenerator       |\n",
            "| Scheduler                        FIFOScheduler               |\n",
            "| Number of trials                 81                          |\n",
            "+--------------------------------------------------------------+\n",
            "\n",
            "View detailed results here: /content/tune_results/train_2024-01-07_11-08-07\n",
            "To visualize your results with TensorBoard, run: `tensorboard --logdir /content/tune_results/train_2024-01-07_11-08-07`\n",
            "\n",
            "Trial status: 16 PENDING\n",
            "Current time: 2024-01-07 11:08:07. Total running time: 0s\n",
            "Logical resource usage: 0/2 CPUs, 0/1 GPUs\n",
            "+-----------------------------------------------------------------+\n",
            "| Trial name          status       lambda     clip_param       lr |\n",
            "+-----------------------------------------------------------------+\n",
            "| train_091b2_00000   PENDING         0.8            0.1   0.0001 |\n",
            "| train_091b2_00001   PENDING         0.8            0.2   0.0001 |\n",
            "| train_091b2_00002   PENDING         0.8            0.3   0.0001 |\n",
            "| train_091b2_00003   PENDING         0.9            0.1   0.0001 |\n",
            "| train_091b2_00004   PENDING         0.9            0.2   0.0001 |\n",
            "| train_091b2_00005   PENDING         0.9            0.3   0.0001 |\n",
            "| train_091b2_00006   PENDING         1              0.1   0.0001 |\n",
            "| train_091b2_00007   PENDING         1              0.2   0.0001 |\n",
            "| train_091b2_00008   PENDING         1              0.3   0.0001 |\n",
            "| train_091b2_00009   PENDING         0.8            0.1   0.0003 |\n",
            "| train_091b2_00010   PENDING         0.8            0.2   0.0003 |\n",
            "| train_091b2_00011   PENDING         0.8            0.3   0.0003 |\n",
            "| train_091b2_00012   PENDING         0.9            0.1   0.0003 |\n",
            "| train_091b2_00013   PENDING         0.9            0.2   0.0003 |\n",
            "| train_091b2_00014   PENDING         0.9            0.3   0.0003 |\n",
            "| train_091b2_00015   PENDING         1              0.1   0.0003 |\n",
            "+-----------------------------------------------------------------+\n"
          ]
        },
        {
          "name": "stderr",
          "output_type": "stream",
          "text": [
            "2024-01-07 11:08:13,531\tERROR tune_controller.py:1374 -- Trial task failed for trial train_091b2_00000\n",
            "Traceback (most recent call last):\n",
            "  File \"/usr/local/lib/python3.10/dist-packages/ray/air/execution/_internal/event_manager.py\", line 110, in resolve_future\n",
            "    result = ray.get(future)\n",
            "  File \"/usr/local/lib/python3.10/dist-packages/ray/_private/auto_init_hook.py\", line 22, in auto_init_wrapper\n",
            "    return fn(*args, **kwargs)\n",
            "  File \"/usr/local/lib/python3.10/dist-packages/ray/_private/client_mode_hook.py\", line 103, in wrapper\n",
            "    return func(*args, **kwargs)\n",
            "  File \"/usr/local/lib/python3.10/dist-packages/ray/_private/worker.py\", line 2624, in get\n",
            "    raise value.as_instanceof_cause()\n",
            "ray.exceptions.RayTaskError(AttributeError): \u001b[36mray::ImplicitFunc.train()\u001b[39m (pid=28148, ip=172.28.0.12, actor_id=bc18b9e1f0c7e38541e7125601000000, repr=train)\n",
            "  File \"/usr/local/lib/python3.10/dist-packages/ray/tune/trainable/trainable.py\", line 342, in train\n",
            "    raise skipped from exception_cause(skipped)\n",
            "  File \"/usr/local/lib/python3.10/dist-packages/ray/air/_internal/util.py\", line 88, in run\n",
            "    self._ret = self._target(*self._args, **self._kwargs)\n",
            "  File \"/usr/local/lib/python3.10/dist-packages/ray/tune/trainable/function_trainable.py\", line 115, in <lambda>\n",
            "    training_func=lambda: self._trainable_func(self.config),\n",
            "  File \"/usr/local/lib/python3.10/dist-packages/ray/tune/trainable/function_trainable.py\", line 332, in _trainable_func\n",
            "    output = fn()\n",
            "  File \"<ipython-input-21-4cf143c8e7dd>\", line 13, in train\n",
            "AttributeError: 'dict' object has no attribute 'training_iteration'\n",
            "2024-01-07 11:08:13,682\tERROR tune_controller.py:1374 -- Trial task failed for trial train_091b2_00001\n",
            "Traceback (most recent call last):\n",
            "  File \"/usr/local/lib/python3.10/dist-packages/ray/air/execution/_internal/event_manager.py\", line 110, in resolve_future\n",
            "    result = ray.get(future)\n",
            "  File \"/usr/local/lib/python3.10/dist-packages/ray/_private/auto_init_hook.py\", line 22, in auto_init_wrapper\n",
            "    return fn(*args, **kwargs)\n",
            "  File \"/usr/local/lib/python3.10/dist-packages/ray/_private/client_mode_hook.py\", line 103, in wrapper\n",
            "    return func(*args, **kwargs)\n",
            "  File \"/usr/local/lib/python3.10/dist-packages/ray/_private/worker.py\", line 2624, in get\n",
            "    raise value.as_instanceof_cause()\n",
            "ray.exceptions.RayTaskError(AttributeError): \u001b[36mray::ImplicitFunc.train()\u001b[39m (pid=28150, ip=172.28.0.12, actor_id=05a9fafdd358c0fd5f633c8e01000000, repr=train)\n",
            "  File \"/usr/local/lib/python3.10/dist-packages/ray/tune/trainable/trainable.py\", line 342, in train\n",
            "    raise skipped from exception_cause(skipped)\n",
            "  File \"/usr/local/lib/python3.10/dist-packages/ray/air/_internal/util.py\", line 88, in run\n",
            "    self._ret = self._target(*self._args, **self._kwargs)\n",
            "  File \"/usr/local/lib/python3.10/dist-packages/ray/tune/trainable/function_trainable.py\", line 115, in <lambda>\n",
            "    training_func=lambda: self._trainable_func(self.config),\n",
            "  File \"/usr/local/lib/python3.10/dist-packages/ray/tune/trainable/function_trainable.py\", line 332, in _trainable_func\n",
            "    output = fn()\n",
            "  File \"<ipython-input-21-4cf143c8e7dd>\", line 13, in train\n",
            "AttributeError: 'dict' object has no attribute 'training_iteration'\n"
          ]
        },
        {
          "name": "stdout",
          "output_type": "stream",
          "text": [
            "\n",
            "Trial train_091b2_00000 started with configuration:\n",
            "+-------------------------------------------+\n",
            "| Trial train_091b2_00000 config            |\n",
            "+-------------------------------------------+\n",
            "| clip_param                            0.1 |\n",
            "| lambda                                0.8 |\n",
            "| lr                                 0.0001 |\n",
            "| stop_iteration                         10 |\n",
            "+-------------------------------------------+\n",
            "\n",
            "Trial train_091b2_00000 errored after 0 iterations at 2024-01-07 11:08:13. Total running time: 6s\n",
            "Error file: /content/tune_results/train_2024-01-07_11-08-07/train_091b2_00000_0_clip_param=0.1000,lambda=0.8000,lr=0.0001_2024-01-07_11-08-07/error.txt\n",
            "\n",
            "Trial train_091b2_00001 started with configuration:\n",
            "+-------------------------------------------+\n",
            "| Trial train_091b2_00001 config            |\n",
            "+-------------------------------------------+\n",
            "| clip_param                            0.2 |\n",
            "| lambda                                0.8 |\n",
            "| lr                                 0.0001 |\n",
            "| stop_iteration                         10 |\n",
            "+-------------------------------------------+\n",
            "\n",
            "Trial train_091b2_00001 errored after 0 iterations at 2024-01-07 11:08:13. Total running time: 6s\n",
            "Error file: /content/tune_results/train_2024-01-07_11-08-07/train_091b2_00001_1_clip_param=0.2000,lambda=0.8000,lr=0.0001_2024-01-07_11-08-07/error.txt\n",
            "\n",
            "Trial train_091b2_00002 started with configuration:\n",
            "+-------------------------------------------+\n",
            "| Trial train_091b2_00002 config            |\n",
            "+-------------------------------------------+\n",
            "| clip_param                            0.3 |\n",
            "| lambda                                0.8 |\n",
            "| lr                                 0.0001 |\n",
            "| stop_iteration                         10 |\n",
            "+-------------------------------------------+\n"
          ]
        },
        {
          "name": "stderr",
          "output_type": "stream",
          "text": [
            "2024-01-07 11:08:19,509\tERROR tune_controller.py:1374 -- Trial task failed for trial train_091b2_00002\n",
            "Traceback (most recent call last):\n",
            "  File \"/usr/local/lib/python3.10/dist-packages/ray/air/execution/_internal/event_manager.py\", line 110, in resolve_future\n",
            "    result = ray.get(future)\n",
            "  File \"/usr/local/lib/python3.10/dist-packages/ray/_private/auto_init_hook.py\", line 22, in auto_init_wrapper\n",
            "    return fn(*args, **kwargs)\n",
            "  File \"/usr/local/lib/python3.10/dist-packages/ray/_private/client_mode_hook.py\", line 103, in wrapper\n",
            "    return func(*args, **kwargs)\n",
            "  File \"/usr/local/lib/python3.10/dist-packages/ray/_private/worker.py\", line 2624, in get\n",
            "    raise value.as_instanceof_cause()\n",
            "ray.exceptions.RayTaskError(AttributeError): \u001b[36mray::ImplicitFunc.train()\u001b[39m (pid=28283, ip=172.28.0.12, actor_id=26d74e33c46e201a7e30c97101000000, repr=train)\n",
            "  File \"/usr/local/lib/python3.10/dist-packages/ray/tune/trainable/trainable.py\", line 342, in train\n",
            "    raise skipped from exception_cause(skipped)\n",
            "  File \"/usr/local/lib/python3.10/dist-packages/ray/air/_internal/util.py\", line 88, in run\n",
            "    self._ret = self._target(*self._args, **self._kwargs)\n",
            "  File \"/usr/local/lib/python3.10/dist-packages/ray/tune/trainable/function_trainable.py\", line 115, in <lambda>\n",
            "    training_func=lambda: self._trainable_func(self.config),\n",
            "  File \"/usr/local/lib/python3.10/dist-packages/ray/tune/trainable/function_trainable.py\", line 332, in _trainable_func\n",
            "    output = fn()\n",
            "  File \"<ipython-input-21-4cf143c8e7dd>\", line 13, in train\n",
            "AttributeError: 'dict' object has no attribute 'training_iteration'\n",
            "2024-01-07 11:08:19,560\tERROR tune_controller.py:1374 -- Trial task failed for trial train_091b2_00003\n",
            "Traceback (most recent call last):\n",
            "  File \"/usr/local/lib/python3.10/dist-packages/ray/air/execution/_internal/event_manager.py\", line 110, in resolve_future\n",
            "    result = ray.get(future)\n",
            "  File \"/usr/local/lib/python3.10/dist-packages/ray/_private/auto_init_hook.py\", line 22, in auto_init_wrapper\n",
            "    return fn(*args, **kwargs)\n",
            "  File \"/usr/local/lib/python3.10/dist-packages/ray/_private/client_mode_hook.py\", line 103, in wrapper\n",
            "    return func(*args, **kwargs)\n",
            "  File \"/usr/local/lib/python3.10/dist-packages/ray/_private/worker.py\", line 2624, in get\n",
            "    raise value.as_instanceof_cause()\n",
            "ray.exceptions.RayTaskError(AttributeError): \u001b[36mray::ImplicitFunc.train()\u001b[39m (pid=28286, ip=172.28.0.12, actor_id=89db4e39cb45cee12f4a874e01000000, repr=train)\n",
            "  File \"/usr/local/lib/python3.10/dist-packages/ray/tune/trainable/trainable.py\", line 342, in train\n",
            "    raise skipped from exception_cause(skipped)\n",
            "  File \"/usr/local/lib/python3.10/dist-packages/ray/air/_internal/util.py\", line 88, in run\n",
            "    self._ret = self._target(*self._args, **self._kwargs)\n",
            "  File \"/usr/local/lib/python3.10/dist-packages/ray/tune/trainable/function_trainable.py\", line 115, in <lambda>\n",
            "    training_func=lambda: self._trainable_func(self.config),\n",
            "  File \"/usr/local/lib/python3.10/dist-packages/ray/tune/trainable/function_trainable.py\", line 332, in _trainable_func\n",
            "    output = fn()\n",
            "  File \"<ipython-input-21-4cf143c8e7dd>\", line 13, in train\n",
            "AttributeError: 'dict' object has no attribute 'training_iteration'\n"
          ]
        },
        {
          "name": "stdout",
          "output_type": "stream",
          "text": [
            "\n",
            "Trial train_091b2_00002 errored after 0 iterations at 2024-01-07 11:08:19. Total running time: 12s\n",
            "Error file: /content/tune_results/train_2024-01-07_11-08-07/train_091b2_00002_2_clip_param=0.3000,lambda=0.8000,lr=0.0001_2024-01-07_11-08-07/error.txt\n",
            "\n",
            "Trial train_091b2_00003 started with configuration:\n",
            "+-------------------------------------------+\n",
            "| Trial train_091b2_00003 config            |\n",
            "+-------------------------------------------+\n",
            "| clip_param                            0.1 |\n",
            "| lambda                                0.9 |\n",
            "| lr                                 0.0001 |\n",
            "| stop_iteration                         10 |\n",
            "+-------------------------------------------+\n",
            "\n",
            "Trial train_091b2_00003 errored after 0 iterations at 2024-01-07 11:08:19. Total running time: 12s\n",
            "Error file: /content/tune_results/train_2024-01-07_11-08-07/train_091b2_00003_3_clip_param=0.1000,lambda=0.9000,lr=0.0001_2024-01-07_11-08-07/error.txt\n"
          ]
        },
        {
          "name": "stderr",
          "output_type": "stream",
          "text": [
            "2024-01-07 11:08:24,515\tERROR tune_controller.py:1374 -- Trial task failed for trial train_091b2_00004\n",
            "Traceback (most recent call last):\n",
            "  File \"/usr/local/lib/python3.10/dist-packages/ray/air/execution/_internal/event_manager.py\", line 110, in resolve_future\n",
            "    result = ray.get(future)\n",
            "  File \"/usr/local/lib/python3.10/dist-packages/ray/_private/auto_init_hook.py\", line 22, in auto_init_wrapper\n",
            "    return fn(*args, **kwargs)\n",
            "  File \"/usr/local/lib/python3.10/dist-packages/ray/_private/client_mode_hook.py\", line 103, in wrapper\n",
            "    return func(*args, **kwargs)\n",
            "  File \"/usr/local/lib/python3.10/dist-packages/ray/_private/worker.py\", line 2624, in get\n",
            "    raise value.as_instanceof_cause()\n",
            "ray.exceptions.RayTaskError(AttributeError): \u001b[36mray::ImplicitFunc.train()\u001b[39m (pid=28409, ip=172.28.0.12, actor_id=dd5ca22983059323be1c1cbc01000000, repr=train)\n",
            "  File \"/usr/local/lib/python3.10/dist-packages/ray/tune/trainable/trainable.py\", line 342, in train\n",
            "    raise skipped from exception_cause(skipped)\n",
            "  File \"/usr/local/lib/python3.10/dist-packages/ray/air/_internal/util.py\", line 88, in run\n",
            "    self._ret = self._target(*self._args, **self._kwargs)\n",
            "  File \"/usr/local/lib/python3.10/dist-packages/ray/tune/trainable/function_trainable.py\", line 115, in <lambda>\n",
            "    training_func=lambda: self._trainable_func(self.config),\n",
            "  File \"/usr/local/lib/python3.10/dist-packages/ray/tune/trainable/function_trainable.py\", line 332, in _trainable_func\n",
            "    output = fn()\n",
            "  File \"<ipython-input-21-4cf143c8e7dd>\", line 13, in train\n",
            "AttributeError: 'dict' object has no attribute 'training_iteration'\n",
            "2024-01-07 11:08:24,644\tERROR tune_controller.py:1374 -- Trial task failed for trial train_091b2_00005\n",
            "Traceback (most recent call last):\n",
            "  File \"/usr/local/lib/python3.10/dist-packages/ray/air/execution/_internal/event_manager.py\", line 110, in resolve_future\n",
            "    result = ray.get(future)\n",
            "  File \"/usr/local/lib/python3.10/dist-packages/ray/_private/auto_init_hook.py\", line 22, in auto_init_wrapper\n",
            "    return fn(*args, **kwargs)\n",
            "  File \"/usr/local/lib/python3.10/dist-packages/ray/_private/client_mode_hook.py\", line 103, in wrapper\n",
            "    return func(*args, **kwargs)\n",
            "  File \"/usr/local/lib/python3.10/dist-packages/ray/_private/worker.py\", line 2624, in get\n",
            "    raise value.as_instanceof_cause()\n",
            "ray.exceptions.RayTaskError(AttributeError): \u001b[36mray::ImplicitFunc.train()\u001b[39m (pid=28412, ip=172.28.0.12, actor_id=317f5ba6e54ca72f3fcec7e701000000, repr=train)\n",
            "  File \"/usr/local/lib/python3.10/dist-packages/ray/tune/trainable/trainable.py\", line 342, in train\n",
            "    raise skipped from exception_cause(skipped)\n",
            "  File \"/usr/local/lib/python3.10/dist-packages/ray/air/_internal/util.py\", line 88, in run\n",
            "    self._ret = self._target(*self._args, **self._kwargs)\n",
            "  File \"/usr/local/lib/python3.10/dist-packages/ray/tune/trainable/function_trainable.py\", line 115, in <lambda>\n",
            "    training_func=lambda: self._trainable_func(self.config),\n",
            "  File \"/usr/local/lib/python3.10/dist-packages/ray/tune/trainable/function_trainable.py\", line 332, in _trainable_func\n",
            "    output = fn()\n",
            "  File \"<ipython-input-21-4cf143c8e7dd>\", line 13, in train\n",
            "AttributeError: 'dict' object has no attribute 'training_iteration'\n"
          ]
        },
        {
          "name": "stdout",
          "output_type": "stream",
          "text": [
            "\n",
            "Trial train_091b2_00004 started with configuration:\n",
            "+-------------------------------------------+\n",
            "| Trial train_091b2_00004 config            |\n",
            "+-------------------------------------------+\n",
            "| clip_param                            0.2 |\n",
            "| lambda                                0.9 |\n",
            "| lr                                 0.0001 |\n",
            "| stop_iteration                         10 |\n",
            "+-------------------------------------------+\n",
            "\n",
            "Trial train_091b2_00004 errored after 0 iterations at 2024-01-07 11:08:24. Total running time: 17s\n",
            "Error file: /content/tune_results/train_2024-01-07_11-08-07/train_091b2_00004_4_clip_param=0.2000,lambda=0.9000,lr=0.0001_2024-01-07_11-08-07/error.txt\n",
            "\n",
            "Trial train_091b2_00005 started with configuration:\n",
            "+-------------------------------------------+\n",
            "| Trial train_091b2_00005 config            |\n",
            "+-------------------------------------------+\n",
            "| clip_param                            0.3 |\n",
            "| lambda                                0.9 |\n",
            "| lr                                 0.0001 |\n",
            "| stop_iteration                         10 |\n",
            "+-------------------------------------------+\n",
            "\n",
            "Trial train_091b2_00005 errored after 0 iterations at 2024-01-07 11:08:24. Total running time: 17s\n",
            "Error file: /content/tune_results/train_2024-01-07_11-08-07/train_091b2_00005_5_clip_param=0.3000,lambda=0.9000,lr=0.0001_2024-01-07_11-08-07/error.txt\n"
          ]
        },
        {
          "name": "stderr",
          "output_type": "stream",
          "text": [
            "2024-01-07 11:08:32,215\tERROR tune_controller.py:1374 -- Trial task failed for trial train_091b2_00006\n",
            "Traceback (most recent call last):\n",
            "  File \"/usr/local/lib/python3.10/dist-packages/ray/air/execution/_internal/event_manager.py\", line 110, in resolve_future\n",
            "    result = ray.get(future)\n",
            "  File \"/usr/local/lib/python3.10/dist-packages/ray/_private/auto_init_hook.py\", line 22, in auto_init_wrapper\n",
            "    return fn(*args, **kwargs)\n",
            "  File \"/usr/local/lib/python3.10/dist-packages/ray/_private/client_mode_hook.py\", line 103, in wrapper\n",
            "    return func(*args, **kwargs)\n",
            "  File \"/usr/local/lib/python3.10/dist-packages/ray/_private/worker.py\", line 2624, in get\n",
            "    raise value.as_instanceof_cause()\n",
            "ray.exceptions.RayTaskError(AttributeError): \u001b[36mray::ImplicitFunc.train()\u001b[39m (pid=28540, ip=172.28.0.12, actor_id=0eb72cf35cc456401cfcb66c01000000, repr=train)\n",
            "  File \"/usr/local/lib/python3.10/dist-packages/ray/tune/trainable/trainable.py\", line 342, in train\n",
            "    raise skipped from exception_cause(skipped)\n",
            "  File \"/usr/local/lib/python3.10/dist-packages/ray/air/_internal/util.py\", line 88, in run\n",
            "    self._ret = self._target(*self._args, **self._kwargs)\n",
            "  File \"/usr/local/lib/python3.10/dist-packages/ray/tune/trainable/function_trainable.py\", line 115, in <lambda>\n",
            "    training_func=lambda: self._trainable_func(self.config),\n",
            "  File \"/usr/local/lib/python3.10/dist-packages/ray/tune/trainable/function_trainable.py\", line 332, in _trainable_func\n",
            "    output = fn()\n",
            "  File \"<ipython-input-21-4cf143c8e7dd>\", line 13, in train\n",
            "AttributeError: 'dict' object has no attribute 'training_iteration'\n",
            "2024-01-07 11:08:32,320\tERROR tune_controller.py:1374 -- Trial task failed for trial train_091b2_00007\n",
            "Traceback (most recent call last):\n",
            "  File \"/usr/local/lib/python3.10/dist-packages/ray/air/execution/_internal/event_manager.py\", line 110, in resolve_future\n",
            "    result = ray.get(future)\n",
            "  File \"/usr/local/lib/python3.10/dist-packages/ray/_private/auto_init_hook.py\", line 22, in auto_init_wrapper\n",
            "    return fn(*args, **kwargs)\n",
            "  File \"/usr/local/lib/python3.10/dist-packages/ray/_private/client_mode_hook.py\", line 103, in wrapper\n",
            "    return func(*args, **kwargs)\n",
            "  File \"/usr/local/lib/python3.10/dist-packages/ray/_private/worker.py\", line 2624, in get\n",
            "    raise value.as_instanceof_cause()\n",
            "ray.exceptions.RayTaskError(AttributeError): \u001b[36mray::ImplicitFunc.train()\u001b[39m (pid=28546, ip=172.28.0.12, actor_id=09f81cf8cb7bd8623376ad2d01000000, repr=train)\n",
            "  File \"/usr/local/lib/python3.10/dist-packages/ray/tune/trainable/trainable.py\", line 342, in train\n",
            "    raise skipped from exception_cause(skipped)\n",
            "  File \"/usr/local/lib/python3.10/dist-packages/ray/air/_internal/util.py\", line 88, in run\n",
            "    self._ret = self._target(*self._args, **self._kwargs)\n",
            "  File \"/usr/local/lib/python3.10/dist-packages/ray/tune/trainable/function_trainable.py\", line 115, in <lambda>\n",
            "    training_func=lambda: self._trainable_func(self.config),\n",
            "  File \"/usr/local/lib/python3.10/dist-packages/ray/tune/trainable/function_trainable.py\", line 332, in _trainable_func\n",
            "    output = fn()\n",
            "  File \"<ipython-input-21-4cf143c8e7dd>\", line 13, in train\n",
            "AttributeError: 'dict' object has no attribute 'training_iteration'\n"
          ]
        },
        {
          "name": "stdout",
          "output_type": "stream",
          "text": [
            "\n",
            "Trial train_091b2_00006 started with configuration:\n",
            "+-------------------------------------------+\n",
            "| Trial train_091b2_00006 config            |\n",
            "+-------------------------------------------+\n",
            "| clip_param                            0.1 |\n",
            "| lambda                                  1 |\n",
            "| lr                                 0.0001 |\n",
            "| stop_iteration                         10 |\n",
            "+-------------------------------------------+\n",
            "\n",
            "Trial train_091b2_00006 errored after 0 iterations at 2024-01-07 11:08:32. Total running time: 25s\n",
            "Error file: /content/tune_results/train_2024-01-07_11-08-07/train_091b2_00006_6_clip_param=0.1000,lambda=1.0000,lr=0.0001_2024-01-07_11-08-07/error.txt\n",
            "\n",
            "Trial train_091b2_00007 started with configuration:\n",
            "+-------------------------------------------+\n",
            "| Trial train_091b2_00007 config            |\n",
            "+-------------------------------------------+\n",
            "| clip_param                            0.2 |\n",
            "| lambda                                  1 |\n",
            "| lr                                 0.0001 |\n",
            "| stop_iteration                         10 |\n",
            "+-------------------------------------------+\n",
            "\n",
            "Trial train_091b2_00007 errored after 0 iterations at 2024-01-07 11:08:32. Total running time: 25s\n",
            "Error file: /content/tune_results/train_2024-01-07_11-08-07/train_091b2_00007_7_clip_param=0.2000,lambda=1.0000,lr=0.0001_2024-01-07_11-08-07/error.txt\n"
          ]
        },
        {
          "name": "stderr",
          "output_type": "stream",
          "text": [
            "2024-01-07 11:08:36,704\tERROR tune_controller.py:1374 -- Trial task failed for trial train_091b2_00008\n",
            "Traceback (most recent call last):\n",
            "  File \"/usr/local/lib/python3.10/dist-packages/ray/air/execution/_internal/event_manager.py\", line 110, in resolve_future\n",
            "    result = ray.get(future)\n",
            "  File \"/usr/local/lib/python3.10/dist-packages/ray/_private/auto_init_hook.py\", line 22, in auto_init_wrapper\n",
            "    return fn(*args, **kwargs)\n",
            "  File \"/usr/local/lib/python3.10/dist-packages/ray/_private/client_mode_hook.py\", line 103, in wrapper\n",
            "    return func(*args, **kwargs)\n",
            "  File \"/usr/local/lib/python3.10/dist-packages/ray/_private/worker.py\", line 2624, in get\n",
            "    raise value.as_instanceof_cause()\n",
            "ray.exceptions.RayTaskError(AttributeError): \u001b[36mray::ImplicitFunc.train()\u001b[39m (pid=28647, ip=172.28.0.12, actor_id=5666aad0eecb2f580a9167a301000000, repr=train)\n",
            "  File \"/usr/local/lib/python3.10/dist-packages/ray/tune/trainable/trainable.py\", line 342, in train\n",
            "    raise skipped from exception_cause(skipped)\n",
            "  File \"/usr/local/lib/python3.10/dist-packages/ray/air/_internal/util.py\", line 88, in run\n",
            "    self._ret = self._target(*self._args, **self._kwargs)\n",
            "  File \"/usr/local/lib/python3.10/dist-packages/ray/tune/trainable/function_trainable.py\", line 115, in <lambda>\n",
            "    training_func=lambda: self._trainable_func(self.config),\n",
            "  File \"/usr/local/lib/python3.10/dist-packages/ray/tune/trainable/function_trainable.py\", line 332, in _trainable_func\n",
            "    output = fn()\n",
            "  File \"<ipython-input-21-4cf143c8e7dd>\", line 13, in train\n",
            "AttributeError: 'dict' object has no attribute 'training_iteration'\n"
          ]
        },
        {
          "name": "stdout",
          "output_type": "stream",
          "text": [
            "\n",
            "Trial train_091b2_00008 started with configuration:\n",
            "+-------------------------------------------+\n",
            "| Trial train_091b2_00008 config            |\n",
            "+-------------------------------------------+\n",
            "| clip_param                            0.3 |\n",
            "| lambda                                  1 |\n",
            "| lr                                 0.0001 |\n",
            "| stop_iteration                         10 |\n",
            "+-------------------------------------------+\n",
            "\n",
            "Trial train_091b2_00008 errored after 0 iterations at 2024-01-07 11:08:36. Total running time: 29s\n",
            "Error file: /content/tune_results/train_2024-01-07_11-08-07/train_091b2_00008_8_clip_param=0.3000,lambda=1.0000,lr=0.0001_2024-01-07_11-08-07/error.txt\n"
          ]
        },
        {
          "name": "stderr",
          "output_type": "stream",
          "text": [
            "2024-01-07 11:08:37,480\tERROR tune_controller.py:1374 -- Trial task failed for trial train_091b2_00009\n",
            "Traceback (most recent call last):\n",
            "  File \"/usr/local/lib/python3.10/dist-packages/ray/air/execution/_internal/event_manager.py\", line 110, in resolve_future\n",
            "    result = ray.get(future)\n",
            "  File \"/usr/local/lib/python3.10/dist-packages/ray/_private/auto_init_hook.py\", line 22, in auto_init_wrapper\n",
            "    return fn(*args, **kwargs)\n",
            "  File \"/usr/local/lib/python3.10/dist-packages/ray/_private/client_mode_hook.py\", line 103, in wrapper\n",
            "    return func(*args, **kwargs)\n",
            "  File \"/usr/local/lib/python3.10/dist-packages/ray/_private/worker.py\", line 2624, in get\n",
            "    raise value.as_instanceof_cause()\n",
            "ray.exceptions.RayTaskError(AttributeError): \u001b[36mray::ImplicitFunc.train()\u001b[39m (pid=28676, ip=172.28.0.12, actor_id=22c91010d9228a16d301fcc201000000, repr=train)\n",
            "  File \"/usr/local/lib/python3.10/dist-packages/ray/tune/trainable/trainable.py\", line 342, in train\n",
            "    raise skipped from exception_cause(skipped)\n",
            "  File \"/usr/local/lib/python3.10/dist-packages/ray/air/_internal/util.py\", line 88, in run\n",
            "    self._ret = self._target(*self._args, **self._kwargs)\n",
            "  File \"/usr/local/lib/python3.10/dist-packages/ray/tune/trainable/function_trainable.py\", line 115, in <lambda>\n",
            "    training_func=lambda: self._trainable_func(self.config),\n",
            "  File \"/usr/local/lib/python3.10/dist-packages/ray/tune/trainable/function_trainable.py\", line 332, in _trainable_func\n",
            "    output = fn()\n",
            "  File \"<ipython-input-21-4cf143c8e7dd>\", line 13, in train\n",
            "AttributeError: 'dict' object has no attribute 'training_iteration'\n"
          ]
        },
        {
          "name": "stdout",
          "output_type": "stream",
          "text": [
            "\n",
            "Trial train_091b2_00009 started with configuration:\n",
            "+-------------------------------------------+\n",
            "| Trial train_091b2_00009 config            |\n",
            "+-------------------------------------------+\n",
            "| clip_param                            0.1 |\n",
            "| lambda                                0.8 |\n",
            "| lr                                 0.0003 |\n",
            "| stop_iteration                         10 |\n",
            "+-------------------------------------------+\n",
            "\n",
            "Trial train_091b2_00009 errored after 0 iterations at 2024-01-07 11:08:37. Total running time: 30s\n",
            "Error file: /content/tune_results/train_2024-01-07_11-08-07/train_091b2_00009_9_clip_param=0.1000,lambda=0.8000,lr=0.0003_2024-01-07_11-08-07/error.txt\n",
            "\n",
            "Trial status: 10 ERROR | 16 PENDING\n",
            "Current time: 2024-01-07 11:08:37. Total running time: 30s\n",
            "Logical resource usage: 0/2 CPUs, 0/1 GPUs\n",
            "+-----------------------------------------------------------------+\n",
            "| Trial name          status       lambda     clip_param       lr |\n",
            "+-----------------------------------------------------------------+\n",
            "| train_091b2_00010   PENDING         0.8            0.2   0.0003 |\n",
            "| train_091b2_00011   PENDING         0.8            0.3   0.0003 |\n",
            "| train_091b2_00012   PENDING         0.9            0.1   0.0003 |\n",
            "| train_091b2_00013   PENDING         0.9            0.2   0.0003 |\n",
            "| train_091b2_00014   PENDING         0.9            0.3   0.0003 |\n",
            "| train_091b2_00000   ERROR           0.8            0.1   0.0001 |\n",
            "| train_091b2_00001   ERROR           0.8            0.2   0.0001 |\n",
            "| train_091b2_00002   ERROR           0.8            0.3   0.0001 |\n",
            "| train_091b2_00003   ERROR           0.9            0.1   0.0001 |\n",
            "| train_091b2_00004   ERROR           0.9            0.2   0.0001 |\n",
            "+-----------------------------------------------------------------+\n",
            "11 more PENDING, 5 more ERROR\n"
          ]
        },
        {
          "name": "stderr",
          "output_type": "stream",
          "text": [
            "2024-01-07 11:08:41,966\tERROR tune_controller.py:1374 -- Trial task failed for trial train_091b2_00010\n",
            "Traceback (most recent call last):\n",
            "  File \"/usr/local/lib/python3.10/dist-packages/ray/air/execution/_internal/event_manager.py\", line 110, in resolve_future\n",
            "    result = ray.get(future)\n",
            "  File \"/usr/local/lib/python3.10/dist-packages/ray/_private/auto_init_hook.py\", line 22, in auto_init_wrapper\n",
            "    return fn(*args, **kwargs)\n",
            "  File \"/usr/local/lib/python3.10/dist-packages/ray/_private/client_mode_hook.py\", line 103, in wrapper\n",
            "    return func(*args, **kwargs)\n",
            "  File \"/usr/local/lib/python3.10/dist-packages/ray/_private/worker.py\", line 2624, in get\n",
            "    raise value.as_instanceof_cause()\n",
            "ray.exceptions.RayTaskError(AttributeError): \u001b[36mray::ImplicitFunc.train()\u001b[39m (pid=28773, ip=172.28.0.12, actor_id=1caaf26a6833f7dfb2f083bd01000000, repr=train)\n",
            "  File \"/usr/local/lib/python3.10/dist-packages/ray/tune/trainable/trainable.py\", line 342, in train\n",
            "    raise skipped from exception_cause(skipped)\n",
            "  File \"/usr/local/lib/python3.10/dist-packages/ray/air/_internal/util.py\", line 88, in run\n",
            "    self._ret = self._target(*self._args, **self._kwargs)\n",
            "  File \"/usr/local/lib/python3.10/dist-packages/ray/tune/trainable/function_trainable.py\", line 115, in <lambda>\n",
            "    training_func=lambda: self._trainable_func(self.config),\n",
            "  File \"/usr/local/lib/python3.10/dist-packages/ray/tune/trainable/function_trainable.py\", line 332, in _trainable_func\n",
            "    output = fn()\n",
            "  File \"<ipython-input-21-4cf143c8e7dd>\", line 13, in train\n",
            "AttributeError: 'dict' object has no attribute 'training_iteration'\n"
          ]
        },
        {
          "name": "stdout",
          "output_type": "stream",
          "text": [
            "\n",
            "Trial train_091b2_00010 started with configuration:\n",
            "+-------------------------------------------+\n",
            "| Trial train_091b2_00010 config            |\n",
            "+-------------------------------------------+\n",
            "| clip_param                            0.2 |\n",
            "| lambda                                0.8 |\n",
            "| lr                                 0.0003 |\n",
            "| stop_iteration                         10 |\n",
            "+-------------------------------------------+\n",
            "\n",
            "Trial train_091b2_00010 errored after 0 iterations at 2024-01-07 11:08:41. Total running time: 34s\n",
            "Error file: /content/tune_results/train_2024-01-07_11-08-07/train_091b2_00010_10_clip_param=0.2000,lambda=0.8000,lr=0.0003_2024-01-07_11-08-07/error.txt\n"
          ]
        },
        {
          "name": "stderr",
          "output_type": "stream",
          "text": [
            "2024-01-07 11:08:46,127\tERROR tune_controller.py:1374 -- Trial task failed for trial train_091b2_00011\n",
            "Traceback (most recent call last):\n",
            "  File \"/usr/local/lib/python3.10/dist-packages/ray/air/execution/_internal/event_manager.py\", line 110, in resolve_future\n",
            "    result = ray.get(future)\n",
            "  File \"/usr/local/lib/python3.10/dist-packages/ray/_private/auto_init_hook.py\", line 22, in auto_init_wrapper\n",
            "    return fn(*args, **kwargs)\n",
            "  File \"/usr/local/lib/python3.10/dist-packages/ray/_private/client_mode_hook.py\", line 103, in wrapper\n",
            "    return func(*args, **kwargs)\n",
            "  File \"/usr/local/lib/python3.10/dist-packages/ray/_private/worker.py\", line 2624, in get\n",
            "    raise value.as_instanceof_cause()\n",
            "ray.exceptions.RayTaskError(AttributeError): \u001b[36mray::ImplicitFunc.train()\u001b[39m (pid=28802, ip=172.28.0.12, actor_id=d811655d7bde491f62f3e99401000000, repr=train)\n",
            "  File \"/usr/local/lib/python3.10/dist-packages/ray/tune/trainable/trainable.py\", line 342, in train\n",
            "    raise skipped from exception_cause(skipped)\n",
            "  File \"/usr/local/lib/python3.10/dist-packages/ray/air/_internal/util.py\", line 88, in run\n",
            "    self._ret = self._target(*self._args, **self._kwargs)\n",
            "  File \"/usr/local/lib/python3.10/dist-packages/ray/tune/trainable/function_trainable.py\", line 115, in <lambda>\n",
            "    training_func=lambda: self._trainable_func(self.config),\n",
            "  File \"/usr/local/lib/python3.10/dist-packages/ray/tune/trainable/function_trainable.py\", line 332, in _trainable_func\n",
            "    output = fn()\n",
            "  File \"<ipython-input-21-4cf143c8e7dd>\", line 13, in train\n",
            "AttributeError: 'dict' object has no attribute 'training_iteration'\n"
          ]
        },
        {
          "name": "stdout",
          "output_type": "stream",
          "text": [
            "\n",
            "Trial train_091b2_00011 started with configuration:\n",
            "+-------------------------------------------+\n",
            "| Trial train_091b2_00011 config            |\n",
            "+-------------------------------------------+\n",
            "| clip_param                            0.3 |\n",
            "| lambda                                0.8 |\n",
            "| lr                                 0.0003 |\n",
            "| stop_iteration                         10 |\n",
            "+-------------------------------------------+\n",
            "\n",
            "Trial train_091b2_00011 errored after 0 iterations at 2024-01-07 11:08:46. Total running time: 38s\n",
            "Error file: /content/tune_results/train_2024-01-07_11-08-07/train_091b2_00011_11_clip_param=0.3000,lambda=0.8000,lr=0.0003_2024-01-07_11-08-07/error.txt\n"
          ]
        },
        {
          "name": "stderr",
          "output_type": "stream",
          "text": [
            "2024-01-07 11:08:47,692\tERROR tune_controller.py:1374 -- Trial task failed for trial train_091b2_00012\n",
            "Traceback (most recent call last):\n",
            "  File \"/usr/local/lib/python3.10/dist-packages/ray/air/execution/_internal/event_manager.py\", line 110, in resolve_future\n",
            "    result = ray.get(future)\n",
            "  File \"/usr/local/lib/python3.10/dist-packages/ray/_private/auto_init_hook.py\", line 22, in auto_init_wrapper\n",
            "    return fn(*args, **kwargs)\n",
            "  File \"/usr/local/lib/python3.10/dist-packages/ray/_private/client_mode_hook.py\", line 103, in wrapper\n",
            "    return func(*args, **kwargs)\n",
            "  File \"/usr/local/lib/python3.10/dist-packages/ray/_private/worker.py\", line 2624, in get\n",
            "    raise value.as_instanceof_cause()\n",
            "ray.exceptions.RayTaskError(AttributeError): \u001b[36mray::ImplicitFunc.train()\u001b[39m (pid=28898, ip=172.28.0.12, actor_id=2a79daadf7869ca512cf751501000000, repr=train)\n",
            "  File \"/usr/local/lib/python3.10/dist-packages/ray/tune/trainable/trainable.py\", line 342, in train\n",
            "    raise skipped from exception_cause(skipped)\n",
            "  File \"/usr/local/lib/python3.10/dist-packages/ray/air/_internal/util.py\", line 88, in run\n",
            "    self._ret = self._target(*self._args, **self._kwargs)\n",
            "  File \"/usr/local/lib/python3.10/dist-packages/ray/tune/trainable/function_trainable.py\", line 115, in <lambda>\n",
            "    training_func=lambda: self._trainable_func(self.config),\n",
            "  File \"/usr/local/lib/python3.10/dist-packages/ray/tune/trainable/function_trainable.py\", line 332, in _trainable_func\n",
            "    output = fn()\n",
            "  File \"<ipython-input-21-4cf143c8e7dd>\", line 13, in train\n",
            "AttributeError: 'dict' object has no attribute 'training_iteration'\n"
          ]
        },
        {
          "name": "stdout",
          "output_type": "stream",
          "text": [
            "\n",
            "Trial train_091b2_00012 started with configuration:\n",
            "+-------------------------------------------+\n",
            "| Trial train_091b2_00012 config            |\n",
            "+-------------------------------------------+\n",
            "| clip_param                            0.1 |\n",
            "| lambda                                0.9 |\n",
            "| lr                                 0.0003 |\n",
            "| stop_iteration                         10 |\n",
            "+-------------------------------------------+\n",
            "\n",
            "Trial train_091b2_00012 errored after 0 iterations at 2024-01-07 11:08:47. Total running time: 40s\n",
            "Error file: /content/tune_results/train_2024-01-07_11-08-07/train_091b2_00012_12_clip_param=0.1000,lambda=0.9000,lr=0.0003_2024-01-07_11-08-07/error.txt\n"
          ]
        },
        {
          "name": "stderr",
          "output_type": "stream",
          "text": [
            "2024-01-07 11:08:51,497\tERROR tune_controller.py:1374 -- Trial task failed for trial train_091b2_00013\n",
            "Traceback (most recent call last):\n",
            "  File \"/usr/local/lib/python3.10/dist-packages/ray/air/execution/_internal/event_manager.py\", line 110, in resolve_future\n",
            "    result = ray.get(future)\n",
            "  File \"/usr/local/lib/python3.10/dist-packages/ray/_private/auto_init_hook.py\", line 22, in auto_init_wrapper\n",
            "    return fn(*args, **kwargs)\n",
            "  File \"/usr/local/lib/python3.10/dist-packages/ray/_private/client_mode_hook.py\", line 103, in wrapper\n",
            "    return func(*args, **kwargs)\n",
            "  File \"/usr/local/lib/python3.10/dist-packages/ray/_private/worker.py\", line 2624, in get\n",
            "    raise value.as_instanceof_cause()\n",
            "ray.exceptions.RayTaskError(AttributeError): \u001b[36mray::ImplicitFunc.train()\u001b[39m (pid=28973, ip=172.28.0.12, actor_id=90347ea0669409b9c4e1baf101000000, repr=train)\n",
            "  File \"/usr/local/lib/python3.10/dist-packages/ray/tune/trainable/trainable.py\", line 342, in train\n",
            "    raise skipped from exception_cause(skipped)\n",
            "  File \"/usr/local/lib/python3.10/dist-packages/ray/air/_internal/util.py\", line 88, in run\n",
            "    self._ret = self._target(*self._args, **self._kwargs)\n",
            "  File \"/usr/local/lib/python3.10/dist-packages/ray/tune/trainable/function_trainable.py\", line 115, in <lambda>\n",
            "    training_func=lambda: self._trainable_func(self.config),\n",
            "  File \"/usr/local/lib/python3.10/dist-packages/ray/tune/trainable/function_trainable.py\", line 332, in _trainable_func\n",
            "    output = fn()\n",
            "  File \"<ipython-input-21-4cf143c8e7dd>\", line 13, in train\n",
            "AttributeError: 'dict' object has no attribute 'training_iteration'\n"
          ]
        },
        {
          "name": "stdout",
          "output_type": "stream",
          "text": [
            "\n",
            "Trial train_091b2_00013 started with configuration:\n",
            "+-------------------------------------------+\n",
            "| Trial train_091b2_00013 config            |\n",
            "+-------------------------------------------+\n",
            "| clip_param                            0.2 |\n",
            "| lambda                                0.9 |\n",
            "| lr                                 0.0003 |\n",
            "| stop_iteration                         10 |\n",
            "+-------------------------------------------+\n",
            "\n",
            "Trial train_091b2_00013 errored after 0 iterations at 2024-01-07 11:08:51. Total running time: 44s\n",
            "Error file: /content/tune_results/train_2024-01-07_11-08-07/train_091b2_00013_13_clip_param=0.2000,lambda=0.9000,lr=0.0003_2024-01-07_11-08-07/error.txt\n"
          ]
        },
        {
          "name": "stderr",
          "output_type": "stream",
          "text": [
            "2024-01-07 11:08:53,091\tERROR tune_controller.py:1374 -- Trial task failed for trial train_091b2_00014\n",
            "Traceback (most recent call last):\n",
            "  File \"/usr/local/lib/python3.10/dist-packages/ray/air/execution/_internal/event_manager.py\", line 110, in resolve_future\n",
            "    result = ray.get(future)\n",
            "  File \"/usr/local/lib/python3.10/dist-packages/ray/_private/auto_init_hook.py\", line 22, in auto_init_wrapper\n",
            "    return fn(*args, **kwargs)\n",
            "  File \"/usr/local/lib/python3.10/dist-packages/ray/_private/client_mode_hook.py\", line 103, in wrapper\n",
            "    return func(*args, **kwargs)\n",
            "  File \"/usr/local/lib/python3.10/dist-packages/ray/_private/worker.py\", line 2624, in get\n",
            "    raise value.as_instanceof_cause()\n",
            "ray.exceptions.RayTaskError(AttributeError): \u001b[36mray::ImplicitFunc.train()\u001b[39m (pid=29029, ip=172.28.0.12, actor_id=f384f0dce89aec50bc98859d01000000, repr=train)\n",
            "  File \"/usr/local/lib/python3.10/dist-packages/ray/tune/trainable/trainable.py\", line 342, in train\n",
            "    raise skipped from exception_cause(skipped)\n",
            "  File \"/usr/local/lib/python3.10/dist-packages/ray/air/_internal/util.py\", line 88, in run\n",
            "    self._ret = self._target(*self._args, **self._kwargs)\n",
            "  File \"/usr/local/lib/python3.10/dist-packages/ray/tune/trainable/function_trainable.py\", line 115, in <lambda>\n",
            "    training_func=lambda: self._trainable_func(self.config),\n",
            "  File \"/usr/local/lib/python3.10/dist-packages/ray/tune/trainable/function_trainable.py\", line 332, in _trainable_func\n",
            "    output = fn()\n",
            "  File \"<ipython-input-21-4cf143c8e7dd>\", line 13, in train\n",
            "AttributeError: 'dict' object has no attribute 'training_iteration'\n"
          ]
        },
        {
          "name": "stdout",
          "output_type": "stream",
          "text": [
            "\n",
            "Trial train_091b2_00014 started with configuration:\n",
            "+-------------------------------------------+\n",
            "| Trial train_091b2_00014 config            |\n",
            "+-------------------------------------------+\n",
            "| clip_param                            0.3 |\n",
            "| lambda                                0.9 |\n",
            "| lr                                 0.0003 |\n",
            "| stop_iteration                         10 |\n",
            "+-------------------------------------------+\n",
            "\n",
            "Trial train_091b2_00014 errored after 0 iterations at 2024-01-07 11:08:53. Total running time: 45s\n",
            "Error file: /content/tune_results/train_2024-01-07_11-08-07/train_091b2_00014_14_clip_param=0.3000,lambda=0.9000,lr=0.0003_2024-01-07_11-08-07/error.txt\n"
          ]
        },
        {
          "name": "stderr",
          "output_type": "stream",
          "text": [
            "2024-01-07 11:08:56,390\tERROR tune_controller.py:1374 -- Trial task failed for trial train_091b2_00015\n",
            "Traceback (most recent call last):\n",
            "  File \"/usr/local/lib/python3.10/dist-packages/ray/air/execution/_internal/event_manager.py\", line 110, in resolve_future\n",
            "    result = ray.get(future)\n",
            "  File \"/usr/local/lib/python3.10/dist-packages/ray/_private/auto_init_hook.py\", line 22, in auto_init_wrapper\n",
            "    return fn(*args, **kwargs)\n",
            "  File \"/usr/local/lib/python3.10/dist-packages/ray/_private/client_mode_hook.py\", line 103, in wrapper\n",
            "    return func(*args, **kwargs)\n",
            "  File \"/usr/local/lib/python3.10/dist-packages/ray/_private/worker.py\", line 2624, in get\n",
            "    raise value.as_instanceof_cause()\n",
            "ray.exceptions.RayTaskError(AttributeError): \u001b[36mray::ImplicitFunc.train()\u001b[39m (pid=29098, ip=172.28.0.12, actor_id=d21499668ad7b5877926ced001000000, repr=train)\n",
            "  File \"/usr/local/lib/python3.10/dist-packages/ray/tune/trainable/trainable.py\", line 342, in train\n",
            "    raise skipped from exception_cause(skipped)\n",
            "  File \"/usr/local/lib/python3.10/dist-packages/ray/air/_internal/util.py\", line 88, in run\n",
            "    self._ret = self._target(*self._args, **self._kwargs)\n",
            "  File \"/usr/local/lib/python3.10/dist-packages/ray/tune/trainable/function_trainable.py\", line 115, in <lambda>\n",
            "    training_func=lambda: self._trainable_func(self.config),\n",
            "  File \"/usr/local/lib/python3.10/dist-packages/ray/tune/trainable/function_trainable.py\", line 332, in _trainable_func\n",
            "    output = fn()\n",
            "  File \"<ipython-input-21-4cf143c8e7dd>\", line 13, in train\n",
            "AttributeError: 'dict' object has no attribute 'training_iteration'\n"
          ]
        },
        {
          "name": "stdout",
          "output_type": "stream",
          "text": [
            "\n",
            "Trial train_091b2_00015 started with configuration:\n",
            "+-------------------------------------------+\n",
            "| Trial train_091b2_00015 config            |\n",
            "+-------------------------------------------+\n",
            "| clip_param                            0.1 |\n",
            "| lambda                                  1 |\n",
            "| lr                                 0.0003 |\n",
            "| stop_iteration                         10 |\n",
            "+-------------------------------------------+\n",
            "\n",
            "Trial train_091b2_00015 errored after 0 iterations at 2024-01-07 11:08:56. Total running time: 49s\n",
            "Error file: /content/tune_results/train_2024-01-07_11-08-07/train_091b2_00015_15_clip_param=0.1000,lambda=1.0000,lr=0.0003_2024-01-07_11-08-07/error.txt\n"
          ]
        },
        {
          "name": "stderr",
          "output_type": "stream",
          "text": [
            "2024-01-07 11:08:58,088\tERROR tune_controller.py:1374 -- Trial task failed for trial train_091b2_00016\n",
            "Traceback (most recent call last):\n",
            "  File \"/usr/local/lib/python3.10/dist-packages/ray/air/execution/_internal/event_manager.py\", line 110, in resolve_future\n",
            "    result = ray.get(future)\n",
            "  File \"/usr/local/lib/python3.10/dist-packages/ray/_private/auto_init_hook.py\", line 22, in auto_init_wrapper\n",
            "    return fn(*args, **kwargs)\n",
            "  File \"/usr/local/lib/python3.10/dist-packages/ray/_private/client_mode_hook.py\", line 103, in wrapper\n",
            "    return func(*args, **kwargs)\n",
            "  File \"/usr/local/lib/python3.10/dist-packages/ray/_private/worker.py\", line 2624, in get\n",
            "    raise value.as_instanceof_cause()\n",
            "ray.exceptions.RayTaskError(AttributeError): \u001b[36mray::ImplicitFunc.train()\u001b[39m (pid=29103, ip=172.28.0.12, actor_id=fff4e46abfa33bb03160c4c401000000, repr=train)\n",
            "  File \"/usr/local/lib/python3.10/dist-packages/ray/tune/trainable/trainable.py\", line 342, in train\n",
            "    raise skipped from exception_cause(skipped)\n",
            "  File \"/usr/local/lib/python3.10/dist-packages/ray/air/_internal/util.py\", line 88, in run\n",
            "    self._ret = self._target(*self._args, **self._kwargs)\n",
            "  File \"/usr/local/lib/python3.10/dist-packages/ray/tune/trainable/function_trainable.py\", line 115, in <lambda>\n",
            "    training_func=lambda: self._trainable_func(self.config),\n",
            "  File \"/usr/local/lib/python3.10/dist-packages/ray/tune/trainable/function_trainable.py\", line 332, in _trainable_func\n",
            "    output = fn()\n",
            "  File \"<ipython-input-21-4cf143c8e7dd>\", line 13, in train\n",
            "AttributeError: 'dict' object has no attribute 'training_iteration'\n"
          ]
        },
        {
          "name": "stdout",
          "output_type": "stream",
          "text": [
            "\n",
            "Trial train_091b2_00016 started with configuration:\n",
            "+-------------------------------------------+\n",
            "| Trial train_091b2_00016 config            |\n",
            "+-------------------------------------------+\n",
            "| clip_param                            0.2 |\n",
            "| lambda                                  1 |\n",
            "| lr                                 0.0003 |\n",
            "| stop_iteration                         10 |\n",
            "+-------------------------------------------+\n",
            "\n",
            "Trial train_091b2_00016 errored after 0 iterations at 2024-01-07 11:08:58. Total running time: 50s\n",
            "Error file: /content/tune_results/train_2024-01-07_11-08-07/train_091b2_00016_16_clip_param=0.2000,lambda=1.0000,lr=0.0003_2024-01-07_11-08-13/error.txt\n"
          ]
        },
        {
          "name": "stderr",
          "output_type": "stream",
          "text": [
            "2024-01-07 11:09:01,000\tWARNING tune.py:186 -- Stop signal received (e.g. via SIGINT/Ctrl+C), ending Ray Tune run. This will try to checkpoint the experiment state one last time. Press CTRL+C (or send SIGINT/SIGKILL/SIGTERM) to skip. \n"
          ]
        },
        {
          "name": "stdout",
          "output_type": "stream",
          "text": [
            "\n",
            "Trial status: 17 ERROR | 16 PENDING\n",
            "Current time: 2024-01-07 11:09:01. Total running time: 53s\n",
            "Logical resource usage: 2.0/2 CPUs, 0/1 GPUs\n",
            "+-----------------------------------------------------------------+\n",
            "| Trial name          status       lambda     clip_param       lr |\n",
            "+-----------------------------------------------------------------+\n",
            "| train_091b2_00017   PENDING         1              0.3   0.0003 |\n",
            "| train_091b2_00018   PENDING         0.8            0.1   0.001  |\n",
            "| train_091b2_00019   PENDING         0.8            0.2   0.001  |\n",
            "| train_091b2_00020   PENDING         0.8            0.3   0.001  |\n",
            "| train_091b2_00021   PENDING         0.9            0.1   0.001  |\n",
            "| train_091b2_00022   PENDING         0.9            0.2   0.001  |\n",
            "| train_091b2_00023   PENDING         0.9            0.3   0.001  |\n",
            "| train_091b2_00024   PENDING         1              0.1   0.001  |\n",
            "| train_091b2_00025   PENDING         1              0.2   0.001  |\n",
            "| train_091b2_00026   PENDING         1              0.3   0.001  |\n",
            "| train_091b2_00027   PENDING         0.8            0.1   0.0001 |\n",
            "| train_091b2_00028   PENDING         0.8            0.2   0.0001 |\n",
            "| train_091b2_00029   PENDING         0.8            0.3   0.0001 |\n",
            "| train_091b2_00030   PENDING         0.9            0.1   0.0001 |\n",
            "| train_091b2_00031   PENDING         0.9            0.2   0.0001 |\n",
            "| train_091b2_00032   PENDING         0.9            0.3   0.0001 |\n",
            "| train_091b2_00000   ERROR           0.8            0.1   0.0001 |\n",
            "| train_091b2_00001   ERROR           0.8            0.2   0.0001 |\n",
            "| train_091b2_00002   ERROR           0.8            0.3   0.0001 |\n",
            "| train_091b2_00003   ERROR           0.9            0.1   0.0001 |\n",
            "| train_091b2_00004   ERROR           0.9            0.2   0.0001 |\n",
            "| train_091b2_00005   ERROR           0.9            0.3   0.0001 |\n",
            "| train_091b2_00006   ERROR           1              0.1   0.0001 |\n",
            "| train_091b2_00007   ERROR           1              0.2   0.0001 |\n",
            "| train_091b2_00008   ERROR           1              0.3   0.0001 |\n",
            "| train_091b2_00009   ERROR           0.8            0.1   0.0003 |\n",
            "| train_091b2_00010   ERROR           0.8            0.2   0.0003 |\n",
            "| train_091b2_00011   ERROR           0.8            0.3   0.0003 |\n",
            "| train_091b2_00012   ERROR           0.9            0.1   0.0003 |\n",
            "| train_091b2_00013   ERROR           0.9            0.2   0.0003 |\n",
            "| train_091b2_00014   ERROR           0.9            0.3   0.0003 |\n",
            "| train_091b2_00015   ERROR           1              0.1   0.0003 |\n",
            "| train_091b2_00016   ERROR           1              0.2   0.0003 |\n",
            "+-----------------------------------------------------------------+\n",
            "\n",
            "Number of errored trials: 17\n",
            "+---------------------------------------------------------------------------------------------------------------------------------------------------------------------------------+\n",
            "| Trial name            # failures   error file                                                                                                                                   |\n",
            "+---------------------------------------------------------------------------------------------------------------------------------------------------------------------------------+\n",
            "| train_091b2_00000              1   /content/tune_results/train_2024-01-07_11-08-07/train_091b2_00000_0_clip_param=0.1000,lambda=0.8000,lr=0.0001_2024-01-07_11-08-07/error.txt  |\n",
            "| train_091b2_00001              1   /content/tune_results/train_2024-01-07_11-08-07/train_091b2_00001_1_clip_param=0.2000,lambda=0.8000,lr=0.0001_2024-01-07_11-08-07/error.txt  |\n",
            "| train_091b2_00002              1   /content/tune_results/train_2024-01-07_11-08-07/train_091b2_00002_2_clip_param=0.3000,lambda=0.8000,lr=0.0001_2024-01-07_11-08-07/error.txt  |\n",
            "| train_091b2_00003              1   /content/tune_results/train_2024-01-07_11-08-07/train_091b2_00003_3_clip_param=0.1000,lambda=0.9000,lr=0.0001_2024-01-07_11-08-07/error.txt  |\n",
            "| train_091b2_00004              1   /content/tune_results/train_2024-01-07_11-08-07/train_091b2_00004_4_clip_param=0.2000,lambda=0.9000,lr=0.0001_2024-01-07_11-08-07/error.txt  |\n",
            "| train_091b2_00005              1   /content/tune_results/train_2024-01-07_11-08-07/train_091b2_00005_5_clip_param=0.3000,lambda=0.9000,lr=0.0001_2024-01-07_11-08-07/error.txt  |\n",
            "| train_091b2_00006              1   /content/tune_results/train_2024-01-07_11-08-07/train_091b2_00006_6_clip_param=0.1000,lambda=1.0000,lr=0.0001_2024-01-07_11-08-07/error.txt  |\n",
            "| train_091b2_00007              1   /content/tune_results/train_2024-01-07_11-08-07/train_091b2_00007_7_clip_param=0.2000,lambda=1.0000,lr=0.0001_2024-01-07_11-08-07/error.txt  |\n",
            "| train_091b2_00008              1   /content/tune_results/train_2024-01-07_11-08-07/train_091b2_00008_8_clip_param=0.3000,lambda=1.0000,lr=0.0001_2024-01-07_11-08-07/error.txt  |\n",
            "| train_091b2_00009              1   /content/tune_results/train_2024-01-07_11-08-07/train_091b2_00009_9_clip_param=0.1000,lambda=0.8000,lr=0.0003_2024-01-07_11-08-07/error.txt  |\n",
            "| train_091b2_00010              1   /content/tune_results/train_2024-01-07_11-08-07/train_091b2_00010_10_clip_param=0.2000,lambda=0.8000,lr=0.0003_2024-01-07_11-08-07/error.txt |\n",
            "| train_091b2_00011              1   /content/tune_results/train_2024-01-07_11-08-07/train_091b2_00011_11_clip_param=0.3000,lambda=0.8000,lr=0.0003_2024-01-07_11-08-07/error.txt |\n",
            "| train_091b2_00012              1   /content/tune_results/train_2024-01-07_11-08-07/train_091b2_00012_12_clip_param=0.1000,lambda=0.9000,lr=0.0003_2024-01-07_11-08-07/error.txt |\n",
            "| train_091b2_00013              1   /content/tune_results/train_2024-01-07_11-08-07/train_091b2_00013_13_clip_param=0.2000,lambda=0.9000,lr=0.0003_2024-01-07_11-08-07/error.txt |\n",
            "| train_091b2_00014              1   /content/tune_results/train_2024-01-07_11-08-07/train_091b2_00014_14_clip_param=0.3000,lambda=0.9000,lr=0.0003_2024-01-07_11-08-07/error.txt |\n",
            "| train_091b2_00015              1   /content/tune_results/train_2024-01-07_11-08-07/train_091b2_00015_15_clip_param=0.1000,lambda=1.0000,lr=0.0003_2024-01-07_11-08-07/error.txt |\n",
            "| train_091b2_00016              1   /content/tune_results/train_2024-01-07_11-08-07/train_091b2_00016_16_clip_param=0.2000,lambda=1.0000,lr=0.0003_2024-01-07_11-08-13/error.txt |\n",
            "+---------------------------------------------------------------------------------------------------------------------------------------------------------------------------------+\n"
          ]
        },
        {
          "name": "stderr",
          "output_type": "stream",
          "text": [
            "2024-01-07 11:09:03,712\tERROR tune.py:1038 -- Trials did not complete: [train_091b2_00000, train_091b2_00001, train_091b2_00002, train_091b2_00003, train_091b2_00004, train_091b2_00005, train_091b2_00006, train_091b2_00007, train_091b2_00008, train_091b2_00009, train_091b2_00010, train_091b2_00011, train_091b2_00012, train_091b2_00013, train_091b2_00014, train_091b2_00015, train_091b2_00016]\n",
            "2024-01-07 11:09:03,724\tWARNING tune.py:1057 -- Experiment has been interrupted, but the most recent state was saved.\n",
            "Resume experiment with: tune.run(..., resume=True)\n",
            "2024-01-07 11:09:03,750\tWARNING experiment_analysis.py:193 -- Failed to fetch metrics for 16 trial(s):\n",
            "- train_091b2_00017: FileNotFoundError('Could not fetch metrics for train_091b2_00017: both result.json and progress.csv were not found at /content/tune_results/train_2024-01-07_11-08-07/train_091b2_00017_17_clip_param=0.3000,lambda=1.0000,lr=0.0003_2024-01-07_11-08-13')\n",
            "- train_091b2_00018: FileNotFoundError('Could not fetch metrics for train_091b2_00018: both result.json and progress.csv were not found at /content/tune_results/train_2024-01-07_11-08-07/train_091b2_00018_18_clip_param=0.1000,lambda=0.8000,lr=0.0010_2024-01-07_11-08-19')\n",
            "- train_091b2_00019: FileNotFoundError('Could not fetch metrics for train_091b2_00019: both result.json and progress.csv were not found at /content/tune_results/train_2024-01-07_11-08-07/train_091b2_00019_19_clip_param=0.2000,lambda=0.8000,lr=0.0010_2024-01-07_11-08-19')\n",
            "- train_091b2_00020: FileNotFoundError('Could not fetch metrics for train_091b2_00020: both result.json and progress.csv were not found at /content/tune_results/train_2024-01-07_11-08-07/train_091b2_00020_20_clip_param=0.3000,lambda=0.8000,lr=0.0010_2024-01-07_11-08-24')\n",
            "- train_091b2_00021: FileNotFoundError('Could not fetch metrics for train_091b2_00021: both result.json and progress.csv were not found at /content/tune_results/train_2024-01-07_11-08-07/train_091b2_00021_21_clip_param=0.1000,lambda=0.9000,lr=0.0010_2024-01-07_11-08-24')\n",
            "- train_091b2_00022: FileNotFoundError('Could not fetch metrics for train_091b2_00022: both result.json and progress.csv were not found at /content/tune_results/train_2024-01-07_11-08-07/train_091b2_00022_22_clip_param=0.2000,lambda=0.9000,lr=0.0010_2024-01-07_11-08-32')\n",
            "- train_091b2_00023: FileNotFoundError('Could not fetch metrics for train_091b2_00023: both result.json and progress.csv were not found at /content/tune_results/train_2024-01-07_11-08-07/train_091b2_00023_23_clip_param=0.3000,lambda=0.9000,lr=0.0010_2024-01-07_11-08-32')\n",
            "- train_091b2_00024: FileNotFoundError('Could not fetch metrics for train_091b2_00024: both result.json and progress.csv were not found at /content/tune_results/train_2024-01-07_11-08-07/train_091b2_00024_24_clip_param=0.1000,lambda=1.0000,lr=0.0010_2024-01-07_11-08-36')\n",
            "- train_091b2_00025: FileNotFoundError('Could not fetch metrics for train_091b2_00025: both result.json and progress.csv were not found at /content/tune_results/train_2024-01-07_11-08-07/train_091b2_00025_25_clip_param=0.2000,lambda=1.0000,lr=0.0010_2024-01-07_11-08-37')\n",
            "- train_091b2_00026: FileNotFoundError('Could not fetch metrics for train_091b2_00026: both result.json and progress.csv were not found at /content/tune_results/train_2024-01-07_11-08-07/train_091b2_00026_26_clip_param=0.3000,lambda=1.0000,lr=0.0010_2024-01-07_11-08-41')\n",
            "- train_091b2_00027: FileNotFoundError('Could not fetch metrics for train_091b2_00027: both result.json and progress.csv were not found at /content/tune_results/train_2024-01-07_11-08-07/train_091b2_00027_27_clip_param=0.1000,lambda=0.8000,lr=0.0001_2024-01-07_11-08-46')\n",
            "- train_091b2_00028: FileNotFoundError('Could not fetch metrics for train_091b2_00028: both result.json and progress.csv were not found at /content/tune_results/train_2024-01-07_11-08-07/train_091b2_00028_28_clip_param=0.2000,lambda=0.8000,lr=0.0001_2024-01-07_11-08-47')\n",
            "- train_091b2_00029: FileNotFoundError('Could not fetch metrics for train_091b2_00029: both result.json and progress.csv were not found at /content/tune_results/train_2024-01-07_11-08-07/train_091b2_00029_29_clip_param=0.3000,lambda=0.8000,lr=0.0001_2024-01-07_11-08-51')\n",
            "- train_091b2_00030: FileNotFoundError('Could not fetch metrics for train_091b2_00030: both result.json and progress.csv were not found at /content/tune_results/train_2024-01-07_11-08-07/train_091b2_00030_30_clip_param=0.1000,lambda=0.9000,lr=0.0001_2024-01-07_11-08-53')\n",
            "- train_091b2_00031: FileNotFoundError('Could not fetch metrics for train_091b2_00031: both result.json and progress.csv were not found at /content/tune_results/train_2024-01-07_11-08-07/train_091b2_00031_31_clip_param=0.2000,lambda=0.9000,lr=0.0001_2024-01-07_11-08-56')\n",
            "- train_091b2_00032: FileNotFoundError('Could not fetch metrics for train_091b2_00032: both result.json and progress.csv were not found at /content/tune_results/train_2024-01-07_11-08-07/train_091b2_00032_32_clip_param=0.3000,lambda=0.9000,lr=0.0001_2024-01-07_11-08-58')\n",
            "2024-01-07 11:09:03,753\tWARNING experiment_analysis.py:584 -- Could not find best trial. Did you pass the correct `metric` parameter?\n"
          ]
        },
        {
          "name": "stdout",
          "output_type": "stream",
          "text": [
            "\n",
            "Best Hyperparameters: None\n"
          ]
        }
      ],
      "source": [
        "import ray\n",
        "from ray import tune\n",
        "from ray.tune import CLIReporter\n",
        "import os\n",
        "import gym\n",
        "\n",
        "def train(config):\n",
        "    env_name = \"LunarLander-v2\"\n",
        "    config[\"env\"] = env_name\n",
        "\n",
        "    stop_iteration = config.get(\"stop_iteration\", 100)  # Set a maximum number of training iterations\n",
        "    for i in range(stop_iteration):\n",
        "        result = config.training_iteration()\n",
        "        mean_reward = result[\"episode_reward_mean\"]\n",
        "\n",
        "        # Use ray.train.report() to report results\n",
        "        tune.report(mean_reward=mean_reward, training_iteration=i+1)\n",
        "\n",
        "        # Stopping criteria: Stop when mean_reward reaches 200\n",
        "        if mean_reward >= 0:\n",
        "            break\n",
        "\n",
        "config_space = {\n",
        "    \"lambda\": tune.grid_search([0.8, 0.9, 0.95]),\n",
        "    \"clip_param\": tune.grid_search([0.1, 0.2, 0.3]),\n",
        "    \"lr\": tune.grid_search([1e-4, 3e-4, 1e-3]),\n",
        "    \"stop_iteration\": 100,  # Number of training iterations\n",
        "}\n",
        "\n",
        "reporter = CLIReporter(metric_columns=[\"mean_reward\", \"training_iteration\"])\n",
        "\n",
        "ray.init(num_cpus=2, num_gpus=1, ignore_reinit_error=True)\n",
        "\n",
        "# Use an absolute path for local_dir\n",
        "absolute_path = os.path.abspath(\"./tune_results\")\n",
        "\n",
        "analysis = tune.run(\n",
        "    train,\n",
        "    config=config_space,\n",
        "    num_samples=3,\n",
        "    local_dir=absolute_path,\n",
        "    progress_reporter=reporter,\n",
        ")\n",
        "\n",
        "\n",
        "# Get best hyperparameters\n",
        "best_config = analysis.get_best_config(metric=\"mean_reward\", mode=\"max\")\n",
        "print(\"Best Hyperparameters:\", best_config)\n",
        "\n",
        "ray.shutdown()\n"
      ]
    },
    {
      "cell_type": "markdown",
      "metadata": {
        "id": "_FOVfnyfEzku"
      },
      "source": [
        "# Adding less fuel consumption objective"
      ]
    },
    {
      "cell_type": "markdown",
      "metadata": {
        "id": "A47ksRF6E6XI"
      },
      "source": [
        "Here is a modified reward function adding penalties for using to much fuel. How the model will react to changes ?"
      ]
    },
    {
      "cell_type": "code",
      "execution_count": 7,
      "metadata": {
        "id": "0rETZMMnE5ad"
      },
      "outputs": [],
      "source": [
        "import numpy as np\n",
        "\n",
        "def basic_reward(state, action, next_state):\n",
        "    # Reward for descending gently\n",
        "    descent_reward = 1.0 - abs(next_state[1])\n",
        "\n",
        "    # Reward for aligning with the landing pad\n",
        "    alignment_reward = 1.0 - abs(next_state[4])\n",
        "\n",
        "    # Penalty for fuel usage (negative reward)\n",
        "    fuel_penalty = -0.1 * np.linalg.norm(action)\n",
        "\n",
        "    # Combine the reward components\n",
        "    total_reward = descent_reward + alignment_reward + fuel_penalty\n",
        "\n",
        "    return total_reward\n"
      ]
    },
    {
      "cell_type": "code",
      "execution_count": 1,
      "metadata": {
        "id": "4S_qWKc255YI"
      },
      "outputs": [],
      "source": [
        "import gym\n",
        "import ray\n",
        "from ray import tune\n",
        "\n",
        "# Define a custom reward function with adjusted shaping\n",
        "def complex_reward(state, action, next_state, reward, done):\n",
        "    # Extract relevant information from the state\n",
        "    position_x = state[0]\n",
        "    position_y = state[1]\n",
        "    velocity_x = state[2]\n",
        "    velocity_y = state[3]\n",
        "    angle = state[4]\n",
        "    angular_velocity = state[5]\n",
        "    left_leg_contact = state[6]\n",
        "    right_leg_contact = state[7]\n",
        "\n",
        "    # Penalize for using engine thrust (negative reward)\n",
        "    fuel_penalty = -0.1 * abs(action[0])\n",
        "\n",
        "    # Reward for moving towards the landing pad\n",
        "    landing_reward = 10.0 * (position_x + 0.5)\n",
        "\n",
        "    # Additional rewards for a safe landing and less fuel consumption\n",
        "    if abs(position_x) < 0.05 and abs(position_y) < 0.05 and velocity_y <= 0.0:\n",
        "        landing_reward += 100.0\n",
        "        fuel_penalty -= 0.1  # Encourage less fuel consumption during safe landing\n",
        "\n",
        "    # Combine rewards\n",
        "    total_reward = reward + fuel_penalty + landing_reward\n",
        "\n",
        "    return total_reward"
      ]
    },
    {
      "cell_type": "code",
      "execution_count": null,
      "metadata": {
        "colab": {
          "base_uri": "https://localhost:8080/"
        },
        "id": "u-WeYWvfiDcA",
        "outputId": "99a3d199-531e-49b5-ca17-3e545e617f8a"
      },
      "outputs": [
        {
          "output_type": "stream",
          "name": "stderr",
          "text": [
            "2024-01-07 11:58:12,172\tINFO worker.py:1724 -- Started a local Ray instance.\n",
            "2024-01-07 11:58:13,782\tINFO tune.py:592 -- [output] This will use the new output engine with verbosity 2. To disable the new output and use the legacy output engine, set the environment variable RAY_AIR_NEW_OUTPUT=0. For more information, please see https://github.com/ray-project/ray/issues/36949\n"
          ]
        },
        {
          "output_type": "stream",
          "name": "stdout",
          "text": [
            "+--------------------------------------------------------+\n",
            "| Configuration for experiment     my_experiment         |\n",
            "+--------------------------------------------------------+\n",
            "| Search algorithm                 BasicVariantGenerator |\n",
            "| Scheduler                        FIFOScheduler         |\n",
            "| Number of trials                 1                     |\n",
            "+--------------------------------------------------------+\n",
            "\n",
            "View detailed results here: /root/ray_results/my_experiment\n",
            "To visualize your results with TensorBoard, run: `tensorboard --logdir /root/ray_results/my_experiment`\n",
            "\n",
            "Trial status: 1 PENDING\n",
            "Current time: 2024-01-07 11:58:14. Total running time: 0s\n",
            "Logical resource usage: 0/2 CPUs, 0/1 GPUs\n",
            "+-------------------------------------------+\n",
            "| Trial name                       status   |\n",
            "+-------------------------------------------+\n",
            "| PPO_LunarLander-v2_0934b_00000   PENDING  |\n",
            "+-------------------------------------------+\n",
            "\n",
            "Trial PPO_LunarLander-v2_0934b_00000 started with configuration:\n",
            "+----------------------------------------------------------------------+\n",
            "| Trial PPO_LunarLander-v2_0934b_00000 config                          |\n",
            "+----------------------------------------------------------------------+\n",
            "| clip_param                                                       0.1 |\n",
            "| env                                                   LunarLander-v2 |\n",
            "| framework                                                         tf |\n",
            "| gamma                                                           0.99 |\n",
            "| lambda                                                           0.9 |\n",
            "| lr                                                           0.00005 |\n",
            "| num_iterations                                                100000 |\n",
            "| num_workers                                                        1 |\n",
            "| reward_fn                                       ...t 0x7e88102a1f30> |\n",
            "| sgd_minibatch_size                                               256 |\n",
            "| train_batch_size                                                1000 |\n",
            "+----------------------------------------------------------------------+\n"
          ]
        },
        {
          "output_type": "stream",
          "name": "stderr",
          "text": [
            "\u001b[36m(PPO pid=44082)\u001b[0m Trainable.setup took 11.791 seconds. If your trainable is slow to initialize, consider setting reuse_actors=True to reduce actor creation overheads.\n",
            "\u001b[36m(PPO pid=44082)\u001b[0m Install gputil for GPU system monitoring.\n",
            "\u001b[36m(PPO pid=44082)\u001b[0m 2024-01-07 11:58:38,223\tWARNING deprecation.py:50 -- DeprecationWarning: `ray.rllib.execution.train_ops.multi_gpu_train_one_step` has been deprecated. This will raise an error in the future!\n"
          ]
        },
        {
          "output_type": "stream",
          "name": "stdout",
          "text": [
            "\n",
            "Trial PPO_LunarLander-v2_0934b_00000 finished iteration 1 at 2024-01-07 11:58:39. Total running time: 25s\n",
            "+----------------------------------------------------------+\n",
            "| Trial PPO_LunarLander-v2_0934b_00000 result              |\n",
            "+----------------------------------------------------------+\n",
            "| episodes_total                                        11 |\n",
            "| num_env_steps_sampled                               1000 |\n",
            "| num_env_steps_trained                               1000 |\n",
            "| sampler_results/episode_len_mean                      83 |\n",
            "| sampler_results/episode_reward_mean             -127.936 |\n",
            "+----------------------------------------------------------+\n",
            "\n",
            "Trial PPO_LunarLander-v2_0934b_00000 finished iteration 2 at 2024-01-07 11:58:41. Total running time: 27s\n",
            "+----------------------------------------------------------+\n",
            "| Trial PPO_LunarLander-v2_0934b_00000 result              |\n",
            "+----------------------------------------------------------+\n",
            "| episodes_total                                        22 |\n",
            "| num_env_steps_sampled                               2000 |\n",
            "| num_env_steps_trained                               2000 |\n",
            "| sampler_results/episode_len_mean                 89.0455 |\n",
            "| sampler_results/episode_reward_mean             -168.255 |\n",
            "+----------------------------------------------------------+\n",
            "\n",
            "Trial status: 1 RUNNING\n",
            "Current time: 2024-01-07 11:58:44. Total running time: 30s\n",
            "Logical resource usage: 2.0/2 CPUs, 0/1 GPUs\n",
            "Current best trial: 0934b_00000 with episode_reward_mean=-168.2545903191963 and params={'extra_python_environs_for_driver': {}, 'extra_python_environs_for_worker': {}, 'num_gpus': 0, 'num_cpus_per_worker': 1, 'num_gpus_per_worker': 0, '_fake_gpus': False, 'num_learner_workers': 0, 'num_gpus_per_learner_worker': 0, 'num_cpus_per_learner_worker': 1, 'local_gpu_idx': 0, 'custom_resources_per_worker': {}, 'placement_strategy': 'PACK', 'eager_tracing': True, 'eager_max_retraces': 20, 'tf_session_args': {'intra_op_parallelism_threads': 2, 'inter_op_parallelism_threads': 2, 'gpu_options': {'allow_growth': True}, 'log_device_placement': False, 'device_count': {'CPU': 1}, 'allow_soft_placement': True}, 'local_tf_session_args': {'intra_op_parallelism_threads': 8, 'inter_op_parallelism_threads': 8}, 'torch_compile_learner': False, 'torch_compile_learner_what_to_compile': <TorchCompileWhatToCompile.FORWARD_TRAIN: 'forward_train'>, 'torch_compile_learner_dynamo_backend': 'inductor', 'torch_compile_learner_dynamo_mode': None, 'torch_compile_worker': False, 'torch_compile_worker_dynamo_backend': 'onnxrt', 'torch_compile_worker_dynamo_mode': None, 'env': 'LunarLander-v2', 'env_config': {}, 'observation_space': None, 'action_space': None, 'env_task_fn': None, 'render_env': False, 'clip_rewards': None, 'normalize_actions': True, 'clip_actions': False, 'disable_env_checking': False, 'auto_wrap_old_gym_envs': True, 'action_mask_key': 'action_mask', '_is_atari': None, 'env_runner_cls': None, 'num_envs_per_worker': 1, 'enable_connectors': True, 'rollout_fragment_length': 'auto', 'batch_mode': 'truncate_episodes', 'validate_workers_after_construction': True, 'compress_observations': False, 'sampler_perf_stats_ema_coef': None, 'sample_async': -1, 'remote_worker_envs': False, 'remote_env_batch_wait_ms': 0, 'enable_tf1_exec_eagerly': False, 'sample_collector': <class 'ray.rllib.evaluation.collectors.simple_list_collector.SimpleListCollector'>, 'preprocessor_pref': 'deepmind', 'observation_filter': 'NoFilter', 'update_worker_filter_stats': True, 'use_worker_filter_stats': True, 'gamma': 0.99, 'lr': 5e-05, 'grad_clip': None, 'grad_clip_by': 'global_norm', 'train_batch_size': 1000, 'model': {'_disable_preprocessor_api': False, '_disable_action_flattening': False, 'fcnet_hiddens': [256, 256], 'fcnet_activation': 'tanh', 'conv_filters': None, 'conv_activation': 'relu', 'post_fcnet_hiddens': [], 'post_fcnet_activation': 'relu', 'free_log_std': False, 'no_final_linear': False, 'vf_share_layers': False, 'use_lstm': False, 'max_seq_len': 20, 'lstm_cell_size': 256, 'lstm_use_prev_action': False, 'lstm_use_prev_reward': False, '_time_major': False, 'use_attention': False, 'attention_num_transformer_units': 1, 'attention_dim': 64, 'attention_num_heads': 1, 'attention_head_dim': 32, 'attention_memory_inference': 50, 'attention_memory_training': 50, 'attention_position_wise_mlp_dim': 32, 'attention_init_gru_gate_bias': 2.0, 'attention_use_n_prev_actions': 0, 'attention_use_n_prev_rewards': 0, 'framestack': True, 'dim': 84, 'grayscale': False, 'zero_mean': True, 'custom_model': None, 'custom_model_config': {}, 'custom_action_dist': None, 'custom_preprocessor': None, 'encoder_latent_dim': None, 'always_check_shapes': False, 'lstm_use_prev_action_reward': -1, '_use_default_native_models': -1}, 'optimizer': {}, 'max_requests_in_flight_per_sampler_worker': 2, '_learner_class': None, 'explore': True, 'exploration_config': {'type': 'StochasticSampling'}, 'algorithm_config_overrides_per_module': {}, 'policy_map_capacity': 100, 'policy_mapping_fn': <function AlgorithmConfig.DEFAULT_POLICY_MAPPING_FN at 0x7e8614212950>, 'policies_to_train': None, 'policy_states_are_swappable': False, 'observation_fn': None, 'count_steps_by': 'env_steps', 'input_config': {}, 'actions_in_input_normalized': False, 'postprocess_inputs': False, 'shuffle_buffer_size': 0, 'output': None, 'output_config': {}, 'output_compress_columns': ['obs', 'new_obs'], 'output_max_file_size': 67108864, 'offline_sampling': False, 'evaluation_interval': None, 'evaluation_duration': 10, 'evaluation_duration_unit': 'episodes', 'evaluation_sample_timeout_s': 180.0, 'evaluation_parallel_to_training': False, 'evaluation_config': None, 'off_policy_estimation_methods': {}, 'ope_split_batch_by_episode': True, 'evaluation_num_workers': 0, 'always_attach_evaluation_results': False, 'enable_async_evaluation': False, 'in_evaluation': False, 'sync_filters_on_rollout_workers_timeout_s': 60.0, 'keep_per_episode_custom_metrics': False, 'metrics_episode_collection_timeout_s': 60.0, 'metrics_num_episodes_for_smoothing': 100, 'min_time_s_per_iteration': None, 'min_train_timesteps_per_iteration': 0, 'min_sample_timesteps_per_iteration': 0, 'export_native_model_files': False, 'checkpoint_trainable_policies_only': False, 'logger_creator': None, 'logger_config': None, 'log_level': 'WARN', 'log_sys_usage': True, 'fake_sampler': False, 'seed': None, 'ignore_worker_failures': False, 'recreate_failed_workers': False, 'max_num_worker_restarts': 1000, 'delay_between_worker_restarts_s': 60.0, 'restart_failed_sub_environments': False, 'num_consecutive_worker_failures_tolerance': 100, 'worker_health_probe_timeout_s': 60, 'worker_restore_timeout_s': 1800, '_rl_module_spec': None, '_AlgorithmConfig__prior_exploration_config': None, '_enable_new_api_stack': False, '_tf_policy_handles_more_than_one_loss': False, '_disable_preprocessor_api': False, '_disable_action_flattening': False, '_disable_execution_plan_api': True, '_disable_initialize_loss_from_dummy_batch': False, 'simple_optimizer': False, 'policy_map_cache': -1, 'worker_cls': -1, 'synchronize_filters': -1, 'replay_sequence_length': None, 'lr_schedule': None, 'use_critic': True, 'use_gae': True, 'use_kl_loss': True, 'kl_coeff': 0.2, 'kl_target': 0.01, 'sgd_minibatch_size': 256, 'num_sgd_iter': 30, 'shuffle_sequences': True, 'vf_loss_coeff': 1.0, 'entropy_coeff': 0.0, 'entropy_coeff_schedule': None, 'clip_param': 0.1, 'vf_clip_param': 10.0, 'vf_share_layers': -1, 'reward_fn': <function basic_reward at 0x7e86fdb7ee60>, 'num_iterations': 100000, '__stdout_file__': None, '__stderr_file__': None, 'lambda': 0.9, 'input': 'sampler', 'policies': {'default_policy': (None, None, None, None)}, 'callbacks': <class 'ray.rllib.algorithms.callbacks.DefaultCallbacks'>, 'create_env_on_driver': False, 'custom_eval_function': None, 'framework': 'tf', 'num_cpus_for_driver': 1, 'num_workers': 1}\n",
            "+-----------------------------------------------------------------------------------------------------------------------------------------------------------------------------------+\n",
            "| Trial name                       status       iter     total time (s)     ts     reward     episode_reward_max     episode_reward_min     episode_len_mean     episodes_this_iter |\n",
            "+-----------------------------------------------------------------------------------------------------------------------------------------------------------------------------------+\n",
            "| PPO_LunarLander-v2_0934b_00000   RUNNING         2             5.1537   2000   -168.255               -54.6947               -478.198              89.0455                     11 |\n",
            "+-----------------------------------------------------------------------------------------------------------------------------------------------------------------------------------+\n",
            "\n",
            "Trial PPO_LunarLander-v2_0934b_00000 finished iteration 3 at 2024-01-07 11:58:44. Total running time: 30s\n",
            "+---------------------------------------------------------+\n",
            "| Trial PPO_LunarLander-v2_0934b_00000 result             |\n",
            "+---------------------------------------------------------+\n",
            "| episodes_total                                       32 |\n",
            "| num_env_steps_sampled                              3000 |\n",
            "| num_env_steps_trained                              3000 |\n",
            "| sampler_results/episode_len_mean                92.0312 |\n",
            "| sampler_results/episode_reward_mean             -166.34 |\n",
            "+---------------------------------------------------------+\n",
            "\n",
            "Trial PPO_LunarLander-v2_0934b_00000 finished iteration 4 at 2024-01-07 11:58:47. Total running time: 33s\n",
            "+----------------------------------------------------------+\n",
            "| Trial PPO_LunarLander-v2_0934b_00000 result              |\n",
            "+----------------------------------------------------------+\n",
            "| episodes_total                                        41 |\n",
            "| num_env_steps_sampled                               4000 |\n",
            "| num_env_steps_trained                               4000 |\n",
            "| sampler_results/episode_len_mean                 95.0732 |\n",
            "| sampler_results/episode_reward_mean             -157.593 |\n",
            "+----------------------------------------------------------+\n",
            "\n",
            "Trial PPO_LunarLander-v2_0934b_00000 finished iteration 5 at 2024-01-07 11:58:50. Total running time: 36s\n",
            "+----------------------------------------------------------+\n",
            "| Trial PPO_LunarLander-v2_0934b_00000 result              |\n",
            "+----------------------------------------------------------+\n",
            "| episodes_total                                        51 |\n",
            "| num_env_steps_sampled                               5000 |\n",
            "| num_env_steps_trained                               5000 |\n",
            "| sampler_results/episode_len_mean                 96.8824 |\n",
            "| sampler_results/episode_reward_mean             -167.124 |\n",
            "+----------------------------------------------------------+\n",
            "\n",
            "Trial PPO_LunarLander-v2_0934b_00000 finished iteration 6 at 2024-01-07 11:58:53. Total running time: 39s\n",
            "+---------------------------------------------------------+\n",
            "| Trial PPO_LunarLander-v2_0934b_00000 result             |\n",
            "+---------------------------------------------------------+\n",
            "| episodes_total                                       63 |\n",
            "| num_env_steps_sampled                              6000 |\n",
            "| num_env_steps_trained                              6000 |\n",
            "| sampler_results/episode_len_mean                95.1746 |\n",
            "| sampler_results/episode_reward_mean             -159.73 |\n",
            "+---------------------------------------------------------+\n",
            "\n",
            "Trial PPO_LunarLander-v2_0934b_00000 finished iteration 7 at 2024-01-07 11:58:55. Total running time: 41s\n",
            "+----------------------------------------------------------+\n",
            "| Trial PPO_LunarLander-v2_0934b_00000 result              |\n",
            "+----------------------------------------------------------+\n",
            "| episodes_total                                        72 |\n",
            "| num_env_steps_sampled                               7000 |\n",
            "| num_env_steps_trained                               7000 |\n",
            "| sampler_results/episode_len_mean                 96.4583 |\n",
            "| sampler_results/episode_reward_mean             -153.086 |\n",
            "+----------------------------------------------------------+\n",
            "\n",
            "Trial PPO_LunarLander-v2_0934b_00000 finished iteration 8 at 2024-01-07 11:58:58. Total running time: 44s\n",
            "+----------------------------------------------------------+\n",
            "| Trial PPO_LunarLander-v2_0934b_00000 result              |\n",
            "+----------------------------------------------------------+\n",
            "| episodes_total                                        80 |\n",
            "| num_env_steps_sampled                               8000 |\n",
            "| num_env_steps_trained                               8000 |\n",
            "| sampler_results/episode_len_mean                  98.675 |\n",
            "| sampler_results/episode_reward_mean             -151.616 |\n",
            "+----------------------------------------------------------+\n",
            "\n",
            "Trial PPO_LunarLander-v2_0934b_00000 finished iteration 9 at 2024-01-07 11:59:00. Total running time: 46s\n",
            "+----------------------------------------------------------+\n",
            "| Trial PPO_LunarLander-v2_0934b_00000 result              |\n",
            "+----------------------------------------------------------+\n",
            "| episodes_total                                        89 |\n",
            "| num_env_steps_sampled                               9000 |\n",
            "| num_env_steps_trained                               9000 |\n",
            "| sampler_results/episode_len_mean                 99.9101 |\n",
            "| sampler_results/episode_reward_mean             -149.866 |\n",
            "+----------------------------------------------------------+\n",
            "\n",
            "Trial PPO_LunarLander-v2_0934b_00000 finished iteration 10 at 2024-01-07 11:59:04. Total running time: 50s\n",
            "+---------------------------------------------------------+\n",
            "| Trial PPO_LunarLander-v2_0934b_00000 result             |\n",
            "+---------------------------------------------------------+\n",
            "| episodes_total                                       97 |\n",
            "| num_env_steps_sampled                             10000 |\n",
            "| num_env_steps_trained                             10000 |\n",
            "| sampler_results/episode_len_mean                102.619 |\n",
            "| sampler_results/episode_reward_mean             -146.74 |\n",
            "+---------------------------------------------------------+\n",
            "\n",
            "Trial PPO_LunarLander-v2_0934b_00000 finished iteration 11 at 2024-01-07 11:59:07. Total running time: 53s\n",
            "+----------------------------------------------------------+\n",
            "| Trial PPO_LunarLander-v2_0934b_00000 result              |\n",
            "+----------------------------------------------------------+\n",
            "| episodes_total                                       103 |\n",
            "| num_env_steps_sampled                              11000 |\n",
            "| num_env_steps_trained                              11000 |\n",
            "| sampler_results/episode_len_mean                   106.5 |\n",
            "| sampler_results/episode_reward_mean             -145.006 |\n",
            "+----------------------------------------------------------+\n",
            "\n",
            "Trial PPO_LunarLander-v2_0934b_00000 finished iteration 12 at 2024-01-07 11:59:09. Total running time: 55s\n",
            "+----------------------------------------------------------+\n",
            "| Trial PPO_LunarLander-v2_0934b_00000 result              |\n",
            "+----------------------------------------------------------+\n",
            "| episodes_total                                       109 |\n",
            "| num_env_steps_sampled                              12000 |\n",
            "| num_env_steps_trained                              12000 |\n",
            "| sampler_results/episode_len_mean                  111.06 |\n",
            "| sampler_results/episode_reward_mean             -144.773 |\n",
            "+----------------------------------------------------------+\n",
            "\n",
            "Trial PPO_LunarLander-v2_0934b_00000 finished iteration 13 at 2024-01-07 11:59:11. Total running time: 58s\n",
            "+----------------------------------------------------------+\n",
            "| Trial PPO_LunarLander-v2_0934b_00000 result              |\n",
            "+----------------------------------------------------------+\n",
            "| episodes_total                                       115 |\n",
            "| num_env_steps_sampled                              13000 |\n",
            "| num_env_steps_trained                              13000 |\n",
            "| sampler_results/episode_len_mean                  116.07 |\n",
            "| sampler_results/episode_reward_mean             -142.716 |\n",
            "+----------------------------------------------------------+\n",
            "\n",
            "Trial status: 1 RUNNING\n",
            "Current time: 2024-01-07 11:59:14. Total running time: 1min 0s\n",
            "Logical resource usage: 2.0/2 CPUs, 0/1 GPUs\n",
            "Current best trial: 0934b_00000 with episode_reward_mean=-142.71620803213148 and params={'extra_python_environs_for_driver': {}, 'extra_python_environs_for_worker': {}, 'num_gpus': 0, 'num_cpus_per_worker': 1, 'num_gpus_per_worker': 0, '_fake_gpus': False, 'num_learner_workers': 0, 'num_gpus_per_learner_worker': 0, 'num_cpus_per_learner_worker': 1, 'local_gpu_idx': 0, 'custom_resources_per_worker': {}, 'placement_strategy': 'PACK', 'eager_tracing': True, 'eager_max_retraces': 20, 'tf_session_args': {'intra_op_parallelism_threads': 2, 'inter_op_parallelism_threads': 2, 'gpu_options': {'allow_growth': True}, 'log_device_placement': False, 'device_count': {'CPU': 1}, 'allow_soft_placement': True}, 'local_tf_session_args': {'intra_op_parallelism_threads': 8, 'inter_op_parallelism_threads': 8}, 'torch_compile_learner': False, 'torch_compile_learner_what_to_compile': <TorchCompileWhatToCompile.FORWARD_TRAIN: 'forward_train'>, 'torch_compile_learner_dynamo_backend': 'inductor', 'torch_compile_learner_dynamo_mode': None, 'torch_compile_worker': False, 'torch_compile_worker_dynamo_backend': 'onnxrt', 'torch_compile_worker_dynamo_mode': None, 'env': 'LunarLander-v2', 'env_config': {}, 'observation_space': None, 'action_space': None, 'env_task_fn': None, 'render_env': False, 'clip_rewards': None, 'normalize_actions': True, 'clip_actions': False, 'disable_env_checking': False, 'auto_wrap_old_gym_envs': True, 'action_mask_key': 'action_mask', '_is_atari': None, 'env_runner_cls': None, 'num_envs_per_worker': 1, 'enable_connectors': True, 'rollout_fragment_length': 'auto', 'batch_mode': 'truncate_episodes', 'validate_workers_after_construction': True, 'compress_observations': False, 'sampler_perf_stats_ema_coef': None, 'sample_async': -1, 'remote_worker_envs': False, 'remote_env_batch_wait_ms': 0, 'enable_tf1_exec_eagerly': False, 'sample_collector': <class 'ray.rllib.evaluation.collectors.simple_list_collector.SimpleListCollector'>, 'preprocessor_pref': 'deepmind', 'observation_filter': 'NoFilter', 'update_worker_filter_stats': True, 'use_worker_filter_stats': True, 'gamma': 0.99, 'lr': 5e-05, 'grad_clip': None, 'grad_clip_by': 'global_norm', 'train_batch_size': 1000, 'model': {'_disable_preprocessor_api': False, '_disable_action_flattening': False, 'fcnet_hiddens': [256, 256], 'fcnet_activation': 'tanh', 'conv_filters': None, 'conv_activation': 'relu', 'post_fcnet_hiddens': [], 'post_fcnet_activation': 'relu', 'free_log_std': False, 'no_final_linear': False, 'vf_share_layers': False, 'use_lstm': False, 'max_seq_len': 20, 'lstm_cell_size': 256, 'lstm_use_prev_action': False, 'lstm_use_prev_reward': False, '_time_major': False, 'use_attention': False, 'attention_num_transformer_units': 1, 'attention_dim': 64, 'attention_num_heads': 1, 'attention_head_dim': 32, 'attention_memory_inference': 50, 'attention_memory_training': 50, 'attention_position_wise_mlp_dim': 32, 'attention_init_gru_gate_bias': 2.0, 'attention_use_n_prev_actions': 0, 'attention_use_n_prev_rewards': 0, 'framestack': True, 'dim': 84, 'grayscale': False, 'zero_mean': True, 'custom_model': None, 'custom_model_config': {}, 'custom_action_dist': None, 'custom_preprocessor': None, 'encoder_latent_dim': None, 'always_check_shapes': False, 'lstm_use_prev_action_reward': -1, '_use_default_native_models': -1}, 'optimizer': {}, 'max_requests_in_flight_per_sampler_worker': 2, '_learner_class': None, 'explore': True, 'exploration_config': {'type': 'StochasticSampling'}, 'algorithm_config_overrides_per_module': {}, 'policy_map_capacity': 100, 'policy_mapping_fn': <function AlgorithmConfig.DEFAULT_POLICY_MAPPING_FN at 0x7e8614212950>, 'policies_to_train': None, 'policy_states_are_swappable': False, 'observation_fn': None, 'count_steps_by': 'env_steps', 'input_config': {}, 'actions_in_input_normalized': False, 'postprocess_inputs': False, 'shuffle_buffer_size': 0, 'output': None, 'output_config': {}, 'output_compress_columns': ['obs', 'new_obs'], 'output_max_file_size': 67108864, 'offline_sampling': False, 'evaluation_interval': None, 'evaluation_duration': 10, 'evaluation_duration_unit': 'episodes', 'evaluation_sample_timeout_s': 180.0, 'evaluation_parallel_to_training': False, 'evaluation_config': None, 'off_policy_estimation_methods': {}, 'ope_split_batch_by_episode': True, 'evaluation_num_workers': 0, 'always_attach_evaluation_results': False, 'enable_async_evaluation': False, 'in_evaluation': False, 'sync_filters_on_rollout_workers_timeout_s': 60.0, 'keep_per_episode_custom_metrics': False, 'metrics_episode_collection_timeout_s': 60.0, 'metrics_num_episodes_for_smoothing': 100, 'min_time_s_per_iteration': None, 'min_train_timesteps_per_iteration': 0, 'min_sample_timesteps_per_iteration': 0, 'export_native_model_files': False, 'checkpoint_trainable_policies_only': False, 'logger_creator': None, 'logger_config': None, 'log_level': 'WARN', 'log_sys_usage': True, 'fake_sampler': False, 'seed': None, 'ignore_worker_failures': False, 'recreate_failed_workers': False, 'max_num_worker_restarts': 1000, 'delay_between_worker_restarts_s': 60.0, 'restart_failed_sub_environments': False, 'num_consecutive_worker_failures_tolerance': 100, 'worker_health_probe_timeout_s': 60, 'worker_restore_timeout_s': 1800, '_rl_module_spec': None, '_AlgorithmConfig__prior_exploration_config': None, '_enable_new_api_stack': False, '_tf_policy_handles_more_than_one_loss': False, '_disable_preprocessor_api': False, '_disable_action_flattening': False, '_disable_execution_plan_api': True, '_disable_initialize_loss_from_dummy_batch': False, 'simple_optimizer': False, 'policy_map_cache': -1, 'worker_cls': -1, 'synchronize_filters': -1, 'replay_sequence_length': None, 'lr_schedule': None, 'use_critic': True, 'use_gae': True, 'use_kl_loss': True, 'kl_coeff': 0.2, 'kl_target': 0.01, 'sgd_minibatch_size': 256, 'num_sgd_iter': 30, 'shuffle_sequences': True, 'vf_loss_coeff': 1.0, 'entropy_coeff': 0.0, 'entropy_coeff_schedule': None, 'clip_param': 0.1, 'vf_clip_param': 10.0, 'vf_share_layers': -1, 'reward_fn': <function basic_reward at 0x7e86fdb7ee60>, 'num_iterations': 100000, '__stdout_file__': None, '__stderr_file__': None, 'lambda': 0.9, 'input': 'sampler', 'policies': {'default_policy': (None, None, None, None)}, 'callbacks': <class 'ray.rllib.algorithms.callbacks.DefaultCallbacks'>, 'create_env_on_driver': False, 'custom_eval_function': None, 'framework': 'tf', 'num_cpus_for_driver': 1, 'num_workers': 1}\n",
            "+------------------------------------------------------------------------------------------------------------------------------------------------------------------------------------+\n",
            "| Trial name                       status       iter     total time (s)      ts     reward     episode_reward_max     episode_reward_min     episode_len_mean     episodes_this_iter |\n",
            "+------------------------------------------------------------------------------------------------------------------------------------------------------------------------------------+\n",
            "| PPO_LunarLander-v2_0934b_00000   RUNNING        13            34.9151   13000   -142.716                22.6119                -371.74               116.07                      6 |\n",
            "+------------------------------------------------------------------------------------------------------------------------------------------------------------------------------------+\n",
            "\n",
            "Trial PPO_LunarLander-v2_0934b_00000 finished iteration 14 at 2024-01-07 11:59:14. Total running time: 1min 0s\n",
            "+----------------------------------------------------------+\n",
            "| Trial PPO_LunarLander-v2_0934b_00000 result              |\n",
            "+----------------------------------------------------------+\n",
            "| episodes_total                                       122 |\n",
            "| num_env_steps_sampled                              14000 |\n",
            "| num_env_steps_trained                              14000 |\n",
            "| sampler_results/episode_len_mean                  119.76 |\n",
            "| sampler_results/episode_reward_mean             -137.691 |\n",
            "+----------------------------------------------------------+\n",
            "\n",
            "Trial PPO_LunarLander-v2_0934b_00000 finished iteration 15 at 2024-01-07 11:59:18. Total running time: 1min 4s\n",
            "+----------------------------------------------------------+\n",
            "| Trial PPO_LunarLander-v2_0934b_00000 result              |\n",
            "+----------------------------------------------------------+\n",
            "| episodes_total                                       127 |\n",
            "| num_env_steps_sampled                              15000 |\n",
            "| num_env_steps_trained                              15000 |\n",
            "| sampler_results/episode_len_mean                  125.57 |\n",
            "| sampler_results/episode_reward_mean             -139.762 |\n",
            "+----------------------------------------------------------+\n",
            "\n",
            "Trial PPO_LunarLander-v2_0934b_00000 finished iteration 16 at 2024-01-07 11:59:20. Total running time: 1min 7s\n",
            "+----------------------------------------------------------+\n",
            "| Trial PPO_LunarLander-v2_0934b_00000 result              |\n",
            "+----------------------------------------------------------+\n",
            "| episodes_total                                       132 |\n",
            "| num_env_steps_sampled                              16000 |\n",
            "| num_env_steps_trained                              16000 |\n",
            "| sampler_results/episode_len_mean                  128.98 |\n",
            "| sampler_results/episode_reward_mean             -139.942 |\n",
            "+----------------------------------------------------------+\n",
            "\n",
            "Trial PPO_LunarLander-v2_0934b_00000 finished iteration 17 at 2024-01-07 11:59:23. Total running time: 1min 9s\n",
            "+----------------------------------------------------------+\n",
            "| Trial PPO_LunarLander-v2_0934b_00000 result              |\n",
            "+----------------------------------------------------------+\n",
            "| episodes_total                                       139 |\n",
            "| num_env_steps_sampled                              17000 |\n",
            "| num_env_steps_trained                              17000 |\n",
            "| sampler_results/episode_len_mean                  133.19 |\n",
            "| sampler_results/episode_reward_mean             -140.433 |\n",
            "+----------------------------------------------------------+\n",
            "\n",
            "Trial PPO_LunarLander-v2_0934b_00000 finished iteration 18 at 2024-01-07 11:59:25. Total running time: 1min 11s\n",
            "+----------------------------------------------------------+\n",
            "| Trial PPO_LunarLander-v2_0934b_00000 result              |\n",
            "+----------------------------------------------------------+\n",
            "| episodes_total                                       145 |\n",
            "| num_env_steps_sampled                              18000 |\n",
            "| num_env_steps_trained                              18000 |\n",
            "| sampler_results/episode_len_mean                  136.07 |\n",
            "| sampler_results/episode_reward_mean             -137.741 |\n",
            "+----------------------------------------------------------+\n",
            "\n",
            "Trial PPO_LunarLander-v2_0934b_00000 finished iteration 19 at 2024-01-07 11:59:28. Total running time: 1min 14s\n",
            "+----------------------------------------------------------+\n",
            "| Trial PPO_LunarLander-v2_0934b_00000 result              |\n",
            "+----------------------------------------------------------+\n",
            "| episodes_total                                       150 |\n",
            "| num_env_steps_sampled                              19000 |\n",
            "| num_env_steps_trained                              19000 |\n",
            "| sampler_results/episode_len_mean                  140.43 |\n",
            "| sampler_results/episode_reward_mean             -138.281 |\n",
            "+----------------------------------------------------------+\n",
            "\n",
            "Trial PPO_LunarLander-v2_0934b_00000 finished iteration 20 at 2024-01-07 11:59:32. Total running time: 1min 18s\n",
            "+----------------------------------------------------------+\n",
            "| Trial PPO_LunarLander-v2_0934b_00000 result              |\n",
            "+----------------------------------------------------------+\n",
            "| episodes_total                                       154 |\n",
            "| num_env_steps_sampled                              20000 |\n",
            "| num_env_steps_trained                              20000 |\n",
            "| sampler_results/episode_len_mean                  144.98 |\n",
            "| sampler_results/episode_reward_mean             -137.737 |\n",
            "+----------------------------------------------------------+\n",
            "\n",
            "Trial PPO_LunarLander-v2_0934b_00000 finished iteration 21 at 2024-01-07 11:59:34. Total running time: 1min 21s\n",
            "+---------------------------------------------------------+\n",
            "| Trial PPO_LunarLander-v2_0934b_00000 result             |\n",
            "+---------------------------------------------------------+\n",
            "| episodes_total                                      159 |\n",
            "| num_env_steps_sampled                             21000 |\n",
            "| num_env_steps_trained                             21000 |\n",
            "| sampler_results/episode_len_mean                 152.83 |\n",
            "| sampler_results/episode_reward_mean             -141.01 |\n",
            "+---------------------------------------------------------+\n",
            "\n",
            "Trial PPO_LunarLander-v2_0934b_00000 finished iteration 22 at 2024-01-07 11:59:37. Total running time: 1min 23s\n",
            "+----------------------------------------------------------+\n",
            "| Trial PPO_LunarLander-v2_0934b_00000 result              |\n",
            "+----------------------------------------------------------+\n",
            "| episodes_total                                       163 |\n",
            "| num_env_steps_sampled                              22000 |\n",
            "| num_env_steps_trained                              22000 |\n",
            "| sampler_results/episode_len_mean                  158.35 |\n",
            "| sampler_results/episode_reward_mean             -143.711 |\n",
            "+----------------------------------------------------------+\n",
            "\n",
            "Trial PPO_LunarLander-v2_0934b_00000 finished iteration 23 at 2024-01-07 11:59:39. Total running time: 1min 25s\n",
            "+----------------------------------------------------------+\n",
            "| Trial PPO_LunarLander-v2_0934b_00000 result              |\n",
            "+----------------------------------------------------------+\n",
            "| episodes_total                                       168 |\n",
            "| num_env_steps_sampled                              23000 |\n",
            "| num_env_steps_trained                              23000 |\n",
            "| sampler_results/episode_len_mean                  164.08 |\n",
            "| sampler_results/episode_reward_mean             -147.333 |\n",
            "+----------------------------------------------------------+\n",
            "\n",
            "Trial PPO_LunarLander-v2_0934b_00000 finished iteration 24 at 2024-01-07 11:59:42. Total running time: 1min 28s\n",
            "+----------------------------------------------------------+\n",
            "| Trial PPO_LunarLander-v2_0934b_00000 result              |\n",
            "+----------------------------------------------------------+\n",
            "| episodes_total                                       171 |\n",
            "| num_env_steps_sampled                              24000 |\n",
            "| num_env_steps_trained                              24000 |\n",
            "| sampler_results/episode_len_mean                   168.9 |\n",
            "| sampler_results/episode_reward_mean             -149.073 |\n",
            "+----------------------------------------------------------+\n",
            "\n",
            "Trial status: 1 RUNNING\n",
            "Current time: 2024-01-07 11:59:44. Total running time: 1min 30s\n",
            "Logical resource usage: 2.0/2 CPUs, 0/1 GPUs\n",
            "Current best trial: 0934b_00000 with episode_reward_mean=-149.07320639337865 and params={'extra_python_environs_for_driver': {}, 'extra_python_environs_for_worker': {}, 'num_gpus': 0, 'num_cpus_per_worker': 1, 'num_gpus_per_worker': 0, '_fake_gpus': False, 'num_learner_workers': 0, 'num_gpus_per_learner_worker': 0, 'num_cpus_per_learner_worker': 1, 'local_gpu_idx': 0, 'custom_resources_per_worker': {}, 'placement_strategy': 'PACK', 'eager_tracing': True, 'eager_max_retraces': 20, 'tf_session_args': {'intra_op_parallelism_threads': 2, 'inter_op_parallelism_threads': 2, 'gpu_options': {'allow_growth': True}, 'log_device_placement': False, 'device_count': {'CPU': 1}, 'allow_soft_placement': True}, 'local_tf_session_args': {'intra_op_parallelism_threads': 8, 'inter_op_parallelism_threads': 8}, 'torch_compile_learner': False, 'torch_compile_learner_what_to_compile': <TorchCompileWhatToCompile.FORWARD_TRAIN: 'forward_train'>, 'torch_compile_learner_dynamo_backend': 'inductor', 'torch_compile_learner_dynamo_mode': None, 'torch_compile_worker': False, 'torch_compile_worker_dynamo_backend': 'onnxrt', 'torch_compile_worker_dynamo_mode': None, 'env': 'LunarLander-v2', 'env_config': {}, 'observation_space': None, 'action_space': None, 'env_task_fn': None, 'render_env': False, 'clip_rewards': None, 'normalize_actions': True, 'clip_actions': False, 'disable_env_checking': False, 'auto_wrap_old_gym_envs': True, 'action_mask_key': 'action_mask', '_is_atari': None, 'env_runner_cls': None, 'num_envs_per_worker': 1, 'enable_connectors': True, 'rollout_fragment_length': 'auto', 'batch_mode': 'truncate_episodes', 'validate_workers_after_construction': True, 'compress_observations': False, 'sampler_perf_stats_ema_coef': None, 'sample_async': -1, 'remote_worker_envs': False, 'remote_env_batch_wait_ms': 0, 'enable_tf1_exec_eagerly': False, 'sample_collector': <class 'ray.rllib.evaluation.collectors.simple_list_collector.SimpleListCollector'>, 'preprocessor_pref': 'deepmind', 'observation_filter': 'NoFilter', 'update_worker_filter_stats': True, 'use_worker_filter_stats': True, 'gamma': 0.99, 'lr': 5e-05, 'grad_clip': None, 'grad_clip_by': 'global_norm', 'train_batch_size': 1000, 'model': {'_disable_preprocessor_api': False, '_disable_action_flattening': False, 'fcnet_hiddens': [256, 256], 'fcnet_activation': 'tanh', 'conv_filters': None, 'conv_activation': 'relu', 'post_fcnet_hiddens': [], 'post_fcnet_activation': 'relu', 'free_log_std': False, 'no_final_linear': False, 'vf_share_layers': False, 'use_lstm': False, 'max_seq_len': 20, 'lstm_cell_size': 256, 'lstm_use_prev_action': False, 'lstm_use_prev_reward': False, '_time_major': False, 'use_attention': False, 'attention_num_transformer_units': 1, 'attention_dim': 64, 'attention_num_heads': 1, 'attention_head_dim': 32, 'attention_memory_inference': 50, 'attention_memory_training': 50, 'attention_position_wise_mlp_dim': 32, 'attention_init_gru_gate_bias': 2.0, 'attention_use_n_prev_actions': 0, 'attention_use_n_prev_rewards': 0, 'framestack': True, 'dim': 84, 'grayscale': False, 'zero_mean': True, 'custom_model': None, 'custom_model_config': {}, 'custom_action_dist': None, 'custom_preprocessor': None, 'encoder_latent_dim': None, 'always_check_shapes': False, 'lstm_use_prev_action_reward': -1, '_use_default_native_models': -1}, 'optimizer': {}, 'max_requests_in_flight_per_sampler_worker': 2, '_learner_class': None, 'explore': True, 'exploration_config': {'type': 'StochasticSampling'}, 'algorithm_config_overrides_per_module': {}, 'policy_map_capacity': 100, 'policy_mapping_fn': <function AlgorithmConfig.DEFAULT_POLICY_MAPPING_FN at 0x7e8614212950>, 'policies_to_train': None, 'policy_states_are_swappable': False, 'observation_fn': None, 'count_steps_by': 'env_steps', 'input_config': {}, 'actions_in_input_normalized': False, 'postprocess_inputs': False, 'shuffle_buffer_size': 0, 'output': None, 'output_config': {}, 'output_compress_columns': ['obs', 'new_obs'], 'output_max_file_size': 67108864, 'offline_sampling': False, 'evaluation_interval': None, 'evaluation_duration': 10, 'evaluation_duration_unit': 'episodes', 'evaluation_sample_timeout_s': 180.0, 'evaluation_parallel_to_training': False, 'evaluation_config': None, 'off_policy_estimation_methods': {}, 'ope_split_batch_by_episode': True, 'evaluation_num_workers': 0, 'always_attach_evaluation_results': False, 'enable_async_evaluation': False, 'in_evaluation': False, 'sync_filters_on_rollout_workers_timeout_s': 60.0, 'keep_per_episode_custom_metrics': False, 'metrics_episode_collection_timeout_s': 60.0, 'metrics_num_episodes_for_smoothing': 100, 'min_time_s_per_iteration': None, 'min_train_timesteps_per_iteration': 0, 'min_sample_timesteps_per_iteration': 0, 'export_native_model_files': False, 'checkpoint_trainable_policies_only': False, 'logger_creator': None, 'logger_config': None, 'log_level': 'WARN', 'log_sys_usage': True, 'fake_sampler': False, 'seed': None, 'ignore_worker_failures': False, 'recreate_failed_workers': False, 'max_num_worker_restarts': 1000, 'delay_between_worker_restarts_s': 60.0, 'restart_failed_sub_environments': False, 'num_consecutive_worker_failures_tolerance': 100, 'worker_health_probe_timeout_s': 60, 'worker_restore_timeout_s': 1800, '_rl_module_spec': None, '_AlgorithmConfig__prior_exploration_config': None, '_enable_new_api_stack': False, '_tf_policy_handles_more_than_one_loss': False, '_disable_preprocessor_api': False, '_disable_action_flattening': False, '_disable_execution_plan_api': True, '_disable_initialize_loss_from_dummy_batch': False, 'simple_optimizer': False, 'policy_map_cache': -1, 'worker_cls': -1, 'synchronize_filters': -1, 'replay_sequence_length': None, 'lr_schedule': None, 'use_critic': True, 'use_gae': True, 'use_kl_loss': True, 'kl_coeff': 0.2, 'kl_target': 0.01, 'sgd_minibatch_size': 256, 'num_sgd_iter': 30, 'shuffle_sequences': True, 'vf_loss_coeff': 1.0, 'entropy_coeff': 0.0, 'entropy_coeff_schedule': None, 'clip_param': 0.1, 'vf_clip_param': 10.0, 'vf_share_layers': -1, 'reward_fn': <function basic_reward at 0x7e8613efc280>, 'num_iterations': 100000, '__stdout_file__': None, '__stderr_file__': None, 'lambda': 0.9, 'input': 'sampler', 'policies': {'default_policy': (None, None, None, None)}, 'callbacks': <class 'ray.rllib.algorithms.callbacks.DefaultCallbacks'>, 'create_env_on_driver': False, 'custom_eval_function': None, 'framework': 'tf', 'num_cpus_for_driver': 1, 'num_workers': 1}\n",
            "+------------------------------------------------------------------------------------------------------------------------------------------------------------------------------------+\n",
            "| Trial name                       status       iter     total time (s)      ts     reward     episode_reward_max     episode_reward_min     episode_len_mean     episodes_this_iter |\n",
            "+------------------------------------------------------------------------------------------------------------------------------------------------------------------------------------+\n",
            "| PPO_LunarLander-v2_0934b_00000   RUNNING        24            64.7095   24000   -149.073                22.6119               -410.608                168.9                      3 |\n",
            "+------------------------------------------------------------------------------------------------------------------------------------------------------------------------------------+\n",
            "\n",
            "Trial PPO_LunarLander-v2_0934b_00000 finished iteration 25 at 2024-01-07 11:59:46. Total running time: 1min 32s\n",
            "+----------------------------------------------------------+\n",
            "| Trial PPO_LunarLander-v2_0934b_00000 result              |\n",
            "+----------------------------------------------------------+\n",
            "| episodes_total                                       176 |\n",
            "| num_env_steps_sampled                              25000 |\n",
            "| num_env_steps_trained                              25000 |\n",
            "| sampler_results/episode_len_mean                  173.24 |\n",
            "| sampler_results/episode_reward_mean             -156.288 |\n",
            "+----------------------------------------------------------+\n",
            "\n",
            "Trial PPO_LunarLander-v2_0934b_00000 finished iteration 26 at 2024-01-07 11:59:50. Total running time: 1min 36s\n",
            "+----------------------------------------------------------+\n",
            "| Trial PPO_LunarLander-v2_0934b_00000 result              |\n",
            "+----------------------------------------------------------+\n",
            "| episodes_total                                       180 |\n",
            "| num_env_steps_sampled                              26000 |\n",
            "| num_env_steps_trained                              26000 |\n",
            "| sampler_results/episode_len_mean                  179.32 |\n",
            "| sampler_results/episode_reward_mean             -157.314 |\n",
            "+----------------------------------------------------------+\n",
            "\n",
            "Trial PPO_LunarLander-v2_0934b_00000 finished iteration 27 at 2024-01-07 11:59:53. Total running time: 1min 39s\n",
            "+----------------------------------------------------------+\n",
            "| Trial PPO_LunarLander-v2_0934b_00000 result              |\n",
            "+----------------------------------------------------------+\n",
            "| episodes_total                                       185 |\n",
            "| num_env_steps_sampled                              27000 |\n",
            "| num_env_steps_trained                              27000 |\n",
            "| sampler_results/episode_len_mean                  184.71 |\n",
            "| sampler_results/episode_reward_mean             -153.442 |\n",
            "+----------------------------------------------------------+\n",
            "\n",
            "Trial PPO_LunarLander-v2_0934b_00000 finished iteration 28 at 2024-01-07 11:59:58. Total running time: 1min 44s\n",
            "+----------------------------------------------------------+\n",
            "| Trial PPO_LunarLander-v2_0934b_00000 result              |\n",
            "+----------------------------------------------------------+\n",
            "| episodes_total                                       188 |\n",
            "| num_env_steps_sampled                              28000 |\n",
            "| num_env_steps_trained                              28000 |\n",
            "| sampler_results/episode_len_mean                  190.63 |\n",
            "| sampler_results/episode_reward_mean             -155.816 |\n",
            "+----------------------------------------------------------+\n",
            "\n",
            "Trial PPO_LunarLander-v2_0934b_00000 finished iteration 29 at 2024-01-07 12:00:02. Total running time: 1min 48s\n",
            "+----------------------------------------------------------+\n",
            "| Trial PPO_LunarLander-v2_0934b_00000 result              |\n",
            "+----------------------------------------------------------+\n",
            "| episodes_total                                       192 |\n",
            "| num_env_steps_sampled                              29000 |\n",
            "| num_env_steps_trained                              29000 |\n",
            "| sampler_results/episode_len_mean                  195.11 |\n",
            "| sampler_results/episode_reward_mean             -158.302 |\n",
            "+----------------------------------------------------------+\n",
            "\n",
            "Trial PPO_LunarLander-v2_0934b_00000 finished iteration 30 at 2024-01-07 12:00:05. Total running time: 1min 51s\n",
            "+----------------------------------------------------------+\n",
            "| Trial PPO_LunarLander-v2_0934b_00000 result              |\n",
            "+----------------------------------------------------------+\n",
            "| episodes_total                                       193 |\n",
            "| num_env_steps_sampled                              30000 |\n",
            "| num_env_steps_trained                              30000 |\n",
            "| sampler_results/episode_len_mean                     196 |\n",
            "| sampler_results/episode_reward_mean             -157.225 |\n",
            "+----------------------------------------------------------+\n",
            "\n",
            "Trial PPO_LunarLander-v2_0934b_00000 finished iteration 31 at 2024-01-07 12:00:07. Total running time: 1min 53s\n",
            "+----------------------------------------------------------+\n",
            "| Trial PPO_LunarLander-v2_0934b_00000 result              |\n",
            "+----------------------------------------------------------+\n",
            "| episodes_total                                       197 |\n",
            "| num_env_steps_sampled                              31000 |\n",
            "| num_env_steps_trained                              31000 |\n",
            "| sampler_results/episode_len_mean                  207.81 |\n",
            "| sampler_results/episode_reward_mean             -161.979 |\n",
            "+----------------------------------------------------------+\n",
            "\n",
            "Trial PPO_LunarLander-v2_0934b_00000 finished iteration 32 at 2024-01-07 12:00:10. Total running time: 1min 56s\n",
            "+----------------------------------------------------------+\n",
            "| Trial PPO_LunarLander-v2_0934b_00000 result              |\n",
            "+----------------------------------------------------------+\n",
            "| episodes_total                                       201 |\n",
            "| num_env_steps_sampled                              32000 |\n",
            "| num_env_steps_trained                              32000 |\n",
            "| sampler_results/episode_len_mean                  213.83 |\n",
            "| sampler_results/episode_reward_mean             -164.835 |\n",
            "+----------------------------------------------------------+\n",
            "\n",
            "Trial PPO_LunarLander-v2_0934b_00000 finished iteration 33 at 2024-01-07 12:00:12. Total running time: 1min 58s\n",
            "+----------------------------------------------------------+\n",
            "| Trial PPO_LunarLander-v2_0934b_00000 result              |\n",
            "+----------------------------------------------------------+\n",
            "| episodes_total                                       205 |\n",
            "| num_env_steps_sampled                              33000 |\n",
            "| num_env_steps_trained                              33000 |\n",
            "| sampler_results/episode_len_mean                  216.99 |\n",
            "| sampler_results/episode_reward_mean             -166.188 |\n",
            "+----------------------------------------------------------+\n",
            "\n",
            "Trial status: 1 RUNNING\n",
            "Current time: 2024-01-07 12:00:14. Total running time: 2min 0s\n",
            "Logical resource usage: 2.0/2 CPUs, 0/1 GPUs\n",
            "Current best trial: 0934b_00000 with episode_reward_mean=-166.18778892042405 and params={'extra_python_environs_for_driver': {}, 'extra_python_environs_for_worker': {}, 'num_gpus': 0, 'num_cpus_per_worker': 1, 'num_gpus_per_worker': 0, '_fake_gpus': False, 'num_learner_workers': 0, 'num_gpus_per_learner_worker': 0, 'num_cpus_per_learner_worker': 1, 'local_gpu_idx': 0, 'custom_resources_per_worker': {}, 'placement_strategy': 'PACK', 'eager_tracing': True, 'eager_max_retraces': 20, 'tf_session_args': {'intra_op_parallelism_threads': 2, 'inter_op_parallelism_threads': 2, 'gpu_options': {'allow_growth': True}, 'log_device_placement': False, 'device_count': {'CPU': 1}, 'allow_soft_placement': True}, 'local_tf_session_args': {'intra_op_parallelism_threads': 8, 'inter_op_parallelism_threads': 8}, 'torch_compile_learner': False, 'torch_compile_learner_what_to_compile': <TorchCompileWhatToCompile.FORWARD_TRAIN: 'forward_train'>, 'torch_compile_learner_dynamo_backend': 'inductor', 'torch_compile_learner_dynamo_mode': None, 'torch_compile_worker': False, 'torch_compile_worker_dynamo_backend': 'onnxrt', 'torch_compile_worker_dynamo_mode': None, 'env': 'LunarLander-v2', 'env_config': {}, 'observation_space': None, 'action_space': None, 'env_task_fn': None, 'render_env': False, 'clip_rewards': None, 'normalize_actions': True, 'clip_actions': False, 'disable_env_checking': False, 'auto_wrap_old_gym_envs': True, 'action_mask_key': 'action_mask', '_is_atari': None, 'env_runner_cls': None, 'num_envs_per_worker': 1, 'enable_connectors': True, 'rollout_fragment_length': 'auto', 'batch_mode': 'truncate_episodes', 'validate_workers_after_construction': True, 'compress_observations': False, 'sampler_perf_stats_ema_coef': None, 'sample_async': -1, 'remote_worker_envs': False, 'remote_env_batch_wait_ms': 0, 'enable_tf1_exec_eagerly': False, 'sample_collector': <class 'ray.rllib.evaluation.collectors.simple_list_collector.SimpleListCollector'>, 'preprocessor_pref': 'deepmind', 'observation_filter': 'NoFilter', 'update_worker_filter_stats': True, 'use_worker_filter_stats': True, 'gamma': 0.99, 'lr': 5e-05, 'grad_clip': None, 'grad_clip_by': 'global_norm', 'train_batch_size': 1000, 'model': {'_disable_preprocessor_api': False, '_disable_action_flattening': False, 'fcnet_hiddens': [256, 256], 'fcnet_activation': 'tanh', 'conv_filters': None, 'conv_activation': 'relu', 'post_fcnet_hiddens': [], 'post_fcnet_activation': 'relu', 'free_log_std': False, 'no_final_linear': False, 'vf_share_layers': False, 'use_lstm': False, 'max_seq_len': 20, 'lstm_cell_size': 256, 'lstm_use_prev_action': False, 'lstm_use_prev_reward': False, '_time_major': False, 'use_attention': False, 'attention_num_transformer_units': 1, 'attention_dim': 64, 'attention_num_heads': 1, 'attention_head_dim': 32, 'attention_memory_inference': 50, 'attention_memory_training': 50, 'attention_position_wise_mlp_dim': 32, 'attention_init_gru_gate_bias': 2.0, 'attention_use_n_prev_actions': 0, 'attention_use_n_prev_rewards': 0, 'framestack': True, 'dim': 84, 'grayscale': False, 'zero_mean': True, 'custom_model': None, 'custom_model_config': {}, 'custom_action_dist': None, 'custom_preprocessor': None, 'encoder_latent_dim': None, 'always_check_shapes': False, 'lstm_use_prev_action_reward': -1, '_use_default_native_models': -1}, 'optimizer': {}, 'max_requests_in_flight_per_sampler_worker': 2, '_learner_class': None, 'explore': True, 'exploration_config': {'type': 'StochasticSampling'}, 'algorithm_config_overrides_per_module': {}, 'policy_map_capacity': 100, 'policy_mapping_fn': <function AlgorithmConfig.DEFAULT_POLICY_MAPPING_FN at 0x7e8614212950>, 'policies_to_train': None, 'policy_states_are_swappable': False, 'observation_fn': None, 'count_steps_by': 'env_steps', 'input_config': {}, 'actions_in_input_normalized': False, 'postprocess_inputs': False, 'shuffle_buffer_size': 0, 'output': None, 'output_config': {}, 'output_compress_columns': ['obs', 'new_obs'], 'output_max_file_size': 67108864, 'offline_sampling': False, 'evaluation_interval': None, 'evaluation_duration': 10, 'evaluation_duration_unit': 'episodes', 'evaluation_sample_timeout_s': 180.0, 'evaluation_parallel_to_training': False, 'evaluation_config': None, 'off_policy_estimation_methods': {}, 'ope_split_batch_by_episode': True, 'evaluation_num_workers': 0, 'always_attach_evaluation_results': False, 'enable_async_evaluation': False, 'in_evaluation': False, 'sync_filters_on_rollout_workers_timeout_s': 60.0, 'keep_per_episode_custom_metrics': False, 'metrics_episode_collection_timeout_s': 60.0, 'metrics_num_episodes_for_smoothing': 100, 'min_time_s_per_iteration': None, 'min_train_timesteps_per_iteration': 0, 'min_sample_timesteps_per_iteration': 0, 'export_native_model_files': False, 'checkpoint_trainable_policies_only': False, 'logger_creator': None, 'logger_config': None, 'log_level': 'WARN', 'log_sys_usage': True, 'fake_sampler': False, 'seed': None, 'ignore_worker_failures': False, 'recreate_failed_workers': False, 'max_num_worker_restarts': 1000, 'delay_between_worker_restarts_s': 60.0, 'restart_failed_sub_environments': False, 'num_consecutive_worker_failures_tolerance': 100, 'worker_health_probe_timeout_s': 60, 'worker_restore_timeout_s': 1800, '_rl_module_spec': None, '_AlgorithmConfig__prior_exploration_config': None, '_enable_new_api_stack': False, '_tf_policy_handles_more_than_one_loss': False, '_disable_preprocessor_api': False, '_disable_action_flattening': False, '_disable_execution_plan_api': True, '_disable_initialize_loss_from_dummy_batch': False, 'simple_optimizer': False, 'policy_map_cache': -1, 'worker_cls': -1, 'synchronize_filters': -1, 'replay_sequence_length': None, 'lr_schedule': None, 'use_critic': True, 'use_gae': True, 'use_kl_loss': True, 'kl_coeff': 0.2, 'kl_target': 0.01, 'sgd_minibatch_size': 256, 'num_sgd_iter': 30, 'shuffle_sequences': True, 'vf_loss_coeff': 1.0, 'entropy_coeff': 0.0, 'entropy_coeff_schedule': None, 'clip_param': 0.1, 'vf_clip_param': 10.0, 'vf_share_layers': -1, 'reward_fn': <function basic_reward at 0x7e86126317e0>, 'num_iterations': 100000, '__stdout_file__': None, '__stderr_file__': None, 'lambda': 0.9, 'input': 'sampler', 'policies': {'default_policy': (None, None, None, None)}, 'callbacks': <class 'ray.rllib.algorithms.callbacks.DefaultCallbacks'>, 'create_env_on_driver': False, 'custom_eval_function': None, 'framework': 'tf', 'num_cpus_for_driver': 1, 'num_workers': 1}\n",
            "+------------------------------------------------------------------------------------------------------------------------------------------------------------------------------------+\n",
            "| Trial name                       status       iter     total time (s)      ts     reward     episode_reward_max     episode_reward_min     episode_len_mean     episodes_this_iter |\n",
            "+------------------------------------------------------------------------------------------------------------------------------------------------------------------------------------+\n",
            "| PPO_LunarLander-v2_0934b_00000   RUNNING        33            94.4372   33000   -166.188                 20.279               -410.608               216.99                      4 |\n",
            "+------------------------------------------------------------------------------------------------------------------------------------------------------------------------------------+\n"
          ]
        },
        {
          "output_type": "stream",
          "name": "stderr",
          "text": [
            "2024-01-07 12:00:15,539\tWARNING tune.py:186 -- Stop signal received (e.g. via SIGINT/Ctrl+C), ending Ray Tune run. This will try to checkpoint the experiment state one last time. Press CTRL+C (or send SIGINT/SIGKILL/SIGTERM) to skip. \n"
          ]
        },
        {
          "output_type": "stream",
          "name": "stdout",
          "text": [
            "Trial status: 1 RUNNING\n",
            "Current time: 2024-01-07 12:00:15. Total running time: 2min 1s\n",
            "Logical resource usage: 2.0/2 CPUs, 0/1 GPUs\n",
            "Current best trial: 0934b_00000 with episode_reward_mean=-166.18778892042405 and params={'extra_python_environs_for_driver': {}, 'extra_python_environs_for_worker': {}, 'num_gpus': 0, 'num_cpus_per_worker': 1, 'num_gpus_per_worker': 0, '_fake_gpus': False, 'num_learner_workers': 0, 'num_gpus_per_learner_worker': 0, 'num_cpus_per_learner_worker': 1, 'local_gpu_idx': 0, 'custom_resources_per_worker': {}, 'placement_strategy': 'PACK', 'eager_tracing': True, 'eager_max_retraces': 20, 'tf_session_args': {'intra_op_parallelism_threads': 2, 'inter_op_parallelism_threads': 2, 'gpu_options': {'allow_growth': True}, 'log_device_placement': False, 'device_count': {'CPU': 1}, 'allow_soft_placement': True}, 'local_tf_session_args': {'intra_op_parallelism_threads': 8, 'inter_op_parallelism_threads': 8}, 'torch_compile_learner': False, 'torch_compile_learner_what_to_compile': <TorchCompileWhatToCompile.FORWARD_TRAIN: 'forward_train'>, 'torch_compile_learner_dynamo_backend': 'inductor', 'torch_compile_learner_dynamo_mode': None, 'torch_compile_worker': False, 'torch_compile_worker_dynamo_backend': 'onnxrt', 'torch_compile_worker_dynamo_mode': None, 'env': 'LunarLander-v2', 'env_config': {}, 'observation_space': None, 'action_space': None, 'env_task_fn': None, 'render_env': False, 'clip_rewards': None, 'normalize_actions': True, 'clip_actions': False, 'disable_env_checking': False, 'auto_wrap_old_gym_envs': True, 'action_mask_key': 'action_mask', '_is_atari': None, 'env_runner_cls': None, 'num_envs_per_worker': 1, 'enable_connectors': True, 'rollout_fragment_length': 'auto', 'batch_mode': 'truncate_episodes', 'validate_workers_after_construction': True, 'compress_observations': False, 'sampler_perf_stats_ema_coef': None, 'sample_async': -1, 'remote_worker_envs': False, 'remote_env_batch_wait_ms': 0, 'enable_tf1_exec_eagerly': False, 'sample_collector': <class 'ray.rllib.evaluation.collectors.simple_list_collector.SimpleListCollector'>, 'preprocessor_pref': 'deepmind', 'observation_filter': 'NoFilter', 'update_worker_filter_stats': True, 'use_worker_filter_stats': True, 'gamma': 0.99, 'lr': 5e-05, 'grad_clip': None, 'grad_clip_by': 'global_norm', 'train_batch_size': 1000, 'model': {'_disable_preprocessor_api': False, '_disable_action_flattening': False, 'fcnet_hiddens': [256, 256], 'fcnet_activation': 'tanh', 'conv_filters': None, 'conv_activation': 'relu', 'post_fcnet_hiddens': [], 'post_fcnet_activation': 'relu', 'free_log_std': False, 'no_final_linear': False, 'vf_share_layers': False, 'use_lstm': False, 'max_seq_len': 20, 'lstm_cell_size': 256, 'lstm_use_prev_action': False, 'lstm_use_prev_reward': False, '_time_major': False, 'use_attention': False, 'attention_num_transformer_units': 1, 'attention_dim': 64, 'attention_num_heads': 1, 'attention_head_dim': 32, 'attention_memory_inference': 50, 'attention_memory_training': 50, 'attention_position_wise_mlp_dim': 32, 'attention_init_gru_gate_bias': 2.0, 'attention_use_n_prev_actions': 0, 'attention_use_n_prev_rewards': 0, 'framestack': True, 'dim': 84, 'grayscale': False, 'zero_mean': True, 'custom_model': None, 'custom_model_config': {}, 'custom_action_dist': None, 'custom_preprocessor': None, 'encoder_latent_dim': None, 'always_check_shapes': False, 'lstm_use_prev_action_reward': -1, '_use_default_native_models': -1}, 'optimizer': {}, 'max_requests_in_flight_per_sampler_worker': 2, '_learner_class': None, 'explore': True, 'exploration_config': {'type': 'StochasticSampling'}, 'algorithm_config_overrides_per_module': {}, 'policy_map_capacity': 100, 'policy_mapping_fn': <function AlgorithmConfig.DEFAULT_POLICY_MAPPING_FN at 0x7e8614212950>, 'policies_to_train': None, 'policy_states_are_swappable': False, 'observation_fn': None, 'count_steps_by': 'env_steps', 'input_config': {}, 'actions_in_input_normalized': False, 'postprocess_inputs': False, 'shuffle_buffer_size': 0, 'output': None, 'output_config': {}, 'output_compress_columns': ['obs', 'new_obs'], 'output_max_file_size': 67108864, 'offline_sampling': False, 'evaluation_interval': None, 'evaluation_duration': 10, 'evaluation_duration_unit': 'episodes', 'evaluation_sample_timeout_s': 180.0, 'evaluation_parallel_to_training': False, 'evaluation_config': None, 'off_policy_estimation_methods': {}, 'ope_split_batch_by_episode': True, 'evaluation_num_workers': 0, 'always_attach_evaluation_results': False, 'enable_async_evaluation': False, 'in_evaluation': False, 'sync_filters_on_rollout_workers_timeout_s': 60.0, 'keep_per_episode_custom_metrics': False, 'metrics_episode_collection_timeout_s': 60.0, 'metrics_num_episodes_for_smoothing': 100, 'min_time_s_per_iteration': None, 'min_train_timesteps_per_iteration': 0, 'min_sample_timesteps_per_iteration': 0, 'export_native_model_files': False, 'checkpoint_trainable_policies_only': False, 'logger_creator': None, 'logger_config': None, 'log_level': 'WARN', 'log_sys_usage': True, 'fake_sampler': False, 'seed': None, 'ignore_worker_failures': False, 'recreate_failed_workers': False, 'max_num_worker_restarts': 1000, 'delay_between_worker_restarts_s': 60.0, 'restart_failed_sub_environments': False, 'num_consecutive_worker_failures_tolerance': 100, 'worker_health_probe_timeout_s': 60, 'worker_restore_timeout_s': 1800, '_rl_module_spec': None, '_AlgorithmConfig__prior_exploration_config': None, '_enable_new_api_stack': False, '_tf_policy_handles_more_than_one_loss': False, '_disable_preprocessor_api': False, '_disable_action_flattening': False, '_disable_execution_plan_api': True, '_disable_initialize_loss_from_dummy_batch': False, 'simple_optimizer': False, 'policy_map_cache': -1, 'worker_cls': -1, 'synchronize_filters': -1, 'replay_sequence_length': None, 'lr_schedule': None, 'use_critic': True, 'use_gae': True, 'use_kl_loss': True, 'kl_coeff': 0.2, 'kl_target': 0.01, 'sgd_minibatch_size': 256, 'num_sgd_iter': 30, 'shuffle_sequences': True, 'vf_loss_coeff': 1.0, 'entropy_coeff': 0.0, 'entropy_coeff_schedule': None, 'clip_param': 0.1, 'vf_clip_param': 10.0, 'vf_share_layers': -1, 'reward_fn': <function basic_reward at 0x7e86126317e0>, 'num_iterations': 100000, '__stdout_file__': None, '__stderr_file__': None, 'lambda': 0.9, 'input': 'sampler', 'policies': {'default_policy': (None, None, None, None)}, 'callbacks': <class 'ray.rllib.algorithms.callbacks.DefaultCallbacks'>, 'create_env_on_driver': False, 'custom_eval_function': None, 'framework': 'tf', 'num_cpus_for_driver': 1, 'num_workers': 1}\n",
            "+------------------------------------------------------------------------------------------------------------------------------------------------------------------------------------+\n",
            "| Trial name                       status       iter     total time (s)      ts     reward     episode_reward_max     episode_reward_min     episode_len_mean     episodes_this_iter |\n",
            "+------------------------------------------------------------------------------------------------------------------------------------------------------------------------------------+\n",
            "| PPO_LunarLander-v2_0934b_00000   RUNNING        33            94.4372   33000   -166.188                 20.279               -410.608               216.99                      4 |\n",
            "+------------------------------------------------------------------------------------------------------------------------------------------------------------------------------------+\n"
          ]
        },
        {
          "output_type": "stream",
          "name": "stderr",
          "text": [
            "2024-01-07 12:00:16,517\tWARNING tune.py:1057 -- Experiment has been interrupted, but the most recent state was saved.\n",
            "Resume experiment with: tune.run(..., resume=True)\n"
          ]
        },
        {
          "output_type": "stream",
          "name": "stdout",
          "text": [
            "\n"
          ]
        }
      ],
      "source": [
        "# Launch training in discrete space, using best hyperparams and custom reward\n",
        "ray.shutdown()\n",
        "ray.init(num_cpus=2, num_gpus=1, ignore_reinit_error=True)\n",
        "res = train_ppo('LunarLander-v2', reward_fn=basic_reward, lr=5e-5, lbd=0.9, clip_param=0.1)\n",
        "ray.shutdown()"
      ]
    },
    {
      "cell_type": "code",
      "execution_count": null,
      "metadata": {
        "id": "vFvrRt8unUKe"
      },
      "outputs": [],
      "source": [
        "analyze_and_plot(res)"
      ]
    },
    {
      "cell_type": "markdown",
      "metadata": {
        "id": "WT7VrPe37WXM"
      },
      "source": [
        "# Continuous env"
      ]
    },
    {
      "cell_type": "code",
      "execution_count": 2,
      "metadata": {
        "colab": {
          "base_uri": "https://localhost:8080/",
          "height": 250
        },
        "id": "qGdhc-8N7ZDn",
        "outputId": "91b83938-476d-4e06-d629-cf1ff29dc15c"
      },
      "outputs": [
        {
          "output_type": "stream",
          "name": "stderr",
          "text": [
            "2024-01-07 11:50:37,829\tINFO worker.py:1724 -- Started a local Ray instance.\n"
          ]
        },
        {
          "output_type": "error",
          "ename": "NameError",
          "evalue": "name 'train_ppo' is not defined",
          "traceback": [
            "\u001b[0;31m---------------------------------------------------------------------------\u001b[0m",
            "\u001b[0;31mNameError\u001b[0m                                 Traceback (most recent call last)",
            "\u001b[0;32m<ipython-input-2-1b3e930a4306>\u001b[0m in \u001b[0;36m<cell line: 6>\u001b[0;34m()\u001b[0m\n\u001b[1;32m      4\u001b[0m \u001b[0mray\u001b[0m\u001b[0;34m.\u001b[0m\u001b[0mshutdown\u001b[0m\u001b[0;34m(\u001b[0m\u001b[0;34m)\u001b[0m\u001b[0;34m\u001b[0m\u001b[0;34m\u001b[0m\u001b[0m\n\u001b[1;32m      5\u001b[0m \u001b[0mray\u001b[0m\u001b[0;34m.\u001b[0m\u001b[0minit\u001b[0m\u001b[0;34m(\u001b[0m\u001b[0mnum_cpus\u001b[0m\u001b[0;34m=\u001b[0m\u001b[0;36m2\u001b[0m\u001b[0;34m,\u001b[0m \u001b[0mnum_gpus\u001b[0m\u001b[0;34m=\u001b[0m\u001b[0;36m1\u001b[0m\u001b[0;34m,\u001b[0m \u001b[0mignore_reinit_error\u001b[0m\u001b[0;34m=\u001b[0m\u001b[0;32mTrue\u001b[0m\u001b[0;34m)\u001b[0m\u001b[0;34m\u001b[0m\u001b[0;34m\u001b[0m\u001b[0m\n\u001b[0;32m----> 6\u001b[0;31m \u001b[0mcontinuous_res\u001b[0m \u001b[0;34m=\u001b[0m \u001b[0mtrain_ppo\u001b[0m\u001b[0;34m(\u001b[0m\u001b[0menv_name\u001b[0m\u001b[0;34m=\u001b[0m\u001b[0menv\u001b[0m\u001b[0;34m,\u001b[0m \u001b[0mreward_fn\u001b[0m\u001b[0;34m=\u001b[0m\u001b[0mcomplex_reward\u001b[0m\u001b[0;34m,\u001b[0m \u001b[0mlr\u001b[0m\u001b[0;34m=\u001b[0m\u001b[0;36m1e-4\u001b[0m\u001b[0;34m,\u001b[0m \u001b[0mlbd\u001b[0m\u001b[0;34m=\u001b[0m\u001b[0;36m0.9\u001b[0m\u001b[0;34m,\u001b[0m \u001b[0mclip_param\u001b[0m\u001b[0;34m=\u001b[0m\u001b[0;36m0.2\u001b[0m\u001b[0;34m)\u001b[0m\u001b[0;34m\u001b[0m\u001b[0;34m\u001b[0m\u001b[0m\n\u001b[0m\u001b[1;32m      7\u001b[0m \u001b[0mray\u001b[0m\u001b[0;34m.\u001b[0m\u001b[0mshutdown\u001b[0m\u001b[0;34m(\u001b[0m\u001b[0;34m)\u001b[0m\u001b[0;34m\u001b[0m\u001b[0;34m\u001b[0m\u001b[0m\n",
            "\u001b[0;31mNameError\u001b[0m: name 'train_ppo' is not defined"
          ]
        }
      ],
      "source": [
        "# We just change env\n",
        "import ray\n",
        "env=\"LunarLanderContinuous-v2\"\n",
        "ray.shutdown()\n",
        "ray.init(num_cpus=2, num_gpus=1, ignore_reinit_error=True)\n",
        "continuous_res = train_ppo(env_name=env, reward_fn=complex_reward, lr=1e-4, lbd=0.9, clip_param=0.2)\n",
        "ray.shutdown()"
      ]
    },
    {
      "cell_type": "code",
      "source": [
        "analyze_and_plot(continuous_res)"
      ],
      "metadata": {
        "id": "yfXbAQolv81N"
      },
      "execution_count": null,
      "outputs": []
    }
  ],
  "metadata": {
    "accelerator": "GPU",
    "colab": {
      "provenance": [],
      "authorship_tag": "ABX9TyMooChEyo8AECgNYb+SoBw3",
      "include_colab_link": true
    },
    "kernelspec": {
      "display_name": "Python 3",
      "name": "python3"
    },
    "language_info": {
      "name": "python"
    }
  },
  "nbformat": 4,
  "nbformat_minor": 0
}